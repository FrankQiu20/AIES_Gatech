{
  "nbformat": 4,
  "nbformat_minor": 0,
  "metadata": {
    "colab": {
      "provenance": []
    },
    "kernelspec": {
      "name": "python3",
      "display_name": "Python 3"
    },
    "language_info": {
      "name": "python"
    }
  },
  "cells": [
    {
      "cell_type": "code",
      "execution_count": null,
      "metadata": {
        "colab": {
          "base_uri": "https://localhost:8080/"
        },
        "id": "1CW_ft6Ovwvd",
        "outputId": "7f682145-3d67-4bc9-db47-cb7c0edb7be3"
      },
      "outputs": [
        {
          "output_type": "stream",
          "name": "stdout",
          "text": [
            "0.2834791\n",
            "0.2341164\n",
            "0.33342198\n",
            "0.11041949\n",
            "0.26449707\n",
            "1.0\n",
            "0.5876938\n",
            "0.12343917\n",
            "0.28924733\n",
            "0.15348099\n",
            "0.09874005\n",
            "0.10762214\n",
            "0.08736356\n",
            "0.112269185\n",
            "0.09457928\n"
          ]
        }
      ],
      "source": [
        "from gensim.models import Word2Vec\n",
        "import gensim.models\n",
        "import nltk\n",
        "newmodel = gensim.models.KeyedVectors.load_word2vec_format(\"/reducedvector.bin\", binary=True)\n",
        "#newmodel.most_similar('man', topn=5)\n",
        "print(newmodel.similarity('man', 'wife'))\n",
        "print(newmodel.similarity('man', 'husband'))\n",
        "print(newmodel.similarity('child', 'man'))\n",
        "print(newmodel.similarity('queen', 'man'))\n",
        "print(newmodel.similarity('king', 'man'))\n",
        "print(newmodel.similarity('man', 'man'))\n",
        "print(newmodel.similarity('woman', 'man'))\n",
        "print(newmodel.similarity('birth', 'man'))\n",
        "print(newmodel.similarity('doctor', 'man'))\n",
        "print(newmodel.similarity('nurse', 'man'))\n",
        "print(newmodel.similarity('teacher', 'man'))\n",
        "print(newmodel.similarity('professor', 'man'))\n",
        "print(newmodel.similarity('engineer', 'man'))\n",
        "print(newmodel.similarity('scientist', 'man'))\n",
        "print(newmodel.similarity('president', 'man'))"
      ]
    },
    {
      "cell_type": "code",
      "source": [],
      "metadata": {
        "id": "FCV9yxKu6aJc"
      },
      "execution_count": null,
      "outputs": []
    },
    {
      "cell_type": "code",
      "execution_count": null,
      "metadata": {
        "colab": {
          "base_uri": "https://localhost:8080/"
        },
        "outputId": "b5a86c8d-36e6-4c0f-9397-ab6271463ccb",
        "id": "NftIccYo6agq"
      },
      "outputs": [
        {
          "output_type": "stream",
          "name": "stdout",
          "text": [
            "0.3006885\n",
            "0.4496431\n",
            "0.5898086\n",
            "0.22857244\n",
            "0.122528546\n",
            "0.5876938\n",
            "0.99999994\n",
            "0.42030877\n",
            "0.19613354\n",
            "0.25435838\n",
            "0.2040782\n",
            "0.105198584\n",
            "0.044264376\n",
            "0.13731062\n",
            "0.08462686\n"
          ]
        }
      ],
      "source": [
        "from gensim.models import Word2Vec\n",
        "import gensim.models\n",
        "import nltk\n",
        "newmodel = gensim.models.KeyedVectors.load_word2vec_format(\"/reducedvector.bin\", binary=True)\n",
        "#newmodel.most_similar('man', topn=5)\n",
        "print(newmodel.similarity('woman', 'wife'))\n",
        "print(newmodel.similarity('woman', 'husband'))\n",
        "print(newmodel.similarity('child', 'woman'))\n",
        "print(newmodel.similarity('queen', 'woman'))\n",
        "print(newmodel.similarity('king', 'woman'))\n",
        "print(newmodel.similarity('man', 'woman'))\n",
        "print(newmodel.similarity('woman', 'woman'))\n",
        "print(newmodel.similarity('birth', 'woman'))\n",
        "print(newmodel.similarity('doctor', 'woman'))\n",
        "print(newmodel.similarity('nurse', 'woman'))\n",
        "print(newmodel.similarity('teacher', 'woman'))\n",
        "print(newmodel.similarity('professor', 'woman'))\n",
        "print(newmodel.similarity('engineer', 'woman'))\n",
        "print(newmodel.similarity('scientist', 'woman'))\n",
        "print(newmodel.similarity('president', 'woman'))"
      ]
    },
    {
      "cell_type": "code",
      "source": [],
      "metadata": {
        "id": "SMBhv5DW-b3_"
      },
      "execution_count": null,
      "outputs": []
    },
    {
      "cell_type": "code",
      "execution_count": null,
      "metadata": {
        "colab": {
          "base_uri": "https://localhost:8080/"
        },
        "outputId": "e73d75b5-ff07-441d-cb85-638766a381f6",
        "id": "w6MOo45r_L36"
      },
      "outputs": [
        {
          "output_type": "stream",
          "name": "stdout",
          "text": [
            "0.061595496\n",
            "0.44244874\n",
            "0.3019725\n",
            "0.24673524\n",
            "0.26871613\n",
            "0.5238126\n",
            "0.30943274\n",
            "0.2696868\n",
            "0.3836036\n",
            "-0.028229587\n",
            "0.54602015\n",
            "0.41054577\n",
            "0.45134944\n",
            "0.20803691\n"
          ]
        }
      ],
      "source": [
        "from gensim.models import Word2Vec\n",
        "import gensim.models\n",
        "import nltk\n",
        "newmodel = gensim.models.KeyedVectors.load_word2vec_format(\"/reducedvector.bin\", binary=True)\n",
        "#newmodel.most_similar('man', topn=5)\n",
        "print(newmodel.similarity('according', 'accordingly'))\n",
        "print(newmodel.similarity('actual', 'actually'))\n",
        "print(newmodel.similarity('additional', 'additionally'))\n",
        "print(newmodel.similarity('apparent', 'apparently'))\n",
        "print(newmodel.similarity('beautiful', 'beautifully'))\n",
        "print(newmodel.similarity('clinical', 'clinically'))\n",
        "print(newmodel.similarity('creative', 'creatively'))\n",
        "print(newmodel.similarity('critical', 'critically'))\n",
        "print(newmodel.similarity('cultural', 'culturally'))\n",
        "print(newmodel.similarity('decided', 'decidedly'))\n",
        "print(newmodel.similarity('different', 'differently'))\n",
        "print(newmodel.similarity('digital', 'digitally'))\n",
        "print(newmodel.similarity('effective', 'effectively'))\n",
        "print(newmodel.similarity('environmental', 'environmentally'))\n",
        "print(newmodel.similarity('extensive', 'extensively'))\n",
        "print(newmodel.similarity('famous', 'famously'))\n",
        "print(newmodel.similarity('federal', 'federally'))\n",
        "print(newmodel.similarity('financial', 'financially'))\n",
        "print(newmodel.similarity('global', 'globally'))\n",
        "print(newmodel.similarity('historical', 'historically'))\n",
        "print(newmodel.similarity('huge', 'hugely'))\n",
        "print(newmodel.similarity('immediate', 'immediately'))\n",
        "print(newmodel.similarity('important', 'importantly'))\n",
        "print(newmodel.similarity('increasing', 'increasingly'))\n",
        "print(newmodel.similarity('interesting', 'interestingly'))\n",
        "print(newmodel.similarity('internal', 'internally'))\n",
        "print(newmodel.similarity('international', 'internationally'))\n",
        "print(newmodel.similarity('legal', 'legally'))\n",
        "print(newmodel.similarity('mental', 'mentally'))\n",
        "print(newmodel.similarity('nice', 'nicely'))\n",
        "print(newmodel.similarity('obvious', 'obviously'))\n",
        "print(newmodel.similarity('physical', 'physically'))\n",
        "print(newmodel.similarity('political', 'politically'))\n",
        "print(newmodel.similarity('popular', 'popularly'))\n",
        "print(newmodel.similarity('practical', 'practically'))\n",
        "print(newmodel.similarity('previous', 'previously'))\n",
        "print(newmodel.similarity('rare', 'rarely'))\n",
        "print(newmodel.similarity('regional', 'regionally'))\n",
        "print(newmodel.similarity('serious', 'seriously'))\n",
        "print(newmodel.similarity('sexual', 'sexually'))\n",
        "print(newmodel.similarity('significant', 'significantly'))\n",
        "print(newmodel.similarity('similar', 'similarly'))\n",
        "print(newmodel.similarity('strong', 'strongly'))\n",
        "print(newmodel.similarity('subsequent', 'subsequently'))\n",
        "print(newmodel.similarity('successful', 'successfully'))\n",
        "print(newmodel.similarity('traditional', 'traditionally'))\n",
        "print(newmodel.similarity('typical', 'typically'))\n",
        "print(newmodel.similarity('unique', 'uniquely'))\n",
        "print(newmodel.similarity('virtual', 'virtually'))\n",
        "print(newmodel.similarity('visual', 'visually'))"
      ]
    },
    {
      "cell_type": "code",
      "source": [],
      "metadata": {
        "id": "5dNzc13EJtaS"
      },
      "execution_count": null,
      "outputs": []
    },
    {
      "cell_type": "code",
      "execution_count": null,
      "metadata": {
        "colab": {
          "base_uri": "https://localhost:8080/"
        },
        "outputId": "a5fd01a0-b313-483c-ce39-d3e15e26dd44",
        "id": "uLunANGEJt1S"
      },
      "outputs": [
        {
          "output_type": "stream",
          "name": "stdout",
          "text": [
            "0.06251456\n",
            "0.061589826\n",
            "0.071749516\n",
            "-0.041571133\n",
            "0.21346048\n",
            "-0.021671643\n",
            "-0.0070778835\n",
            "-0.007925573\n",
            "0.0653969\n",
            "-0.014144514\n",
            "0.10881068\n",
            "-0.015050295\n",
            "-0.029445952\n",
            "-0.033453442\n",
            "0.05903814\n",
            "0.15551479\n",
            "0.03432816\n",
            "-0.017173773\n",
            "0.021467935\n",
            "0.05450796\n",
            "0.15409546\n",
            "-0.0600981\n",
            "0.008602248\n",
            "-0.025291301\n",
            "0.02115572\n",
            "0.04134549\n",
            "0.024492223\n",
            "0.016782178\n",
            "-0.06449637\n",
            "0.040903863\n",
            "0.034305748\n",
            "0.089367434\n",
            "0.094579495\n",
            "0.12525709\n",
            "0.02744264\n",
            "0.046343\n",
            "0.13584247\n",
            "0.034985803\n",
            "0.034479346\n",
            "0.093793415\n",
            "0.09569914\n",
            "0.25513443\n",
            "0.107655406\n",
            "-0.0029257853\n",
            "0.0554646\n",
            "0.09244794\n",
            "0.21895845\n",
            "0.17502601\n",
            "0.07424319\n",
            "0.08044539\n"
          ]
        }
      ],
      "source": [
        "from gensim.models import Word2Vec\n",
        "import gensim.models\n",
        "import nltk\n",
        "newmodel = gensim.models.KeyedVectors.load_word2vec_format(\"/reducedvector.bin\", binary=True)\n",
        "#newmodel.most_similar('man', topn=5)\n",
        "print(newmodel.similarity('according', 'white'))\n",
        "print(newmodel.similarity('actual', 'white'))\n",
        "print(newmodel.similarity('additional', 'white'))\n",
        "print(newmodel.similarity('apparent', 'white'))\n",
        "print(newmodel.similarity('beautiful', 'white'))\n",
        "print(newmodel.similarity('clinical', 'white'))\n",
        "print(newmodel.similarity('creative', 'white'))\n",
        "print(newmodel.similarity('critical', 'white'))\n",
        "print(newmodel.similarity('cultural', 'white'))\n",
        "print(newmodel.similarity('decided', 'white'))\n",
        "print(newmodel.similarity('different', 'white'))\n",
        "print(newmodel.similarity('digital', 'white'))\n",
        "print(newmodel.similarity('effective', 'white'))\n",
        "print(newmodel.similarity('environmental', 'white'))\n",
        "print(newmodel.similarity('extensive', 'white'))\n",
        "print(newmodel.similarity('famous', 'white'))\n",
        "print(newmodel.similarity('federal', 'white'))\n",
        "print(newmodel.similarity('financial', 'white'))\n",
        "print(newmodel.similarity('global', 'white'))\n",
        "print(newmodel.similarity('historical', 'white'))\n",
        "print(newmodel.similarity('huge', 'white'))\n",
        "print(newmodel.similarity('immediate', 'white'))\n",
        "print(newmodel.similarity('important', 'white'))\n",
        "print(newmodel.similarity('increasing', 'white'))\n",
        "print(newmodel.similarity('interesting', 'white'))\n",
        "print(newmodel.similarity('internal', 'white'))\n",
        "print(newmodel.similarity('international', 'white'))\n",
        "print(newmodel.similarity('legal', 'white'))\n",
        "print(newmodel.similarity('mental', 'white'))\n",
        "print(newmodel.similarity('nice', 'white'))\n",
        "print(newmodel.similarity('obvious', 'white'))\n",
        "print(newmodel.similarity('physical', 'white'))\n",
        "print(newmodel.similarity('political', 'white'))\n",
        "print(newmodel.similarity('popular', 'white'))\n",
        "print(newmodel.similarity('practical', 'white'))\n",
        "print(newmodel.similarity('previous', 'white'))\n",
        "print(newmodel.similarity('rare', 'white'))\n",
        "print(newmodel.similarity('regional', 'white'))\n",
        "print(newmodel.similarity('serious', 'white'))\n",
        "print(newmodel.similarity('sexual', 'white'))\n",
        "print(newmodel.similarity('significant', 'white'))\n",
        "print(newmodel.similarity('similar', 'white'))\n",
        "print(newmodel.similarity('strong', 'white'))\n",
        "print(newmodel.similarity('subsequent', 'white'))\n",
        "print(newmodel.similarity('successful', 'white'))\n",
        "print(newmodel.similarity('traditional', 'white'))\n",
        "print(newmodel.similarity('typical', 'white'))\n",
        "print(newmodel.similarity('unique', 'white'))\n",
        "print(newmodel.similarity('virtual', 'white'))\n",
        "print(newmodel.similarity('visual', 'white'))"
      ]
    },
    {
      "cell_type": "code",
      "source": [],
      "metadata": {
        "id": "9gIajDYQMcVG"
      },
      "execution_count": null,
      "outputs": []
    },
    {
      "cell_type": "code",
      "execution_count": null,
      "metadata": {
        "colab": {
          "base_uri": "https://localhost:8080/"
        },
        "outputId": "35f267bc-1347-4bc0-a96e-9c4d25238dff",
        "id": "pdGf9tesMct2"
      },
      "outputs": [
        {
          "output_type": "stream",
          "name": "stdout",
          "text": [
            "0.143\n",
            "-0.005153299\n",
            "0.037119567\n",
            "0.012337883\n",
            "0.049579017\n",
            "-0.031607922\n",
            "0.06951619\n",
            "0.07620029\n",
            "0.3314859\n",
            "-0.016599355\n",
            "-0.0069510587\n",
            "-0.0024142272\n",
            "-0.0017215948\n",
            "0.15139525\n",
            "0.12049514\n",
            "0.042888805\n",
            "0.043072462\n",
            "0.29685366\n",
            "0.16908072\n",
            "0.22477676\n",
            "0.129577\n",
            "0.050508738\n",
            "0.13409306\n",
            "0.15961258\n",
            "0.031209841\n",
            "0.0833086\n",
            "0.20824772\n",
            "0.07674284\n",
            "0.072713785\n",
            "-0.07610473\n",
            "0.046810485\n",
            "0.00442214\n",
            "0.14903717\n",
            "0.2144471\n",
            "0.08930125\n",
            "0.037431978\n",
            "0.09936501\n",
            "0.3649374\n",
            "0.12170855\n",
            "0.06889947\n",
            "0.2557317\n",
            "0.07822731\n",
            "0.17915581\n",
            "0.16596468\n",
            "0.15075763\n",
            "0.2594241\n",
            "0.075049445\n",
            "0.1409132\n",
            "0.04585835\n",
            "0.032066025\n"
          ]
        }
      ],
      "source": [
        "from gensim.models import Word2Vec\n",
        "import gensim.models\n",
        "import nltk\n",
        "newmodel = gensim.models.KeyedVectors.load_word2vec_format(\"/reducedvector.bin\", binary=True)\n",
        "#newmodel.most_similar('man', topn=5)\n",
        "print(round(newmodel.similarity('according', 'asian'),3))\n",
        "print(newmodel.similarity('actual', 'asian'))\n",
        "print(newmodel.similarity('additional', 'asian'))\n",
        "print(newmodel.similarity('apparent', 'asian'))\n",
        "print(newmodel.similarity('beautiful', 'asian'))\n",
        "print(newmodel.similarity('clinical', 'asian'))\n",
        "print(newmodel.similarity('creative', 'asian'))\n",
        "print(newmodel.similarity('critical', 'asian'))\n",
        "print(newmodel.similarity('cultural', 'asian'))\n",
        "print(newmodel.similarity('decided', 'asian'))\n",
        "print(newmodel.similarity('different', 'asian'))\n",
        "print(newmodel.similarity('digital', 'asian'))\n",
        "print(newmodel.similarity('effective', 'asian'))\n",
        "print(newmodel.similarity('environmental', 'asian'))\n",
        "print(newmodel.similarity('extensive', 'asian'))\n",
        "print(newmodel.similarity('famous', 'asian'))\n",
        "print(newmodel.similarity('federal', 'asian'))\n",
        "print(newmodel.similarity('financial', 'asian'))\n",
        "print(newmodel.similarity('global', 'asian'))\n",
        "print(newmodel.similarity('historical', 'asian'))\n",
        "print(newmodel.similarity('huge', 'asian'))\n",
        "print(newmodel.similarity('immediate', 'asian'))\n",
        "print(newmodel.similarity('important', 'asian'))\n",
        "print(newmodel.similarity('increasing', 'asian'))\n",
        "print(newmodel.similarity('interesting', 'asian'))\n",
        "print(newmodel.similarity('internal', 'asian'))\n",
        "print(newmodel.similarity('international', 'asian'))\n",
        "print(newmodel.similarity('legal', 'asian'))\n",
        "print(newmodel.similarity('mental', 'asian'))\n",
        "print(newmodel.similarity('nice', 'asian'))\n",
        "print(newmodel.similarity('obvious', 'asian'))\n",
        "print(newmodel.similarity('physical', 'asian'))\n",
        "print(newmodel.similarity('political', 'asian'))\n",
        "print(newmodel.similarity('popular', 'asian'))\n",
        "print(newmodel.similarity('practical', 'asian'))\n",
        "print(newmodel.similarity('previous', 'asian'))\n",
        "print(newmodel.similarity('rare', 'asian'))\n",
        "print(newmodel.similarity('regional', 'asian'))\n",
        "print(newmodel.similarity('serious', 'asian'))\n",
        "print(newmodel.similarity('sexual', 'asian'))\n",
        "print(newmodel.similarity('significant', 'asian'))\n",
        "print(newmodel.similarity('similar', 'asian'))\n",
        "print(newmodel.similarity('strong', 'asian'))\n",
        "print(newmodel.similarity('subsequent', 'asian'))\n",
        "print(newmodel.similarity('successful', 'asian'))\n",
        "print(newmodel.similarity('traditional', 'asian'))\n",
        "print(newmodel.similarity('typical', 'asian'))\n",
        "print(newmodel.similarity('unique', 'asian'))\n",
        "print(newmodel.similarity('virtual', 'asian'))\n",
        "print(newmodel.similarity('visual', 'asian'))"
      ]
    },
    {
      "cell_type": "code",
      "source": [
        "print(newmodel.most_similar(positive=['judge', 'throne'], negative=['king'], topn=1))\n",
        "print(newmodel.most_similar(positive=['genius', 'dwarf'], negative=['giant'], topn=1))\n",
        "print(newmodel.most_similar(positive=['jail', 'dean'], negative=['college'], topn=1))\n",
        "print(newmodel.most_similar(positive=['line', 'circle'], negative=['arc'], topn=1))\n",
        "print(newmodel.most_similar(positive=['dutch', 'france'], negative=['french'], topn=1))\n",
        "print(newmodel.most_similar(positive=['king', 'woman'], negative=['man'], topn=1))\n",
        "print(newmodel.most_similar(positive=['liquid', 'ice'], negative=['water'], topn=1))\n",
        "print(newmodel.most_similar(positive=['sad', 'good'], negative=['bad'], topn=1))\n",
        "print(newmodel.most_similar(positive=['teacher', 'hospital'], negative=['nurse'], topn=1))\n",
        "print(newmodel.most_similar(positive=['japan', 'pizza'], negative=['usa'], topn=1))\n",
        "print(newmodel.most_similar(positive=['dog', 'house'], negative=['human'], topn=1))\n",
        "print(newmodel.most_similar(positive=['sky', 'green'], negative=['grass'], topn=1))\n",
        "print(newmodel.most_similar(positive=['computer', 'cassette'], negative=['video'], topn=1))\n",
        "print(newmodel.most_similar(positive=['house', 'planet'], negative=['universe'], topn=1))\n",
        "print(newmodel.most_similar(positive=['sickness', 'wealth'], negative=['poverty'], topn=1))"
      ],
      "metadata": {
        "colab": {
          "base_uri": "https://localhost:8080/"
        },
        "id": "WvwNOXobdsSy",
        "outputId": "60efa290-ea4a-42ce-d77b-596d78888d90"
      },
      "execution_count": null,
      "outputs": [
        {
          "output_type": "stream",
          "name": "stdout",
          "text": [
            "[('prosecution', 0.5186458826065063)]\n",
            "[('theorist', 0.428088903427124)]\n",
            "[('peress', 0.5444425344467163)]\n",
            "[('lines', 0.4287526309490204)]\n",
            "[('netherlands', 0.6044681072235107)]\n",
            "[('queen', 0.5532454252243042)]\n",
            "[('solid', 0.45000389218330383)]\n",
            "[('glory', 0.4403817355632782)]\n",
            "[('institution', 0.48289814591407776)]\n",
            "[('dishes', 0.5763506889343262)]\n",
            "[('hound', 0.4231664538383484)]\n",
            "[('blue', 0.5478643178939819)]\n",
            "[('peripherals', 0.6654507517814636)]\n",
            "[('houses', 0.4264702796936035)]\n",
            "[('impious', 0.4960610270500183)]\n"
          ]
        }
      ]
    },
    {
      "cell_type": "code",
      "source": [
        "print((newmodel.most_similar(positive=['judge', 'throne'], negative=['king'], topn=1)[0][0], round(newmodel.most_similar(positive=['judge', 'throne'], negative=['king'], topn=1)[0][1], 3)))\n",
        "print((newmodel.most_similar(positive=['genius', 'dwarf'], negative=['giant'], topn=1)[0][0], round(newmodel.most_similar(positive=['genius', 'dwarf'], negative=['giant'], topn=1)[0][1], 3)))\n",
        "print((newmodel.most_similar(positive=['jail', 'dean'], negative=['college'], topn=1)[0][0], round(newmodel.most_similar(positive=['jail', 'dean'], negative=['college'], topn=1)[0][1], 3)))\n",
        "print((newmodel.most_similar(positive=['line', 'circle'], negative=['arc'], topn=1)[0][0], round(newmodel.most_similar(positive=['line', 'circle'], negative=['arc'], topn=1)[0][1], 3)))\n",
        "print((newmodel.most_similar(positive=['dutch', 'france'], negative=['french'], topn=1)[0][0], round(newmodel.most_similar(positive=['dutch', 'france'], negative=['french'], topn=1)[0][1], 3)))\n",
        "print((newmodel.most_similar(positive=['king', 'woman'], negative=['man'], topn=1)[0][0], round(newmodel.most_similar(positive=['king', 'woman'], negative=['man'], topn=1)[0][1], 3)))\n",
        "print((newmodel.most_similar(positive=['liquid', 'ice'], negative=['water'], topn=1)[0][0], round(newmodel.most_similar(positive=['liquid', 'ice'], negative=['water'], topn=1)[0][1], 3)))\n",
        "print((newmodel.most_similar(positive=['sad', 'good'], negative=['bad'], topn=1)[0][0], round(newmodel.most_similar(positive=['sad', 'good'], negative=['bad'], topn=1)[0][1], 3)))\n",
        "print((newmodel.most_similar(positive=['teacher', 'hospital'], negative=['nurse'], topn=1)[0][0], round(newmodel.most_similar(positive=['teacher', 'hospital'], negative=['nurse'], topn=1)[0][1], 3)))\n",
        "print((newmodel.most_similar(positive=['japan', 'pizza'], negative=['usa'], topn=1)[0][0], round(newmodel.most_similar(positive=['japan', 'pizza'], negative=['usa'], topn=1)[0][1], 3)))\n",
        "print((newmodel.most_similar(positive=['dog', 'house'], negative=['human'], topn=1)[0][0], round(newmodel.most_similar(positive=['dog', 'house'], negative=['human'], topn=1)[0][1], 3)))\n",
        "print(newmodel.most_similar(positive=['sky', 'green'], negative=['grass'], topn=1))\n",
        "print(newmodel.most_similar(positive=['computer', 'cassette'], negative=['video'], topn=1))\n",
        "print(newmodel.most_similar(positive=['house', 'planet'], negative=['universe'], topn=1))\n",
        "print(newmodel.most_similar(positive=['sickness', 'wealth'], negative=['poverty'], topn=1))\n",
        "\n",
        "\n"
      ],
      "metadata": {
        "colab": {
          "base_uri": "https://localhost:8080/"
        },
        "id": "nSK5MVKFiYqQ",
        "outputId": "27e819cb-8855-4a94-ac5d-67ef2e7b3cf1"
      },
      "execution_count": null,
      "outputs": [
        {
          "output_type": "stream",
          "name": "stdout",
          "text": [
            "('prosecution', 0.519)\n",
            "('theorist', 0.428)\n",
            "('peress', 0.544)\n",
            "('lines', 0.429)\n",
            "('netherlands', 0.604)\n",
            "('queen', 0.553)\n",
            "('solid', 0.45)\n",
            "('glory', 0.44)\n",
            "('institution', 0.483)\n",
            "('dishes', 0.576)\n",
            "('hound', 0.423)\n",
            "[('blue', 0.5478643178939819)]\n",
            "[('peripherals', 0.6654507517814636)]\n",
            "[('houses', 0.4264702796936035)]\n",
            "[('impious', 0.4960610270500183)]\n"
          ]
        }
      ]
    },
    {
      "cell_type": "code",
      "source": [
        "from scipy.stats import pearsonr\n",
        "\n",
        "x = [0.303, 0.272, 0.278, 0.193, 0.419, 0.569, 0.655, 0.449, 0.533, 0.012, 0.284, 0.444, 0.328, 0.245, 0.446]\n",
        "y = [0.519, 0.428, 0.544, 0.429, 0.604, 0.553, 0.45, 0.44, 0.483, 0.576, 0.423, 0.548, 0.665, 0.426, 0.496]\n",
        "\n",
        "corr, p_value = pearsonr(x, y)\n",
        "print(\"Pearson correlation: \", round(corr, 3))\n"
      ],
      "metadata": {
        "colab": {
          "base_uri": "https://localhost:8080/"
        },
        "id": "ZSHoAG-vlY52",
        "outputId": "9974867d-9e58-4c01-b57b-dd42455e107f"
      },
      "execution_count": null,
      "outputs": [
        {
          "output_type": "stream",
          "name": "stdout",
          "text": [
            "Pearson correlation:  -0.036\n"
          ]
        }
      ]
    },
    {
      "cell_type": "code",
      "source": [
        "import tarfile\n",
        "\n",
        "with tarfile.open('/UTKface_cropped.tar.gz', 'r:gz') as tar:\n",
        "    filenames = tar.getnames()\n",
        "\n",
        "filenames.remove('crop_part1/61_1_20170109142408075.jpg.chip.jpg')\n",
        "filenames.remove('crop_part1/61_3_20170109150557335.jpg.chip.jpg')\n",
        "\n",
        "file_names = [s.replace('crop_part1/', '') for s in filenames ]\n",
        "\n",
        "\n",
        "age = [s.split('_')[0] for s in file_names]\n",
        "\n",
        "print(age)"
      ],
      "metadata": {
        "colab": {
          "base_uri": "https://localhost:8080/"
        },
        "id": "2XNLVINYdpeg",
        "outputId": "02a045b2-b0bf-42c0-ef5e-6c21a6c6c95b"
      },
      "execution_count": null,
      "outputs": [
        {
          "output_type": "stream",
          "name": "stdout",
          "text": [
            "[]\n"
          ]
        }
      ]
    },
    {
      "cell_type": "code",
      "source": [
        "import tarfile\n",
        "import re\n",
        "\n",
        "# Open the tar.gz file\n",
        "tar = tarfile.open('/UTKface_cropped.tar.gz')\n",
        "\n",
        "# Get a list of all the file names in the archive\n",
        "file_names = tar.getnames()\n",
        "\n",
        "# Remove the folder names from the file names\n",
        "file_names = [f.split('/')[-1] for f in file_names]\n",
        "\n",
        "# Close the archive file\n",
        "tar.close()\n",
        "\n",
        "# Print the resulting list of file names\n",
        "#print(file_names)\n",
        "\n",
        "index = -1\n",
        "for i, s in enumerate(file_names):\n",
        "    if 'crop' in s:\n",
        "        index = i\n",
        "        break\n",
        "\n",
        "if index != -1:\n",
        "    del file_names[index]\n",
        "\n",
        "\n",
        "file_names.remove('61_1_20170109142408075.jpg.chip.jpg')\n",
        "file_names.remove('61_3_20170109150557335.jpg.chip.jpg')\n",
        "\n",
        "age = [int(s.split('_')[0]) for s in file_names]\n",
        "\n",
        "\n",
        "print(age)\n",
        "print(len(age))\n",
        "\n",
        "genders = []\n",
        "\n",
        "for filename in file_names:\n",
        "    match = re.search(r'_(\\d+)_', filename)\n",
        "    if match:\n",
        "        gender = int(match.group(1))\n",
        "        genders.append(gender)\n",
        "\n",
        "print(genders)\n",
        "print(len(genders))\n",
        "\n",
        "\n",
        "races = []\n",
        "\n",
        "for s in file_names:\n",
        "    race = int(s.split('_')[2])\n",
        "    races.append(race)\n",
        "\n",
        "\n",
        "print(races)\n",
        "\n",
        "categories = {1: (0,20), 2: (21,40), 3: (41,60), 4: (61,80), 5: (81,116)}\n",
        "ages = []\n",
        "\n",
        "for value in age:\n",
        "    for key, (start, end) in categories.items():\n",
        "        if start <= value <= end:\n",
        "            ages.append(key)\n",
        "            break\n",
        "\n",
        "print(ages)\n",
        "\n",
        "######\n",
        "from itertools import product\n",
        "\n",
        "combinations = list(product(set(ages), set(genders), set(races)))\n",
        "\n",
        "for combination in combinations:\n",
        "    count = sum(1 for x, y, z in zip(ages, genders, races) if x == combination[0] and y == combination[1] and z == combination[2])\n",
        "    print(combination, count)\n",
        "from collections import Counter\n",
        "print(Counter(ages))\n",
        "print(len(ages))\n",
        "print(Counter(genders))\n",
        "\n",
        "combinations = list(product(set(genders), set(races)))\n",
        "\n",
        "for combination in combinations:\n",
        "    count = sum(1 for x, y in zip(genders, races) if x == combination[0] and y == combination[1])\n",
        "    print(combination, count)"
      ],
      "metadata": {
        "colab": {
          "base_uri": "https://localhost:8080/"
        },
        "id": "k-OrSSeb1tfI",
        "outputId": "14ea1092-13ac-47f0-e58e-a70f1e005db9"
      },
      "execution_count": 22,
      "outputs": [
        {
          "output_type": "stream",
          "name": "stdout",
          "text": [
            "[24, 3, 35, 5, 23, 20, 4, 90, 35, 85, 1, 41, 26, 11, 26, 80, 30, 51, 1, 27, 52, 31, 2, 85, 34, 29, 8, 42, 52, 55, 24, 12, 1, 79, 60, 8, 75, 49, 68, 41, 1, 32, 73, 3, 38, 45, 1, 1, 3, 38, 47, 29, 3, 58, 2, 2, 85, 53, 8, 2, 14, 95, 48, 33, 53, 24, 54, 2, 23, 18, 2, 1, 66, 55, 1, 34, 1, 2, 62, 52, 32, 12, 5, 53, 2, 7, 3, 50, 38, 63, 19, 5, 38, 18, 10, 24, 11, 1, 18, 5, 16, 4, 53, 18, 46, 1, 4, 46, 1, 45, 28, 60, 1, 52, 26, 2, 16, 10, 36, 14, 65, 10, 16, 1, 16, 6, 26, 61, 66, 38, 37, 3, 3, 8, 22, 44, 1, 4, 61, 14, 32, 4, 2, 85, 56, 1, 26, 50, 36, 38, 26, 46, 25, 20, 22, 38, 9, 85, 27, 28, 68, 53, 26, 1, 18, 4, 29, 56, 81, 72, 5, 4, 1, 1, 8, 77, 30, 2, 4, 1, 52, 12, 30, 14, 54, 75, 53, 6, 3, 1, 50, 14, 6, 25, 16, 45, 1, 1, 29, 11, 57, 1, 3, 1, 4, 59, 7, 49, 1, 50, 58, 92, 20, 3, 18, 65, 3, 63, 20, 29, 18, 1, 80, 29, 3, 47, 75, 21, 26, 24, 4, 62, 24, 21, 68, 39, 53, 32, 24, 3, 16, 58, 16, 51, 18, 16, 40, 61, 28, 8, 71, 32, 75, 85, 33, 36, 1, 40, 23, 7, 1, 1, 36, 1, 24, 30, 2, 1, 11, 40, 93, 70, 1, 3, 16, 4, 43, 3, 20, 4, 12, 3, 22, 2, 6, 3, 43, 50, 58, 24, 47, 4, 3, 6, 3, 15, 51, 17, 36, 85, 8, 85, 26, 22, 22, 80, 35, 1, 30, 7, 14, 24, 1, 80, 3, 2, 52, 28, 27, 39, 36, 8, 39, 36, 19, 25, 20, 66, 1, 43, 13, 50, 24, 42, 8, 61, 56, 22, 56, 18, 15, 2, 26, 45, 34, 92, 52, 24, 36, 1, 4, 56, 52, 75, 24, 2, 3, 52, 28, 12, 34, 71, 1, 47, 56, 24, 60, 1, 85, 39, 30, 2, 54, 16, 26, 19, 22, 2, 5, 50, 1, 75, 1, 18, 56, 28, 18, 70, 73, 40, 6, 16, 28, 1, 1, 1, 1, 3, 27, 1, 76, 30, 25, 1, 64, 55, 4, 71, 89, 43, 13, 6, 10, 15, 46, 17, 1, 2, 3, 56, 1, 52, 16, 2, 3, 2, 30, 55, 1, 1, 15, 9, 60, 15, 18, 75, 16, 41, 24, 35, 1, 19, 12, 53, 23, 2, 54, 20, 28, 49, 23, 18, 14, 56, 44, 10, 20, 24, 8, 65, 4, 23, 21, 85, 20, 7, 47, 33, 18, 71, 35, 8, 72, 14, 10, 53, 44, 26, 73, 61, 21, 1, 7, 17, 4, 24, 26, 60, 60, 71, 16, 36, 1, 16, 8, 1, 79, 13, 14, 25, 5, 36, 42, 1, 56, 1, 5, 52, 4, 14, 18, 25, 58, 27, 75, 2, 5, 21, 76, 2, 66, 22, 39, 26, 31, 16, 46, 23, 30, 69, 1, 3, 27, 2, 26, 48, 49, 15, 5, 6, 18, 1, 2, 5, 69, 50, 26, 82, 21, 42, 64, 1, 9, 29, 14, 1, 15, 16, 3, 5, 3, 14, 1, 54, 8, 34, 47, 22, 17, 9, 2, 89, 30, 8, 21, 46, 93, 34, 86, 20, 26, 15, 62, 46, 28, 50, 2, 41, 42, 1, 22, 8, 1, 14, 45, 50, 40, 80, 40, 3, 15, 26, 10, 26, 16, 32, 22, 60, 56, 3, 25, 5, 85, 11, 1, 10, 46, 45, 28, 2, 16, 31, 22, 3, 1, 2, 24, 45, 4, 5, 18, 3, 53, 26, 12, 4, 61, 40, 56, 1, 1, 16, 46, 26, 6, 8, 1, 54, 25, 1, 1, 33, 88, 15, 45, 77, 1, 36, 96, 5, 38, 1, 19, 26, 4, 16, 39, 49, 39, 3, 2, 49, 28, 41, 63, 10, 39, 31, 11, 22, 80, 14, 14, 28, 1, 85, 1, 26, 55, 47, 24, 1, 32, 73, 16, 35, 8, 11, 1, 1, 23, 14, 47, 9, 9, 50, 2, 41, 70, 85, 2, 16, 13, 1, 32, 61, 53, 30, 49, 23, 32, 3, 35, 32, 9, 72, 1, 1, 65, 1, 5, 10, 17, 82, 14, 63, 57, 8, 51, 28, 8, 40, 9, 24, 1, 59, 35, 60, 46, 34, 51, 51, 25, 26, 35, 1, 39, 26, 25, 50, 51, 72, 18, 14, 28, 43, 30, 60, 25, 73, 1, 31, 1, 10, 4, 1, 24, 23, 1, 52, 16, 12, 26, 1, 43, 54, 2, 22, 22, 8, 80, 27, 36, 22, 39, 85, 82, 35, 45, 20, 85, 38, 26, 52, 14, 7, 2, 24, 56, 16, 1, 29, 16, 6, 24, 24, 5, 13, 36, 29, 5, 19, 2, 5, 43, 32, 1, 23, 60, 6, 15, 11, 12, 14, 26, 52, 1, 14, 5, 48, 3, 3, 5, 28, 12, 78, 10, 22, 66, 65, 22, 53, 80, 46, 23, 38, 47, 9, 26, 9, 1, 36, 38, 54, 8, 17, 26, 63, 58, 52, 8, 1, 4, 2, 1, 85, 20, 25, 21, 1, 1, 63, 60, 1, 1, 30, 52, 3, 15, 11, 29, 27, 16, 35, 69, 80, 19, 22, 84, 2, 1, 55, 15, 54, 28, 65, 1, 90, 1, 17, 20, 28, 12, 42, 11, 14, 2, 11, 64, 47, 24, 38, 1, 35, 4, 85, 56, 54, 38, 1, 13, 54, 38, 15, 67, 1, 9, 72, 14, 21, 19, 63, 65, 84, 55, 14, 68, 38, 4, 37, 24, 2, 3, 22, 5, 16, 54, 19, 31, 56, 18, 63, 4, 27, 46, 34, 7, 5, 2, 7, 2, 26, 31, 1, 2, 4, 32, 1, 36, 1, 4, 3, 68, 47, 52, 50, 9, 49, 1, 1, 57, 27, 65, 1, 16, 50, 18, 85, 2, 25, 32, 52, 1, 39, 13, 66, 85, 2, 49, 61, 60, 75, 28, 1, 38, 21, 21, 1, 29, 50, 27, 12, 23, 4, 17, 47, 20, 68, 3, 4, 53, 1, 5, 1, 6, 26, 68, 24, 8, 26, 1, 68, 46, 2, 56, 28, 28, 89, 26, 24, 26, 28, 44, 31, 47, 42, 32, 78, 7, 15, 4, 1, 66, 4, 72, 19, 58, 1, 52, 53, 19, 2, 46, 75, 72, 37, 48, 3, 74, 21, 9, 90, 23, 7, 60, 48, 36, 49, 1, 26, 4, 92, 59, 52, 35, 30, 63, 1, 7, 6, 70, 1, 65, 1, 4, 31, 34, 6, 32, 2, 55, 24, 78, 42, 42, 24, 1, 86, 67, 16, 80, 67, 1, 1, 21, 15, 51, 25, 26, 68, 12, 21, 39, 7, 23, 9, 3, 45, 51, 10, 49, 60, 1, 9, 14, 18, 31, 75, 9, 1, 8, 5, 30, 46, 10, 62, 84, 75, 52, 40, 2, 47, 36, 42, 74, 17, 1, 1, 7, 15, 1, 29, 9, 4, 62, 50, 14, 65, 32, 57, 60, 1, 59, 37, 39, 75, 4, 21, 15, 58, 28, 50, 34, 85, 17, 8, 2, 75, 17, 5, 36, 68, 33, 3, 41, 27, 65, 39, 29, 10, 8, 82, 5, 63, 12, 44, 42, 20, 36, 58, 2, 70, 1, 52, 1, 1, 2, 61, 5, 8, 69, 5, 15, 38, 10, 9, 18, 9, 3, 60, 48, 10, 3, 37, 1, 22, 49, 16, 56, 1, 2, 36, 16, 28, 1, 1, 14, 18, 17, 27, 62, 13, 10, 17, 2, 68, 36, 51, 52, 45, 59, 85, 29, 3, 3, 4, 40, 26, 2, 25, 12, 32, 2, 24, 66, 56, 37, 49, 42, 12, 44, 11, 18, 27, 28, 14, 1, 9, 15, 24, 34, 12, 84, 61, 25, 41, 53, 20, 3, 4, 79, 3, 35, 4, 36, 45, 1, 1, 32, 62, 25, 79, 75, 1, 27, 2, 39, 76, 85, 39, 1, 29, 23, 25, 69, 1, 3, 9, 20, 80, 5, 53, 69, 2, 1, 19, 1, 5, 5, 29, 24, 23, 32, 8, 55, 29, 1, 34, 4, 96, 39, 8, 47, 25, 18, 33, 49, 7, 35, 49, 3, 47, 70, 56, 15, 4, 26, 9, 1, 4, 48, 81, 63, 63, 83, 32, 4, 1, 60, 26, 67, 53, 47, 1, 46, 27, 1, 1, 50, 53, 28, 15, 53, 38, 72, 8, 16, 41, 1, 1, 36, 3, 21, 3, 5, 24, 80, 64, 4, 65, 3, 3, 25, 18, 95, 3, 32, 34, 58, 72, 26, 45, 1, 47, 18, 69, 39, 65, 36, 16, 28, 1, 14, 25, 52, 12, 48, 29, 10, 80, 70, 40, 73, 58, 29, 43, 47, 16, 1, 1, 6, 10, 32, 1, 1, 1, 9, 77, 78, 29, 29, 2, 77, 63, 36, 34, 16, 1, 31, 90, 20, 1, 7, 21, 4, 84, 5, 15, 90, 4, 31, 72, 36, 45, 47, 37, 46, 5, 4, 22, 32, 28, 1, 39, 4, 6, 4, 30, 1, 1, 3, 2, 1, 1, 10, 22, 39, 55, 80, 41, 4, 1, 8, 21, 1, 45, 45, 21, 40, 70, 41, 24, 2, 90, 21, 66, 20, 12, 44, 60, 70, 57, 21, 60, 9, 7, 76, 71, 4, 28, 36, 6, 38, 21, 62, 14, 60, 16, 90, 86, 2, 57, 56, 3, 1, 29, 3, 23, 18, 1, 67, 1, 52, 56, 30, 53, 1, 3, 29, 28, 68, 48, 25, 26, 15, 1, 54, 37, 55, 37, 72, 8, 25, 11, 37, 90, 39, 18, 89, 82, 10, 3, 11, 9, 31, 42, 1, 25, 2, 85, 14, 75, 20, 56, 56, 56, 26, 26, 59, 77, 49, 29, 48, 1, 29, 30, 24, 2, 49, 39, 85, 65, 22, 47, 66, 2, 1, 53, 27, 56, 90, 1, 52, 24, 18, 49, 56, 27, 2, 12, 53, 49, 16, 25, 2, 1, 14, 39, 24, 26, 1, 1, 16, 44, 22, 14, 1, 8, 56, 22, 15, 31, 55, 16, 1, 61, 48, 1, 46, 56, 16, 64, 39, 64, 57, 26, 1, 60, 15, 19, 65, 1, 63, 16, 21, 21, 22, 39, 52, 9, 4, 1, 23, 1, 65, 26, 8, 11, 22, 15, 5, 72, 79, 22, 4, 4, 56, 8, 1, 22, 1, 50, 5, 22, 80, 1, 3, 50, 4, 2, 26, 1, 73, 85, 17, 9, 75, 65, 46, 7, 1, 40, 17, 57, 27, 52, 9, 3, 15, 2, 65, 56, 57, 5, 12, 5, 33, 33, 2, 75, 65, 1, 4, 20, 6, 9, 35, 9, 85, 8, 1, 1, 42, 1, 49, 1, 8, 3, 15, 57, 32, 8, 22, 53, 24, 39, 58, 1, 34, 60, 90, 6, 1, 14, 56, 20, 1, 71, 24, 65, 15, 38, 10, 49, 30, 21, 15, 2, 4, 51, 68, 15, 6, 20, 36, 45, 53, 1, 1, 32, 59, 40, 56, 9, 88, 25, 1, 24, 43, 8, 27, 45, 2, 1, 1, 54, 1, 2, 15, 2, 1, 37, 55, 55, 4, 24, 39, 86, 8, 52, 11, 4, 5, 27, 2, 3, 1, 9, 17, 88, 19, 8, 9, 1, 21, 65, 66, 78, 26, 23, 76, 60, 96, 24, 62, 1, 20, 53, 50, 7, 25, 5, 85, 5, 20, 22, 20, 15, 2, 3, 18, 1, 12, 70, 30, 15, 4, 2, 1, 33, 16, 35, 55, 40, 66, 69, 41, 35, 6, 15, 11, 62, 54, 82, 2, 2, 60, 90, 5, 18, 25, 2, 68, 16, 1, 6, 56, 8, 1, 29, 1, 77, 5, 83, 3, 4, 68, 16, 4, 39, 46, 57, 1, 17, 2, 19, 1, 14, 10, 8, 68, 36, 18, 26, 41, 26, 24, 52, 29, 4, 53, 3, 62, 53, 1, 24, 50, 5, 16, 62, 2, 2, 15, 1, 68, 75, 3, 69, 1, 3, 50, 24, 2, 28, 75, 43, 25, 7, 85, 31, 36, 23, 15, 7, 41, 6, 49, 63, 26, 4, 75, 3, 28, 22, 26, 59, 1, 29, 35, 26, 47, 6, 26, 55, 81, 21, 5, 58, 2, 14, 65, 26, 53, 16, 1, 32, 10, 78, 12, 17, 14, 35, 85, 37, 1, 35, 1, 36, 34, 1, 38, 11, 53, 35, 40, 4, 24, 18, 3, 1, 32, 96, 1, 1, 56, 27, 45, 55, 60, 42, 70, 24, 59, 8, 1, 38, 88, 1, 75, 75, 6, 1, 1, 1, 4, 22, 27, 28, 28, 18, 43, 39, 68, 1, 42, 3, 28, 12, 43, 10, 35, 35, 10, 68, 20, 1, 1, 16, 1, 26, 85, 26, 62, 50, 42, 2, 32, 37, 56, 18, 67, 8, 85, 1, 42, 1, 4, 26, 1, 4, 1, 51, 8, 35, 1, 33, 1, 52, 59, 65, 5, 60, 9, 60, 62, 90, 3, 54, 53, 47, 2, 1, 1, 59, 25, 18, 10, 5, 3, 27, 12, 1, 22, 10, 36, 30, 14, 16, 12, 40, 49, 67, 39, 51, 43, 50, 19, 63, 39, 24, 28, 16, 26, 2, 90, 17, 28, 56, 1, 1, 9, 25, 1, 7, 50, 15, 52, 24, 4, 1, 32, 66, 2, 27, 49, 4, 72, 78, 1, 19, 1, 38, 32, 1, 22, 1, 26, 22, 5, 53, 85, 18, 90, 8, 22, 34, 60, 3, 76, 3, 2, 2, 29, 15, 32, 40, 64, 2, 3, 68, 3, 37, 3, 10, 13, 28, 65, 24, 1, 28, 1, 15, 65, 26, 8, 6, 10, 74, 65, 26, 69, 33, 1, 3, 1, 1, 5, 22, 6, 64, 29, 38, 2, 55, 40, 24, 24, 57, 64, 34, 3, 17, 46, 39, 16, 13, 24, 8, 33, 41, 70, 1, 50, 24, 85, 65, 27, 66, 1, 70, 11, 29, 10, 12, 30, 56, 15, 1, 65, 20, 31, 75, 37, 69, 3, 65, 39, 12, 28, 16, 26, 3, 69, 1, 1, 1, 24, 47, 3, 8, 22, 41, 25, 50, 5, 2, 36, 10, 22, 65, 58, 43, 14, 26, 74, 23, 1, 6, 29, 7, 26, 17, 4, 45, 32, 39, 12, 43, 69, 9, 64, 53, 43, 90, 51, 8, 21, 11, 53, 49, 1, 1, 2, 14, 56, 14, 27, 26, 36, 17, 23, 1, 34, 10, 6, 11, 58, 8, 5, 23, 42, 1, 26, 4, 5, 54, 41, 70, 1, 1, 7, 85, 56, 5, 29, 19, 48, 35, 1, 1, 8, 87, 21, 85, 37, 58, 21, 69, 55, 25, 2, 45, 25, 21, 57, 3, 35, 8, 59, 7, 43, 1, 27, 75, 69, 26, 50, 40, 41, 32, 11, 8, 2, 48, 80, 1, 58, 1, 1, 1, 48, 29, 37, 16, 1, 3, 9, 7, 12, 49, 49, 36, 7, 9, 2, 56, 24, 16, 20, 21, 25, 2, 2, 8, 29, 33, 3, 1, 62, 79, 3, 52, 56, 1, 16, 1, 32, 4, 1, 1, 24, 80, 34, 1, 3, 1, 16, 29, 55, 2, 29, 4, 2, 15, 58, 8, 1, 39, 24, 4, 66, 1, 29, 80, 34, 50, 11, 30, 65, 2, 7, 75, 75, 2, 59, 32, 29, 64, 88, 8, 50, 34, 13, 16, 86, 2, 19, 8, 47, 46, 1, 57, 63, 15, 28, 26, 67, 16, 30, 48, 49, 13, 22, 8, 21, 42, 12, 27, 56, 41, 88, 8, 61, 86, 1, 60, 16, 52, 5, 40, 96, 24, 60, 90, 25, 1, 24, 3, 1, 60, 70, 1, 52, 2, 2, 4, 16, 44, 54, 29, 44, 56, 22, 2, 12, 18, 5, 1, 52, 1, 2, 35, 2, 53, 16, 3, 4, 1, 11, 6, 71, 1, 8, 24, 39, 63, 6, 1, 50, 14, 20, 30, 21, 2, 8, 37, 2, 30, 85, 56, 2, 50, 14, 1, 85, 1, 13, 36, 66, 9, 25, 41, 1, 15, 2, 54, 13, 5, 25, 2, 23, 13, 29, 38, 19, 36, 18, 24, 4, 6, 18, 68, 31, 2, 41, 1, 10, 75, 48, 21, 17, 31, 17, 85, 31, 34, 68, 52, 27, 26, 60, 8, 1, 3, 12, 80, 24, 29, 41, 35, 15, 47, 32, 17, 1, 1, 53, 11, 30, 1, 1, 1, 4, 1, 32, 6, 2, 17, 75, 1, 38, 27, 54, 35, 55, 69, 1, 29, 5, 3, 27, 24, 30, 26, 1, 75, 31, 39, 48, 1, 57, 38, 26, 26, 2, 10, 69, 26, 31, 39, 12, 1, 74, 24, 4, 16, 1, 2, 26, 4, 20, 9, 9, 31, 2, 21, 2, 67, 2, 76, 34, 46, 63, 25, 2, 52, 2, 58, 85, 29, 34, 8, 1, 2, 3, 10, 5, 38, 1, 25, 7, 56, 56, 37, 35, 1, 2, 20, 3, 2, 5, 1, 69, 40, 39, 1, 9, 29, 70, 59, 2, 23, 80, 40, 54, 48, 14, 10, 15, 1, 7, 14, 78, 3, 3, 60, 50, 2, 3, 37, 10, 1, 40, 5, 3, 2, 13, 24, 11, 66, 58, 2, 17, 18, 46, 1, 36, 2, 11, 58, 9, 13, 2, 10, 4, 46, 28, 2, 6, 4, 5, 1, 16, 4, 44, 56, 9, 1, 90, 53, 34, 17, 34, 4, 65, 2, 15, 10, 21, 38, 58, 2, 16, 47, 4, 1, 14, 1, 59, 2, 30, 13, 2, 15, 42, 9, 10, 68, 4, 66, 44, 56, 14, 2, 33, 90, 20, 16, 68, 8, 51, 19, 4, 67, 69, 16, 4, 50, 73, 80, 38, 22, 4, 13, 25, 22, 2, 31, 53, 63, 65, 2, 12, 2, 57, 53, 53, 14, 1, 30, 88, 77, 74, 70, 12, 39, 39, 45, 39, 5, 58, 1, 39, 72, 58, 50, 53, 39, 40, 68, 51, 2, 23, 43, 9, 3, 72, 20, 68, 9, 1, 45, 9, 1, 47, 26, 6, 33, 6, 12, 18, 51, 26, 26, 73, 51, 2, 2, 12, 4, 50, 5, 67, 57, 18, 57, 28, 4, 4, 31, 54, 37, 2, 60, 2, 14, 45, 40, 2, 85, 18, 57, 16, 2, 52, 10, 35, 23, 1, 5, 2, 6, 5, 18, 23, 1, 24, 26, 8, 22, 63, 54, 32, 33, 5, 1, 6, 46, 2, 6, 1, 8, 23, 1, 66, 62, 55, 52, 15, 1, 40, 45, 2, 7, 96, 34, 56, 29, 51, 1, 1, 54, 10, 15, 26, 51, 1, 35, 16, 3, 32, 54, 1, 5, 25, 29, 85, 1, 70, 1, 38, 1, 4, 54, 16, 68, 49, 1, 36, 2, 82, 53, 26, 1, 54, 2, 26, 25, 34, 10, 36, 16, 2, 16, 52, 1, 5, 75, 1, 41, 85, 1, 15, 12, 23, 26, 57, 1, 8, 6, 62, 2, 22, 1, 70, 47, 54, 34, 86, 26, 78, 7, 1, 1, 60, 5, 31, 52, 28, 2, 47, 41, 82, 10, 5, 50, 48, 2, 12, 3, 19, 28, 57, 3, 35, 75, 12, 48, 60, 1, 8, 85, 48, 2, 4, 10, 37, 34, 51, 5, 5, 54, 65, 28, 50, 8, 38, 42, 18, 29, 50, 61, 1, 24, 75, 20, 24, 1, 26, 2, 7, 8, 52, 2, 45, 28, 26, 13, 85, 53, 21, 12, 1, 8, 52, 5, 13, 68, 5, 16, 5, 18, 5, 48, 9, 56, 26, 65, 30, 72, 35, 36, 1, 72, 23, 17, 13, 63, 24, 62, 26, 21, 3, 70, 56, 39, 16, 36, 26, 32, 2, 15, 72, 59, 62, 8, 4, 17, 60, 1, 8, 28, 75, 28, 8, 70, 28, 60, 86, 57, 26, 15, 12, 9, 18, 21, 1, 20, 8, 40, 11, 2, 1, 48, 25, 16, 86, 58, 1, 61, 32, 1, 4, 4, 24, 28, 3, 51, 2, 69, 47, 86, 85, 67, 1, 18, 82, 28, 16, 96, 43, 55, 39, 82, 25, 12, 1, 56, 18, 25, 35, 1, 39, 12, 68, 18, 2, 14, 21, 29, 9, 1, 20, 68, 33, 47, 47, 2, 31, 26, 62, 35, 16, 56, 1, 75, 1, 49, 25, 29, 37, 58, 5, 58, 26, 39, 4, 1, 8, 11, 43, 18, 47, 31, 2, 73, 1, 74, 26, 75, 31, 59, 29, 54, 65, 2, 16, 2, 43, 2, 34, 16, 32, 75, 3, 37, 23, 32, 8, 1, 1, 38, 11, 53, 33, 1, 42, 30, 30, 59, 30, 63, 56, 37, 10, 1, 40, 60, 3, 75, 88, 6, 1, 4, 62, 26, 68, 26, 1, 14, 2, 6, 25, 39, 74, 1, 25, 4, 4, 5, 85, 14, 39, 35, 3, 8, 1, 32, 39, 5, 24, 33, 22, 59, 83, 1, 38, 34, 50, 62, 15, 32, 29, 2, 38, 12, 9, 24, 1, 29, 2, 34, 42, 89, 58, 54, 12, 41, 47, 2, 18, 16, 90, 54, 40, 60, 5, 8, 50, 56, 62, 2, 1, 28, 26, 58, 71, 42, 60, 2, 25, 53, 17, 50, 61, 31, 56, 2, 54, 28, 1, 1, 38, 25, 32, 3, 85, 1, 16, 27, 60, 3, 8, 14, 18, 16, 7, 21, 21, 39, 55, 4, 65, 11, 28, 2, 17, 26, 1, 14, 65, 5, 2, 8, 40, 23, 31, 54, 45, 50, 16, 53, 1, 31, 22, 85, 92, 57, 60, 61, 50, 61, 67, 18, 41, 72, 1, 80, 16, 4, 62, 24, 66, 40, 1, 15, 21, 12, 60, 10, 29, 59, 54, 29, 55, 5, 26, 20, 28, 27, 58, 6, 3, 9, 18, 37, 60, 2, 6, 2, 4, 31, 76, 1, 27, 56, 2, 37, 40, 85, 1, 54, 1, 15, 15, 13, 90, 4, 7, 90, 30, 17, 62, 1, 22, 1, 3, 71, 16, 24, 28, 1, 2, 80, 20, 2, 37, 22, 58, 1, 34, 35, 10, 1, 32, 85, 27, 64, 8, 13, 3, 33, 56, 3, 81, 8, 59, 10, 36, 18, 3, 34, 8, 17, 2, 2, 35, 2, 80, 4, 4, 7, 63, 23, 30, 27, 18, 1, 41, 58, 24, 16, 73, 1, 31, 18, 75, 14, 6, 20, 65, 74, 38, 41, 53, 70, 3, 76, 33, 1, 25, 27, 24, 53, 26, 75, 42, 33, 41, 46, 23, 1, 54, 32, 76, 10, 1, 85, 53, 35, 39, 35, 90, 7, 68, 42, 21, 3, 19, 8, 37, 15, 26, 1, 9, 43, 22, 31, 32, 63, 2, 1, 9, 20, 77, 72, 14, 10, 8, 48, 1, 3, 17, 35, 42, 31, 43, 58, 17, 1, 58, 66, 90, 4, 9, 1, 39, 11, 15, 52, 24, 16, 1, 1, 18, 46, 28, 14, 37, 101, 51, 66, 60, 50, 27, 1, 2, 56, 46, 82, 29, 41, 67, 75, 2, 6, 1, 18, 3, 76, 6, 36, 85, 48, 1, 2, 60, 1, 20, 2, 19, 8, 18, 1, 39, 7, 86, 88, 90, 54, 49, 22, 18, 4, 71, 16, 45, 34, 23, 14, 62, 51, 39, 3, 48, 76, 32, 33, 53, 7, 47, 26, 40, 29, 1, 58, 1, 38, 18, 35, 85, 1, 66, 12, 47, 33, 2, 16, 41, 62, 61, 16, 34, 90, 17, 13, 2, 60, 20, 80, 26, 8, 35, 2, 9, 37, 20, 15, 32, 42, 1, 25, 36, 16, 1, 35, 16, 26, 59, 34, 12, 53, 47, 22, 24, 20, 5, 30, 54, 1, 1, 80, 26, 7, 1, 19, 5, 1, 65, 62, 1, 10, 16, 46, 57, 3, 52, 4, 1, 54, 67, 80, 41, 1, 1, 4, 30, 34, 21, 29, 7, 1, 13, 29, 24, 23, 65, 16, 80, 46, 7, 39, 58, 1, 2, 23, 35, 6, 62, 3, 50, 23, 3, 14, 35, 13, 85, 60, 25, 26, 65, 5, 70, 59, 24, 26, 14, 56, 58, 10, 18, 55, 1, 15, 29, 36, 30, 3, 17, 11, 52, 1, 20, 1, 39, 52, 35, 1, 15, 20, 65, 89, 23, 62, 6, 41, 2, 1, 1, 37, 6, 32, 32, 14, 54, 42, 1, 10, 24, 54, 82, 34, 22, 32, 1, 49, 1, 58, 31, 25, 13, 18, 17, 8, 52, 15, 3, 52, 1, 25, 10, 58, 59, 16, 13, 26, 31, 2, 85, 5, 48, 23, 26, 20, 8, 46, 14, 22, 9, 2, 10, 1, 28, 32, 40, 92, 1, 2, 39, 59, 37, 65, 1, 38, 39, 7, 88, 25, 79, 21, 20, 90, 1, 68, 3, 56, 11, 28, 67, 1, 8, 32, 29, 17, 26, 2, 1, 7, 18, 26, 8, 56, 1, 1, 12, 26, 26, 72, 82, 8, 28, 8, 77, 15, 67, 51, 38, 62, 26, 18, 65, 46, 37, 6, 47, 27, 49, 26, 1, 24, 5, 31, 2, 82, 29, 1, 55, 12, 54, 8, 35, 17, 16, 30, 57, 43, 6, 29, 9, 27, 65, 56, 76, 2, 2, 9, 8, 15, 4, 51, 36, 1, 1, 1, 3, 18, 3, 31, 17, 1, 15, 1, 1, 3, 67, 25, 1, 48, 2, 5, 1, 40, 26, 2, 8, 54, 32, 44, 88, 48, 14, 4, 2, 54, 5, 3, 25, 80, 32, 45, 4, 63, 7, 60, 40, 2, 12, 34, 1, 25, 18, 68, 35, 70, 24, 20, 5, 29, 75, 8, 2, 90, 26, 1, 1, 10, 1, 60, 6, 28, 22, 24, 42, 83, 26, 34, 4, 8, 26, 49, 4, 36, 50, 28, 1, 85, 35, 26, 36, 35, 30, 69, 2, 18, 26, 9, 18, 6, 85, 60, 40, 8, 1, 28, 32, 8, 65, 4, 2, 24, 2, 21, 3, 36, 85, 39, 2, 36, 39, 68, 86, 58, 42, 7, 4, 2, 85, 60, 1, 1, 85, 27, 5, 67, 37, 85, 9, 3, 26, 16, 42, 2, 12, 1, 2, 2, 10, 50, 1, 62, 8, 35, 36, 25, 13, 80, 8, 75, 79, 2, 1, 64, 22, 21, 85, 28, 1, 1, 1, 22, 58, 31, 2, 1, 1, 5, 29, 32, 44, 12, 1, 3, 56, 35, 23, 22, 53, 2, 69, 2, 17, 50, 2, 4, 30, 16, 53, 10, 63, 32, 62, 10, 26, 1, 22, 10, 20, 1, 40, 3, 21, 32, 5, 66, 2, 2, 26, 18, 78, 3, 54, 40, 29, 35, 49, 10, 39, 4, 1, 57, 62, 60, 3, 18, 21, 50, 1, 26, 40, 50, 80, 58, 25, 47, 9, 40, 1, 3, 29, 27, 65, 24, 26, 2, 4, 2, 19, 2, 2, 1, 9, 1, 23, 4, 12, 26, 31, 15, 19, 21, 38, 1, 52, 8, 41, 1, 18, 17, 17, 43, 2, 5, 16, 86, 22, 49, 18, 53, 1, 47, 60, 75, 25, 1, 19, 32, 17, 92, 59, 26, 1, 20, 17, 1, 17, 17, 7, 1, 50, 1, 56, 9, 36, 11, 27, 5, 21, 1, 60, 23, 34, 22, 20, 27, 90, 54, 46, 1, 16, 1, 37, 8, 2, 7, 3, 42, 1, 29, 49, 10, 34, 4, 80, 3, 15, 1, 23, 63, 1, 8, 8, 21, 37, 2, 1, 90, 2, 60, 34, 38, 29, 35, 72, 1, 42, 2, 56, 6, 14, 8, 1, 19, 20, 52, 13, 1, 1, 45, 31, 75, 56, 1, 54, 49, 1, 1, 43, 1, 30, 66, 28, 54, 21, 20, 42, 17, 58, 67, 24, 26, 16, 75, 58, 1, 22, 15, 37, 1, 29, 24, 42, 24, 18, 25, 62, 61, 60, 5, 28, 13, 56, 48, 18, 14, 1, 31, 62, 7, 42, 39, 46, 1, 15, 1, 5, 71, 29, 51, 15, 1, 16, 1, 54, 30, 25, 16, 23, 51, 59, 30, 92, 34, 3, 1, 1, 85, 59, 26, 87, 1, 60, 1, 1, 15, 1, 39, 21, 45, 45, 3, 7, 17, 1, 2, 26, 20, 7, 8, 26, 48, 53, 72, 1, 25, 4, 32, 13, 44, 1, 4, 76, 9, 39, 2, 78, 2, 23, 32, 15, 82, 58, 10, 4, 1, 42, 19, 2, 1, 31, 30, 10, 23, 49, 23, 60, 47, 39, 12, 90, 14, 2, 34, 40, 26, 6, 16, 37, 3, 4, 5, 33, 68, 61, 2, 3, 4, 47, 8, 39, 11, 30, 1, 28, 1, 51, 58, 56, 17, 1, 1, 18, 29, 8, 32, 24, 2, 27, 65, 30, 4, 8, 51, 59, 18, 50, 53, 10, 50, 1, 28, 12, 21, 58, 12, 86, 11, 3, 27, 45, 5, 14, 24, 27, 21, 24, 1, 54, 75, 1, 3, 33, 39, 2, 80, 70, 1, 72, 25, 80, 16, 1, 2, 52, 8, 5, 19, 40, 40, 54, 49, 1, 75, 6, 10, 39, 5, 80, 1, 5, 20, 35, 42, 52, 1, 52, 28, 59, 26, 85, 10, 24, 85, 48, 85, 38, 22, 78, 66, 26, 75, 3, 1, 1, 53, 65, 1, 34, 29, 60, 2, 26, 26, 53, 65, 52, 23, 3, 90, 25, 1, 52, 1, 52, 7, 85, 58, 13, 15, 1, 14, 14, 62, 24, 43, 18, 29, 1, 2, 65, 24, 13, 24, 47, 2, 21, 60, 68, 52, 28, 5, 4, 15, 54, 4, 41, 26, 1, 58, 36, 34, 8, 6, 1, 1, 22, 1, 40, 1, 22, 54, 4, 7, 37, 31, 65, 1, 23, 1, 26, 1, 80, 1, 60, 1, 65, 67, 36, 1, 30, 53, 34, 2, 56, 43, 9, 26, 1, 31, 21, 80, 1, 25, 72, 75, 17, 21, 49, 86, 17, 26, 76, 18, 18, 56, 29, 46, 35, 67, 2, 3, 8, 4, 3, 42, 2, 3, 9, 36, 7, 22, 26, 9, 28, 21, 45, 18, 39, 1, 84, 39, 18, 63, 54, 3, 65, 1, 1, 62, 42, 51, 15, 3, 1, 18, 25, 42, 26, 29, 45, 50, 5, 1, 78, 86, 4, 1, 36, 73, 1, 4, 13, 45, 5, 26, 10, 85, 1, 73, 16, 60, 27, 5, 59, 58, 36, 62, 23, 85, 49, 96, 1, 24, 8, 21, 14, 2, 1, 64, 2, 8, 18, 4, 15, 24, 31, 56, 28, 8, 23, 64, 24, 18, 9, 18, 1, 37, 3, 1, 35, 40, 37, 7, 29, 24, 26, 26, 22, 46, 14, 28, 22, 4, 26, 9, 5, 11, 49, 1, 20, 8, 20, 72, 2, 7, 2, 1, 28, 17, 27, 2, 20, 15, 61, 79, 1, 27, 21, 61, 29, 1, 1, 27, 1, 67, 56, 85, 50, 2, 16, 53, 2, 66, 2, 6, 20, 5, 43, 1, 66, 32, 25, 22, 16, 65, 1, 1, 69, 26, 10, 28, 9, 10, 17, 46, 52, 16, 24, 1, 5, 19, 72, 18, 12, 51, 14, 70, 58, 29, 16, 57, 61, 66, 67, 8, 2, 1, 1, 2, 22, 54, 31, 35, 60, 26, 26, 37, 3, 53, 25, 78, 26, 30, 11, 15, 1, 37, 1, 80, 39, 16, 89, 49, 65, 6, 3, 69, 35, 35, 71, 30, 53, 12, 14, 80, 62, 16, 25, 45, 21, 5, 56, 24, 39, 45, 2, 58, 6, 1, 26, 11, 2, 6, 28, 1, 36, 90, 4, 4, 21, 65, 65, 62, 9, 29, 26, 10, 57, 1, 18, 1, 73, 35, 10, 18, 38, 53, 38, 21, 28, 8, 52, 15, 1, 46, 1, 3, 24, 38, 2, 14, 20, 26, 46, 26, 42, 13, 28, 68, 60, 25, 28, 89, 56, 1, 10, 8, 25, 23, 77, 36, 60, 80, 25, 3, 56, 35, 28, 36, 28, 56, 38, 9, 42, 9, 80, 60, 53, 1, 26, 45, 16, 35, 22, 1, 26, 67, 20, 72, 25, 1, 26, 72, 43, 13, 62, 2, 24, 23, 75, 49, 50, 32, 49, 8, 7, 58, 56, 77, 1, 38, 52, 16, 1, 1, 1, 26, 8, 42, 52, 19, 25, 32, 47, 35, 51, 57, 44, 31, 13, 60, 1, 35, 1, 56, 1, 24, 22, 85, 31, 9, 2, 49, 75, 39, 59, 14, 9, 14, 29, 27, 59, 3, 3, 1, 61, 80, 1, 45, 59, 31, 2, 21, 76, 34, 32, 58, 31, 68, 40, 42, 75, 18, 31, 37, 30, 14, 4, 58, 68, 18, 72, 21, 27, 65, 31, 72, 17, 47, 53, 1, 45, 6, 1, 35, 45, 1, 4, 85, 31, 1, 46, 55, 2, 17, 2, 28, 1, 60, 2, 1, 1, 26, 63, 21, 9, 50, 56, 69, 33, 3, 29, 2, 39, 31, 25, 2, 1, 9, 26, 24, 48, 21, 61, 40, 40, 82, 24, 59, 32, 1, 2, 23, 65, 60, 58, 26, 40, 1, 24, 90, 50, 60, 72, 2, 55, 70, 37, 33, 8, 27, 35, 21, 36, 52, 62, 31, 13, 39, 26, 60, 29, 6, 17, 28, 53, 18, 56, 16, 40, 12, 9, 68, 3, 60, 39, 12, 8, 1, 25, 14, 38, 80, 2, 25, 15, 9, 22, 4, 65, 3, 7, 1, 66, 56, 42, 75, 64, 53, 59, 28, 68, 21, 1, 35, 58, 52, 61, 2, 6, 32, 40, 1, 16, 3, 52, 24, 40, 16, 18, 88, 1, 35, 21, 56, 56, 76, 75, 7, 51, 1, 14, 11, 8, 1, 19, 1, 35, 31, 53, 47, 60, 16, 59, 20, 14, 16, 55, 60, 12, 13, 7, 27, 16, 10, 1, 1, 29, 1, 85, 53, 1, 42, 12, 7, 25, 1, 5, 60, 1, 3, 70, 8, 50, 25, 52, 13, 62, 56, 62, 1, 2, 27, 16, 39, 3, 18, 36, 15, 14, 3, 8, 5, 17, 16, 86, 85, 9, 9, 32, 2, 92, 43, 70, 65, 49, 62, 18, 4, 24, 110, 18, 2, 24, 52, 2, 43, 6, 72, 4, 27, 27, 8, 46, 24, 70, 1, 9, 4, 10, 35, 23, 1, 40, 27, 11, 1, 1, 80, 1, 51, 35, 1, 64, 78, 85, 1, 49, 11, 65, 18, 8, 63, 34, 23, 77, 4, 33, 2, 2, 42, 26, 48, 50, 12, 25, 39, 71, 1, 3, 51, 65, 1, 60, 39, 27, 42, 25, 18, 25, 32, 52, 52, 61, 32, 3, 21, 80, 9, 31, 3, 1, 35, 54, 5, 14, 10, 47, 30, 55, 4, 73, 42, 2, 5, 26, 63, 31, 34, 61, 3, 21, 1, 28, 76, 1, 68, 29, 22, 47, 14, 3, 1, 1, 16, 36, 45, 7, 26, 60, 52, 53, 1, 85, 26, 36, 73, 55, 27, 2, 54, 3, 28, 55, 1, 78, 55, 38, 1, 4, 8, 24, 62, 57, 56, 51, 1, 65, 52, 1, 1, 39, 1, 30, 61, 29, 81, 75, 12, 1, 10, 63, 22, 51, 50, 20, 10, 12, 26, 46, 27, 10, 39, 78, 56, 18, 25, 35, 2, 2, 60, 48, 61, 70, 1, 28, 12, 72, 9, 32, 17, 32, 2, 8, 65, 46, 88, 1, 26, 26, 3, 14, 4, 41, 12, 31, 3, 1, 10, 80, 29, 27, 8, 60, 6, 2, 21, 64, 51, 20, 58, 1, 74, 20, 2, 60, 38, 14, 26, 47, 19, 26, 39, 84, 85, 1, 25, 14, 1, 29, 10, 1, 5, 41, 13, 1, 86, 19, 52, 18, 41, 68, 26, 5, 65, 28, 16, 60, 31, 32, 17, 2, 53, 3, 1, 12, 1, 16, 50, 66, 1, 79, 24, 7, 48, 70, 50, 3, 58, 4, 2, 60, 16, 32, 30, 26, 5, 4, 12, 86, 32, 60, 9, 18, 24, 52, 1, 69, 49, 32, 26, 54, 71, 5, 66, 65, 5, 26, 25, 32, 19, 31, 65, 1, 4, 18, 73, 49, 33, 13, 8, 1, 35, 14, 24, 31, 6, 25, 59, 2, 16, 29, 69, 15, 51, 1, 42, 30, 1, 92, 56, 24, 2, 13, 48, 76, 30, 53, 27, 53, 7, 8, 2, 36, 26, 53, 24, 18, 14, 56, 36, 16, 1, 42, 3, 18, 85, 25, 37, 60, 17, 75, 2, 50, 17, 26, 3, 14, 28, 15, 13, 53, 4, 46, 27, 1, 26, 47, 24, 34, 1, 11, 18, 57, 67, 32, 34, 21, 73, 2, 55, 45, 85, 1, 8, 55, 6, 66, 22, 4, 3, 47, 73, 52, 32, 25, 37, 20, 60, 15, 41, 42, 10, 69, 78, 7, 22, 2, 32, 1, 1, 28, 1, 1, 1, 56, 26, 70, 8, 1, 40, 35, 28, 30, 1, 25, 2, 80, 18, 1, 21, 57, 3, 2, 16, 68, 1, 1, 37, 75, 37, 2, 37, 39, 4, 85, 40, 37, 26, 67, 67, 53, 24, 1, 28, 29, 2, 49, 48, 27, 85, 16, 19, 22, 3, 24, 85, 9, 49, 21, 53, 7, 39, 2, 8, 59, 34, 30, 3, 20, 36, 28, 74, 25, 33, 29, 67, 69, 22, 36, 80, 25, 3, 5, 24, 60, 1, 2, 2, 71, 32, 1, 5, 2, 2, 2, 46, 47, 3, 2, 88, 3, 28, 1, 51, 36, 45, 72, 9, 2, 50, 21, 1, 26, 52, 75, 50, 22, 9, 73, 2, 77, 1, 27, 21, 65, 4, 3, 12, 4, 16, 2, 37, 2, 8, 8, 4, 64, 12, 32, 6, 1, 25, 90, 27, 20, 12, 57, 42, 3, 4, 2, 1, 18, 23, 1, 90, 62, 1, 15, 26, 51, 30, 2, 25, 8, 52, 30, 12, 32, 60, 52, 10, 5, 8, 76, 40, 80, 1, 49, 85, 20, 50, 20, 43, 38, 7, 72, 29, 25, 56, 15, 81, 80, 1, 23, 56, 1, 8, 56, 5, 72, 32, 80, 57, 10, 16, 36, 33, 25, 1, 54, 24, 18, 26, 1, 8, 65, 36, 25, 75, 1, 52, 26, 3, 69, 49, 2, 13, 56, 72, 2, 66, 23, 37, 1, 15, 21, 9, 20, 2, 2, 27, 1, 53, 1, 52, 16, 90, 35, 2, 9, 1, 50, 16, 80, 30, 26, 50, 73, 1, 7, 1, 85, 3, 59, 15, 1, 37, 1, 52, 39, 60, 73, 13, 34, 6, 10, 4, 20, 30, 32, 48, 53, 60, 18, 70, 1, 58, 30, 61, 75, 7, 65, 9, 29, 2, 10, 1, 26, 1, 28, 1, 56, 7, 57, 25, 2, 54, 72, 29, 49, 9, 16, 2, 1, 16, 3, 37, 16, 54, 1, 46, 69, 96, 71, 36, 68, 26, 42, 1, 24, 65, 4, 42, 46, 51, 31, 20, 52, 72, 8, 35, 87, 61, 26, 25, 7, 49, 56, 10, 4, 90, 32, 25, 9, 54, 50, 42, 27, 61, 73, 31, 29, 9, 16, 53, 1, 15, 24, 1, 1, 45, 36, 76, 1, 5, 26, 1, 17, 58, 51, 1, 3, 60, 1, 4, 8, 50, 1, 18, 18, 1, 99, 49, 38, 57, 17, 60, 37, 53, 1, 1, 9, 56, 62, 9, 29, 9, 8, 83, 56, 8, 53, 75, 22, 62, 41, 34, 68, 4, 1, 53, 2, 15, 1, 26, 8, 34, 2, 1, 16, 2, 9, 2, 1, 2, 38, 40, 24, 37, 1, 49, 26, 56, 1, 7, 2, 10, 26, 17, 1, 41, 51, 26, 9, 32, 27, 16, 15, 22, 9, 8, 15, 6, 3, 23, 5, 1, 39, 14, 53, 12, 3, 31, 28, 18, 7, 76, 2, 44, 26, 23, 50, 45, 31, 65, 31, 76, 9, 57, 26, 9, 6, 17, 72, 27, 50, 1, 39, 65, 53, 26, 26, 2, 57, 1, 1, 70, 24, 53, 29, 61, 52, 3, 9, 6, 60, 40, 1, 29, 8, 79, 67, 2, 16, 28, 31, 52, 32, 49, 10, 85, 47, 1, 50, 1, 5, 39, 5, 16, 53, 39, 26, 2, 26, 4, 1, 32, 45, 1, 62, 1, 12, 3, 8, 1, 18, 1, 1, 1, 50, 24, 27, 50, 14, 28, 40, 82, 1, 1, 85, 1, 53, 18, 59, 30, 7, 38, 55, 4, 48, 36, 8, 1, 51, 6, 75, 57, 61, 54, 1, 2, 16, 1, 67, 7, 6, 1, 45, 70, 8, 1, 8, 85, 1, 1, 18, 2, 39, 35, 70, 2, 37, 53, 25, 57, 25, 1, 17, 16, 60, 4, 1, 78, 6, 6, 76, 2, 41, 36, 64, 58, 21, 4, 57, 9, 16, 4, 1, 14, 1, 36, 13, 1, 2, 58, 1, 56, 4, 42, 12, 4, 45, 34, 51, 2, 65, 55, 1, 21, 23, 1, 56, 60, 20, 91, 37, 58, 29, 8, 58, 58, 28, 34, 18, 40, 24, 2, 2, 36, 52, 1, 9, 3, 54, 64, 30, 55, 35, 46, 63, 30, 40, 3, 53, 18, 1, 2, 2, 21, 26, 8, 1, 34, 13, 18, 24, 4, 96, 1, 7, 40, 39, 50, 10, 18, 59, 26, 4, 3, 72, 58, 3, 5, 1, 34, 70, 62, 1, 1, 80, 1, 3, 49, 27, 28, 6, 26, 60, 38, 49, 21, 22, 48, 45, 8, 18, 1, 7, 68, 22, 2, 27, 27, 54, 22, 47, 43, 30, 8, 59, 24, 29, 23, 82, 61, 8, 27, 73, 16, 51, 24, 26, 73, 1, 1, 3, 1, 56, 53, 9, 2, 36, 25, 62, 23, 38, 5, 37, 75, 2, 26, 1, 6, 2, 1, 49, 5, 1, 28, 20, 3, 21, 1, 7, 30, 30, 53, 25, 34, 36, 34, 39, 34, 1, 9, 58, 53, 84, 84, 2, 50, 27, 80, 43, 15, 40, 31, 28, 39, 34, 1, 20, 58, 28, 8, 1, 60, 1, 48, 9, 3, 53, 1, 25, 62, 85, 48, 37, 61, 12, 25, 10, 1, 49, 15, 21, 1, 4, 14, 82, 30, 1, 72, 36, 1, 96, 6, 14, 26, 10, 28, 24, 4, 47, 7, 41, 22, 1, 1, 85, 32, 32, 56, 46, 13, 26, 9, 1, 28, 37, 32, 26, 59, 18, 5, 4, 49, 2, 1, 90, 54, 23, 1, 73, 37, 58, 7, 26, 15, 2, 50, 1, 31, 39, 90, 52, 1, 53, 8, 17, 4, 52, 25, 7, 20, 22, 45, 78, 1, 21, 1, 62, 5, 10, 28, 18, 17, 14, 1, 49, 1, 4, 25, 60, 3, 11, 54, 58, 1, 7, 60, 70, 52, 29, 9, 62, 1, 2, 53, 78, 2, 2, 22, 26, 29, 15, 66, 1, 8, 21, 56, 31, 58, 1, 74, 24, 8, 36, 31, 1, 24, 10, 8, 62, 24, 100, 22, 1, 53, 1, 15, 33, 47, 2, 38, 64, 75, 1, 22, 4, 58, 39, 24, 15, 1, 24, 39, 50, 43, 54, 67, 1, 1, 53, 2, 30, 52, 29, 39, 4, 39, 27, 7, 16, 3, 72, 85, 54, 27, 23, 1, 7, 7, 8, 48, 1, 36, 12, 14, 2, 50, 85, 66, 24, 65, 49, 1, 2, 27, 52, 1, 39, 6, 1, 7, 2, 25, 60, 65, 3, 60, 53, 3, 30, 23, 88, 85, 18, 24, 12, 1, 1, 65, 1, 5, 4, 26, 49, 92, 1, 78, 55, 1, 16, 1, 39, 1, 3, 7, 7, 66, 58, 25, 86, 25, 8, 34, 4, 31, 3, 5, 24, 26, 8, 6, 12, 7, 85, 29, 27, 13, 24, 44, 27, 29, 10, 61, 9, 1, 35, 1, 12, 51, 10, 6, 25, 1, 32, 3, 2, 8, 50, 11, 11, 19, 15, 3, 22, 37, 48, 16, 16, 15, 1, 25, 18, 38, 28, 1, 42, 4, 3, 16, 64, 60, 26, 17, 2, 1, 31, 80, 1, 3, 1, 9, 5, 1, 60, 60, 72, 8, 29, 57, 26, 9, 6, 45, 29, 54, 53, 39, 73, 11, 60, 18, 21, 80, 41, 34, 18, 24, 49, 30, 6, 11, 14, 34, 1, 1, 26, 6, 28, 18, 1, 85, 35, 11, 26, 1, 4, 89, 76, 61, 8, 45, 22, 26, 72, 12, 26, 90, 38, 14, 25, 24, 19, 41, 35, 69, 18, 16, 1, 51, 1, 21, 60, 38, 24, 68, 8, 3, 16, 72, 6, 58, 37, 35, 63, 14, 38, 8, 79, 6, 16, 15, 10, 18, 4, 43, 16, 9, 21, 43, 17, 58, 12, 35, 36, 35, 38, 29, 40, 2, 46, 24, 28, 1, 8, 22, 1, 7, 28, 10, 1, 45, 4, 16, 54, 1, 49, 26, 45, 1, 67, 28, 54, 1, 7, 2, 2, 29, 54, 12, 89, 39, 17, 90, 2, 7, 9, 8, 15, 51, 15, 21, 69, 22, 2, 12, 8, 3, 85, 1, 21, 8, 3, 7, 2, 80, 74, 54, 2, 30, 21, 1, 65, 7, 86, 11, 14, 9, 75, 28, 9, 70, 32, 24, 43, 62, 22, 14, 42, 4, 66, 39, 44, 1, 68, 25, 72, 1, 1, 30, 1, 45, 26, 48, 7, 18, 2, 32, 3, 32, 14, 1, 1, 21, 2, 56, 4, 4, 83, 1, 39, 52, 27, 22, 1, 27, 25, 18, 48, 40, 9, 33, 72, 45, 1, 42, 1, 3, 65, 10, 14, 19, 60, 60, 1, 64, 6, 2, 4, 3, 49, 60, 2, 49, 11, 3, 25, 24, 29, 16, 75, 49, 49, 59, 1, 32, 80, 1, 26, 27, 56, 3, 38, 85, 1, 32, 3, 24, 75, 27, 5, 85, 53, 1, 35, 72, 72, 1, 1, 32, 3, 54, 75, 80, 47, 16, 75, 26, 24, 4, 10, 43, 24, 30, 5, 65, 23, 64, 52, 4, 3, 1, 2, 5, 10, 79, 48, 16, 11, 1, 25, 16, 2, 16, 48, 68, 2, 10, 25, 70, 76, 29, 37, 70, 24, 77, 35, 4, 54, 29, 34, 1, 21, 20, 4, 21, 18, 20, 63, 39, 5, 1, 20, 2, 17, 62, 85, 9, 3, 3, 29, 44, 1, 1, 1, 43, 11, 85, 21, 78, 7, 8, 1, 29, 10, 15, 52, 8, 20, 11, 22, 4, 16, 5, 1, 3, 3, 60, 55, 90, 22, 51, 30, 27, 3, 2, 13, 20, 49, 1, 52, 9, 67, 18, 22, 49, 30, 1, 62, 38, 2, 3, 17, 12, 22, 39, 30, 17, 1, 50, 55, 62, 27, 18, 5, 60, 53, 10, 27, 4, 73, 47, 49, 53, 1, 33, 54, 3, 28, 46, 24, 75, 1, 14, 8, 26, 24, 58, 89, 22, 34, 7, 1, 27, 49, 32, 22, 16, 2, 1, 35, 2, 80, 67, 26, 54, 1, 38, 22, 1, 66, 35, 16, 1, 2, 52, 32, 22, 19, 3, 16, 59, 8, 32, 26, 75, 38, 42, 2, 70, 35, 25, 28, 35, 27, 72, 3, 5, 28, 22, 1, 1, 18, 55, 50, 27, 60, 3, 1, 24, 5, 18, 26, 16, 35, 18, 21, 10, 1, 27, 57, 8, 23, 1, 2, 52, 14, 29, 26, 6, 85, 29, 36, 16, 52, 39, 45, 39, 12, 32, 19, 53, 7, 3, 23, 27, 6, 3, 31, 8, 7, 14, 17, 14, 2, 65, 11, 51, 10, 51, 42, 29, 1, 3, 26, 5, 1, 21, 59, 57, 42, 5, 1, 18, 15, 72, 21, 1, 3, 29, 54, 3, 66, 52, 70, 72, 65, 75, 53, 4, 85, 3, 67, 52, 44, 28, 1, 23, 62, 20, 18, 36, 84, 21, 63, 53, 70, 77, 29, 72, 1, 95, 27, 10, 54, 24, 50, 5, 48, 31, 57, 1, 11, 29, 45, 31, 17, 25, 22, 1, 2, 28, 2, 6, 39, 65, 13, 24, 1, 75, 17, 2, 23, 9, 16, 4, 31, 54, 2, 39, 3, 35, 29, 27, 24, 6, 3, 26, 28, 14, 36, 25, 39, 16, 1, 16, 56, 1, 34, 6, 22, 71, 64, 75, 85, 4, 1, 32, 62, 90, 1, 18, 2, 18, 1, 57, 13, 24, 41, 50, 29, 66, 12, 39, 24, 19, 1, 4, 11, 74, 5, 8, 15, 6, 42, 1, 67, 19, 38, 53, 25, 4, 82, 1, 40, 60, 32, 92, 23, 80, 35, 8, 36, 59, 20, 45, 69, 2, 75, 25, 31, 42, 40, 6, 29, 62, 80, 1, 29, 36, 30, 1, 10, 10, 4, 20, 25, 1, 50, 15, 28, 46, 9, 65, 47, 72, 32, 32, 20, 16, 31, 1, 1, 32, 36, 72, 35, 21, 54, 21, 5, 52, 7, 65, 5, 67, 2, 34, 1, 63, 15, 2, 52, 58, 81, 73, 1, 22, 50, 75, 8, 8, 7, 52, 16, 27, 2, 58, 23, 53, 44, 1, 5, 31, 3, 6, 1, 50, 59, 39, 25, 42, 18, 5, 17, 32, 4, 58, 26, 40, 33, 1, 1, 53, 65, 85, 16, 4, 23, 29, 30, 5, 45, 19, 6, 1, 1, 16, 38, 42, 1, 1, 13, 15, 1, 90, 58, 1, 3, 33, 30, 10, 31, 1, 26, 22, 25, 9, 15, 47, 41, 1, 16, 22, 21, 28, 9, 1, 23, 44, 48, 24, 48, 29, 2, 36, 56, 25, 7, 35, 52, 32, 4, 72, 85, 3, 18, 2, 1, 25, 56, 53, 52, 67, 54, 2, 22, 52, 1, 25, 1, 3, 21, 69, 14, 64, 85, 30, 1, 67, 38, 76, 16, 35, 1, 2, 1, 32, 72, 45, 31, 36, 1, 17, 16, 49, 14, 8, 26, 8, 49, 71, 39, 9, 27, 20, 14, 48, 16, 26, 39, 17, 8, 56, 2, 60, 2, 52, 58, 27, 2, 1, 15, 69, 8, 9, 73, 14, 52, 14, 22, 14, 81, 4, 30, 1, 26, 5, 41, 15, 14, 63, 6, 63, 18, 52, 34, 89, 3, 47, 5, 5, 36, 53, 38, 68, 17, 39, 53, 48, 42, 69, 27, 37, 17, 54, 27, 44, 32, 36, 45, 47, 42, 4, 20, 3, 14, 78, 56, 26, 26, 40, 35, 4, 16, 3, 24, 67, 38, 35, 6, 58, 65, 56, 37, 5, 43, 24, 10, 65, 1, 75, 51, 18, 69, 64, 56, 1, 6, 14, 8, 1, 6, 62, 3, 2, 26, 1, 39, 2, 20, 13, 36, 1, 18, 28, 4, 27, 50, 24, 1, 49, 10, 18, 9, 31, 4, 42, 56, 1, 9, 10, 14, 72, 24, 28, 27, 1, 2, 30, 1, 13, 31, 35, 30, 17, 1, 21, 1, 36, 62, 28, 61, 32, 90, 22, 56, 13, 4, 25, 39, 7, 7, 7, 29, 2, 67, 26, 67, 75, 65, 1, 60, 60, 1, 40, 22, 24, 7, 52, 85, 1, 28, 39, 28, 82, 85, 78, 89, 1, 8, 1, 1, 45, 38, 28, 37, 15, 13, 16, 36, 93, 3, 48, 18, 96, 59, 1, 27, 33, 54, 5, 18, 35, 31, 26, 53, 28, 27, 54, 16, 15, 1, 49, 14, 37, 7, 13, 35, 26, 36, 2, 72, 32, 68, 15, 23, 1, 14, 16, 38, 2, 1, 4, 7, 90, 10, 59, 2, 49, 22, 7, 37, 10, 42, 32, 59, 89, 72, 32, 60, 34, 15, 10, 1, 50, 18, 22, 49, 1, 46, 90, 15, 62, 2, 1, 1, 27, 45, 88, 8, 1, 22, 1, 26, 29, 11, 9, 52, 2, 21, 58, 1, 17, 12, 14, 54, 96, 21, 1, 2, 1, 1, 63, 59, 57, 57, 16, 30, 84, 38, 56, 45, 1, 1, 12, 28, 2, 1, 5, 75, 1, 82, 7, 1, 66, 1, 27, 82, 26, 72, 1, 67, 18, 4, 82, 48, 85, 59, 90, 55, 9, 1, 49, 16, 16, 7, 37, 23, 10, 1, 43, 61, 47, 25, 18, 11, 8, 16, 39, 53, 57, 2, 55, 89, 12, 2, 41, 1, 24, 3, 48, 2, 1, 45, 2, 56, 22, 29, 32, 15, 1, 2, 42, 1, 76, 26, 23, 1, 1, 12, 53, 8, 42, 3, 16, 65, 38, 1, 9, 85, 50, 50, 2, 47, 13, 1, 75, 70, 2, 96, 22, 55, 60, 82, 27, 1, 25, 1, 13, 70, 21, 41, 8, 51, 9, 21, 38, 40, 18, 1, 10, 49, 41, 33, 76, 21, 34, 22, 26, 1, 9, 16, 10, 1, 12, 60, 100, 35, 53, 36, 39, 24, 52, 2, 15, 65, 25, 24, 85, 3, 39, 42, 38, 3, 53, 2, 3, 7, 8, 26, 16, 4, 4, 7, 21, 5, 16, 23, 52, 1, 22, 66, 27, 86, 4, 2, 65, 19, 11, 23, 85, 13, 18, 85, 24, 2, 24, 17, 25, 16, 32, 15, 18, 80, 37, 1, 55, 19, 46, 76, 29, 1, 7, 24, 86, 1, 88, 54, 6, 15, 1, 65, 54, 8, 10, 24, 1, 29, 92, 57, 21, 39, 37, 3, 53, 22, 53, 63, 1, 9, 29, 22, 43, 58, 21, 58, 17, 60, 18, 24, 13, 18, 37, 40, 45, 2, 18, 29, 1, 1, 53, 3, 40, 66, 18, 36, 58, 31, 42, 3, 25, 17, 3, 53, 37, 26, 18, 30, 28, 3, 3, 36, 57, 57, 27, 2, 1, 26, 12, 2, 46, 18, 38, 29, 1, 35, 15, 65, 52, 18, 17, 23, 48, 85, 30, 1, 65, 1, 44, 29, 24, 19, 65, 15, 20, 4, 35, 40, 18, 1, 2, 60, 66, 69, 70, 26, 26, 24, 28, 24, 26, 15, 38, 9, 4, 16, 2, 8, 22, 70, 26, 1, 54, 18, 13, 13, 4, 1, 16, 51, 66, 39, 20, 69, 2, 26, 76, 34, 49, 1, 26, 22, 14, 38, 85, 1, 25, 25, 35, 56, 33, 13, 37, 8, 8, 25, 1, 5, 60, 30, 57, 10, 1, 26, 8, 4, 26, 17, 1, 40, 35, 9, 32, 49, 1, 3, 63, 79, 50, 15, 2, 99, 85, 80, 63, 13, 53, 43, 9, 65, 1, 53, 78, 61, 1, 36, 53, 2, 39, 1, 33, 24, 2, 32, 31, 1, 29, 27, 52, 24, 5, 3, 54, 18, 25, 21, 72, 38, 96, 50, 4, 2, 26, 2, 27, 65, 30, 12, 52, 66, 15, 57, 21, 21, 8, 19, 74, 37, 1, 8, 4, 9, 70, 12, 14, 16, 90, 29, 26, 1, 77, 85, 44, 44, 1, 18, 42, 19, 72, 4, 3, 22, 57, 5, 85, 62, 59, 53, 27, 50, 15, 40, 7, 40, 37, 90, 1, 15, 2, 22, 49, 38, 26, 16, 25, 110, 60, 16, 16, 24, 1, 23, 76, 3, 8, 53, 47, 52, 2, 14, 27, 49, 29, 65, 54, 1, 80, 60, 2, 6, 41, 2, 90, 18, 16, 3, 20, 4, 30, 47, 69, 14, 9, 9, 3, 38, 28, 1, 24, 77, 23, 1, 76, 19, 29, 1, 54, 13, 52, 40, 82, 87, 22, 4, 22, 16, 8, 56, 14, 7, 10, 20, 33, 22, 6, 50, 2, 37, 1, 90, 35, 52, 34, 18, 2, 52, 39, 66, 9, 37, 3, 20, 78, 10, 14, 10, 21, 16, 2, 52, 34, 1, 4, 29, 3, 14, 65, 1, 8, 58, 1, 8, 52, 22, 2, 26, 45, 26, 1, 32, 45, 62, 58, 26, 4, 32, 22, 19, 15, 4, 1, 2, 4, 83, 1, 21, 34, 32, 2, 4, 21, 8, 12, 75, 21, 54, 29, 4, 36, 47, 39, 32, 68, 42, 9, 37, 61, 38, 1, 36, 89, 10, 2, 1, 30, 51, 15, 36, 1, 5, 10, 8, 4, 7, 60, 1, 16, 58, 14, 63, 4, 85, 52, 70, 65, 4, 46, 1, 4, 3, 1, 9, 31, 1, 2, 25, 2, 7, 52, 26, 85, 65, 8, 8, 76, 7, 35, 90, 5, 18, 1, 26, 1, 59, 16, 1, 31, 50, 29, 7, 43, 8, 26, 2, 40, 28, 1, 26, 28, 31, 1, 75, 63, 8, 21, 24, 60, 56, 3, 16, 78, 2, 2, 14, 1, 9, 52, 1, 85, 69, 3, 52, 41, 54, 8, 1, 4, 72, 67, 25, 25, 25, 20, 8, 38, 49, 27, 76, 1, 20, 43, 69, 17, 60, 42, 5, 1, 9, 5, 1, 26, 31, 30, 60, 32, 29, 18, 80, 19, 90, 32, 32, 56, 26, 64, 1, 42, 35, 21, 30, 8, 50, 1, 57, 30, 73, 20, 56, 72, 14, 32, 43, 36, 14, 1, 59, 24, 60, 82, 28, 39, 23, 15, 29, 37, 2, 55, 26, 57, 52, 5, 1, 2, 40, 48, 60, 5, 9, 65, 7, 37, 4, 10, 56, 60, 37, 12, 3, 52, 79, 4, 62, 5, 9, 10, 1, 1, 3, 1, 25, 1, 55, 35, 9, 80, 49, 4, 4, 62, 51, 2, 79, 12, 85, 46, 2, 32, 7, 8, 54, 2, 3, 70, 27, 1, 1, 2, 6, 56, 17, 8, 30, 39, 49, 28, 81, 33, 20, 4, 46, 26, 10, 2, 61, 7, 31, 15, 26, 8, 68, 53, 4, 48, 28, 32, 6, 3, 43, 18, 49, 1, 15, 52, 27, 66, 2, 17, 77, 17, 85, 30, 52, 29, 37, 26, 8, 37, 49, 13, 30, 1, 59, 1, 51, 4, 1, 1, 25, 9, 15, 30, 27, 13, 21, 8, 30, 50, 1, 5, 46, 3, 65, 3, 66, 53, 59, 28, 9, 24, 37, 10, 12, 1, 3, 25, 32, 2, 5, 21, 16, 13, 19, 57, 1, 26, 9, 69, 65, 58, 29, 1, 17, 15, 4, 17, 56, 1, 65, 1, 11, 4, 24, 2, 1, 56, 4, 14, 2, 24, 36, 3, 14, 30, 28, 85, 62, 7, 48, 1, 45, 1, 66, 19, 47, 40, 1, 10, 72, 85, 55, 10, 1, 41, 18, 28, 5, 4, 2, 5, 62, 19, 22, 1, 27, 2, 65, 12, 26, 1, 75, 17, 4, 1, 10, 56, 40, 37, 90, 1, 26, 67, 32, 78, 1, 23, 15, 71, 33, 10, 15, 2, 1, 16, 2, 2, 4, 1, 45, 54, 8, 1, 38, 2, 54, 38, 28, 48, 72, 54, 28, 8, 1, 4, 14, 54, 85, 65, 68, 50, 1, 39, 37, 90, 1, 2, 35, 29, 38, 46, 23, 1, 27, 56, 29, 30, 53, 1, 30, 54, 49, 1, 12, 49, 37, 35, 62, 23, 35, 15, 4, 6, 1, 51, 37, 85, 27, 69, 34, 16, 22, 62, 21, 2, 75, 2, 20, 35, 82, 9, 8, 1, 75, 35, 39, 14, 3, 21, 56, 48, 2, 4, 17, 53, 1, 16, 53, 2, 85, 18, 1, 61, 31, 1, 71, 25, 85, 26, 15, 20, 2, 1, 48, 9, 29, 25, 27, 66, 1, 1, 31, 65, 5, 16, 36, 4, 54, 18, 37, 27, 45, 13, 38, 21, 28, 4, 43, 63, 3, 1, 18, 32, 34, 26, 52, 25, 56, 47, 41, 80, 57, 6, 54, 32, 34, 4, 53, 36, 21, 1, 2, 7, 1, 16, 2, 58, 28, 60, 5, 81, 55, 61, 15, 35, 8, 6, 70, 23, 62, 21, 60, 24, 39, 13, 38, 8, 2, 2, 30, 22, 43, 9, 6, 72, 68, 1, 1, 5, 45, 5, 52, 33, 4, 58, 1, 1, 20, 10, 61, 34, 16, 8, 54, 45, 21, 1, 15, 39, 32, 32, 2, 1, 11, 30, 75, 17, 40, 1, 45, 36, 9, 1, 58, 28, 22, 10, 61, 30, 1, 74, 80, 16, 71, 9, 30, 17, 66, 41, 2, 2, 66, 50, 43, 8, 42, 36, 7, 9, 1, 18, 52, 28, 24, 60, 39, 67, 16, 55, 1, 51, 1, 1, 58, 21, 4, 1, 80, 1, 52, 17, 58, 80, 3, 33, 6, 92, 5, 42, 4, 24, 4, 36, 68, 53, 27, 34, 54, 8, 1, 12, 29, 49, 18, 25, 26, 8, 56, 57, 26, 8, 60, 19, 5, 26, 82, 85, 53, 10, 65, 14, 2, 56, 85, 96, 60, 16, 50, 1, 77, 49, 25, 1, 6, 78]\n",
            "9778\n",
            "[1, 1, 0, 0, 1, 1, 1, 1, 1, 1, 0, 0, 0, 1, 1, 1, 0, 1, 1, 1, 1, 1, 1, 0, 1, 1, 1, 0, 0, 0, 1, 1, 1, 1, 1, 1, 0, 1, 1, 0, 1, 1, 0, 0, 1, 0, 1, 0, 1, 1, 1, 1, 0, 0, 0, 1, 1, 0, 1, 0, 1, 1, 1, 1, 1, 1, 0, 1, 1, 0, 1, 1, 1, 0, 0, 0, 1, 0, 0, 0, 1, 0, 0, 0, 0, 1, 1, 1, 1, 0, 1, 0, 0, 1, 1, 1, 1, 0, 1, 1, 1, 1, 0, 0, 0, 0, 1, 1, 1, 0, 1, 1, 0, 1, 0, 0, 0, 0, 0, 1, 0, 1, 0, 1, 1, 1, 1, 0, 1, 1, 0, 0, 1, 1, 0, 0, 1, 0, 0, 1, 0, 1, 1, 1, 0, 0, 1, 0, 0, 1, 0, 1, 1, 1, 1, 1, 0, 0, 1, 1, 0, 0, 0, 0, 1, 1, 1, 0, 0, 1, 1, 0, 0, 0, 0, 1, 1, 0, 0, 1, 0, 1, 0, 0, 1, 0, 1, 1, 0, 0, 0, 0, 1, 1, 0, 0, 0, 0, 1, 0, 0, 0, 1, 0, 0, 1, 1, 1, 0, 0, 0, 0, 1, 0, 0, 1, 0, 1, 0, 0, 1, 1, 1, 0, 1, 0, 0, 0, 1, 0, 1, 1, 0, 0, 1, 1, 0, 1, 1, 0, 0, 0, 0, 0, 0, 0, 0, 0, 1, 1, 1, 0, 1, 1, 0, 0, 0, 1, 1, 1, 0, 0, 0, 0, 1, 1, 1, 0, 1, 0, 1, 1, 1, 0, 1, 1, 0, 1, 1, 1, 1, 0, 0, 1, 1, 0, 1, 0, 0, 1, 1, 1, 0, 0, 1, 0, 0, 1, 0, 1, 1, 1, 0, 1, 0, 1, 0, 0, 1, 1, 1, 0, 1, 1, 0, 0, 0, 1, 1, 1, 1, 1, 1, 1, 1, 1, 1, 1, 0, 1, 1, 0, 1, 1, 0, 1, 1, 1, 1, 1, 0, 0, 0, 0, 1, 1, 0, 1, 1, 0, 1, 1, 0, 1, 1, 0, 1, 0, 1, 1, 1, 1, 0, 0, 0, 1, 1, 0, 1, 0, 1, 1, 0, 1, 1, 0, 0, 1, 1, 0, 0, 1, 1, 1, 0, 1, 1, 1, 1, 0, 1, 0, 0, 0, 0, 0, 0, 1, 1, 0, 0, 0, 1, 0, 0, 0, 0, 1, 1, 1, 0, 0, 0, 0, 0, 0, 1, 1, 1, 1, 0, 0, 0, 1, 0, 0, 1, 0, 0, 0, 1, 0, 1, 1, 1, 0, 1, 0, 1, 1, 0, 1, 0, 0, 1, 1, 1, 1, 0, 0, 1, 1, 1, 1, 1, 0, 1, 0, 1, 1, 0, 1, 0, 1, 1, 0, 1, 1, 0, 0, 1, 0, 1, 0, 0, 0, 1, 1, 0, 0, 1, 1, 0, 1, 0, 1, 1, 1, 0, 0, 0, 0, 0, 0, 0, 1, 1, 1, 1, 1, 1, 0, 0, 0, 1, 0, 1, 0, 1, 0, 1, 1, 0, 1, 0, 0, 0, 1, 1, 0, 0, 0, 0, 1, 1, 1, 1, 1, 1, 0, 0, 1, 1, 0, 0, 0, 1, 1, 0, 1, 1, 0, 1, 0, 1, 1, 0, 1, 1, 0, 1, 0, 0, 0, 0, 0, 1, 1, 1, 1, 0, 0, 0, 1, 1, 1, 1, 1, 1, 1, 1, 0, 1, 1, 1, 0, 1, 1, 0, 1, 0, 1, 0, 0, 1, 0, 1, 1, 1, 0, 1, 1, 0, 0, 1, 1, 1, 1, 1, 0, 0, 1, 1, 1, 0, 1, 1, 1, 1, 1, 1, 0, 1, 1, 0, 1, 0, 1, 0, 0, 0, 1, 0, 0, 0, 1, 1, 1, 0, 1, 1, 1, 1, 1, 1, 0, 0, 0, 1, 0, 1, 1, 0, 1, 1, 1, 0, 1, 0, 0, 1, 1, 1, 1, 0, 0, 0, 0, 1, 1, 0, 0, 1, 1, 1, 1, 0, 1, 0, 0, 1, 0, 1, 1, 0, 0, 0, 0, 1, 1, 0, 1, 1, 1, 0, 1, 1, 1, 1, 0, 1, 1, 1, 1, 1, 0, 1, 0, 0, 1, 1, 1, 1, 0, 1, 0, 1, 1, 1, 1, 0, 1, 1, 0, 1, 1, 0, 1, 0, 0, 1, 1, 0, 1, 0, 0, 1, 0, 1, 0, 0, 0, 1, 0, 0, 0, 1, 1, 1, 0, 1, 0, 0, 0, 0, 0, 1, 0, 1, 0, 0, 1, 1, 1, 0, 1, 0, 0, 1, 0, 1, 0, 1, 1, 1, 0, 1, 1, 1, 1, 1, 1, 1, 0, 0, 0, 0, 1, 1, 1, 1, 1, 0, 0, 1, 0, 0, 1, 1, 1, 1, 1, 0, 1, 1, 1, 0, 1, 0, 0, 1, 0, 0, 0, 1, 0, 1, 1, 1, 1, 0, 1, 1, 1, 1, 1, 1, 1, 0, 0, 1, 1, 0, 0, 1, 0, 0, 1, 1, 1, 1, 1, 0, 0, 1, 0, 0, 1, 1, 0, 1, 0, 0, 1, 1, 0, 0, 1, 1, 1, 1, 1, 0, 1, 1, 1, 0, 0, 0, 0, 0, 1, 1, 1, 1, 1, 1, 0, 1, 1, 1, 0, 0, 1, 1, 1, 1, 1, 1, 0, 0, 1, 1, 0, 1, 1, 1, 1, 0, 0, 1, 1, 0, 0, 1, 1, 1, 1, 1, 0, 0, 0, 1, 0, 1, 1, 0, 1, 1, 1, 1, 1, 0, 1, 1, 1, 1, 0, 0, 0, 1, 0, 0, 0, 0, 0, 0, 1, 1, 0, 1, 0, 0, 1, 1, 0, 0, 0, 1, 1, 0, 1, 0, 0, 0, 1, 1, 1, 0, 0, 1, 1, 0, 1, 1, 0, 0, 0, 1, 0, 1, 0, 0, 1, 1, 0, 0, 0, 1, 1, 0, 0, 1, 0, 1, 0, 1, 1, 1, 0, 0, 1, 0, 0, 0, 1, 0, 0, 0, 0, 0, 0, 0, 0, 0, 1, 1, 1, 1, 1, 0, 1, 0, 0, 0, 1, 1, 1, 0, 1, 1, 0, 1, 0, 0, 1, 1, 1, 1, 1, 1, 0, 0, 0, 1, 0, 1, 0, 1, 0, 1, 1, 1, 0, 1, 1, 1, 1, 0, 1, 0, 0, 1, 1, 1, 0, 0, 1, 1, 1, 1, 0, 1, 1, 0, 1, 1, 0, 1, 1, 0, 0, 1, 1, 1, 1, 0, 1, 1, 0, 1, 1, 0, 0, 0, 1, 0, 0, 1, 0, 0, 0, 0, 1, 1, 0, 0, 1, 0, 1, 0, 1, 1, 0, 1, 1, 0, 1, 0, 1, 0, 0, 0, 0, 1, 0, 1, 1, 1, 1, 0, 1, 0, 0, 1, 1, 0, 1, 0, 0, 0, 0, 1, 0, 1, 0, 0, 0, 1, 0, 1, 1, 1, 1, 1, 0, 0, 0, 1, 0, 1, 1, 0, 0, 1, 1, 1, 1, 0, 0, 0, 1, 0, 0, 0, 1, 1, 0, 0, 1, 0, 1, 0, 0, 0, 1, 0, 0, 0, 1, 1, 1, 0, 0, 1, 0, 0, 0, 1, 1, 0, 1, 0, 0, 0, 1, 0, 1, 1, 1, 0, 1, 1, 0, 1, 0, 1, 0, 1, 1, 1, 0, 1, 1, 1, 1, 0, 0, 1, 0, 1, 0, 1, 0, 1, 1, 1, 1, 1, 0, 0, 0, 1, 0, 1, 1, 0, 0, 0, 1, 1, 1, 1, 1, 0, 1, 1, 0, 1, 1, 1, 1, 1, 0, 1, 0, 0, 0, 0, 1, 0, 1, 1, 0, 1, 1, 0, 1, 1, 1, 0, 1, 0, 0, 0, 0, 0, 0, 0, 0, 1, 1, 1, 1, 1, 1, 1, 1, 1, 1, 0, 0, 1, 1, 1, 0, 1, 1, 0, 1, 0, 0, 1, 0, 1, 0, 1, 0, 1, 1, 0, 1, 1, 0, 1, 0, 1, 1, 0, 1, 0, 0, 1, 1, 1, 0, 1, 1, 1, 0, 1, 0, 0, 1, 0, 0, 0, 1, 1, 1, 0, 0, 0, 0, 1, 0, 0, 0, 0, 1, 1, 0, 1, 1, 1, 0, 1, 1, 1, 1, 1, 1, 1, 1, 0, 1, 1, 1, 0, 1, 0, 1, 0, 1, 1, 0, 0, 1, 0, 1, 1, 0, 1, 0, 1, 1, 0, 0, 0, 0, 0, 1, 1, 0, 1, 0, 0, 1, 1, 1, 1, 1, 0, 1, 1, 0, 0, 0, 0, 0, 1, 0, 0, 1, 1, 1, 1, 0, 0, 1, 0, 1, 1, 1, 1, 1, 0, 0, 0, 0, 0, 0, 1, 1, 1, 1, 1, 1, 0, 1, 0, 0, 0, 0, 0, 1, 0, 1, 1, 0, 1, 1, 1, 0, 0, 0, 0, 1, 0, 1, 1, 1, 0, 0, 0, 1, 0, 0, 0, 0, 1, 0, 0, 0, 1, 1, 1, 0, 0, 1, 1, 1, 0, 0, 1, 1, 1, 0, 0, 1, 0, 1, 1, 0, 1, 1, 1, 1, 1, 1, 1, 1, 1, 1, 0, 1, 0, 0, 1, 1, 0, 0, 0, 0, 1, 1, 0, 1, 1, 0, 0, 0, 0, 0, 0, 0, 1, 0, 0, 1, 1, 1, 1, 0, 0, 0, 1, 1, 0, 1, 1, 1, 0, 0, 0, 1, 1, 0, 0, 1, 0, 1, 1, 1, 0, 1, 0, 0, 0, 1, 1, 1, 1, 1, 0, 1, 1, 1, 0, 0, 1, 1, 1, 1, 1, 1, 1, 1, 1, 0, 1, 1, 0, 1, 1, 0, 0, 1, 1, 1, 1, 0, 1, 1, 0, 1, 0, 1, 0, 1, 1, 1, 1, 1, 1, 0, 0, 1, 1, 1, 1, 1, 1, 0, 1, 1, 0, 0, 0, 1, 0, 0, 1, 1, 1, 1, 1, 0, 0, 1, 0, 1, 1, 0, 1, 0, 1, 1, 0, 1, 0, 1, 0, 0, 0, 1, 0, 0, 1, 0, 0, 1, 0, 1, 1, 0, 0, 0, 1, 1, 0, 0, 0, 1, 1, 0, 1, 0, 1, 1, 1, 1, 1, 1, 1, 1, 1, 1, 0, 1, 1, 0, 0, 0, 0, 1, 1, 1, 0, 1, 0, 0, 0, 1, 0, 0, 0, 0, 0, 1, 0, 0, 0, 1, 1, 0, 1, 1, 0, 0, 1, 0, 1, 1, 0, 0, 1, 1, 0, 0, 1, 1, 1, 1, 1, 1, 1, 1, 1, 0, 0, 0, 1, 1, 1, 1, 1, 1, 1, 1, 1, 0, 0, 1, 0, 0, 0, 0, 1, 1, 0, 1, 1, 1, 0, 0, 0, 1, 0, 1, 1, 0, 0, 1, 0, 1, 1, 1, 0, 1, 0, 0, 0, 1, 1, 0, 1, 1, 0, 1, 0, 0, 0, 1, 0, 1, 1, 0, 0, 0, 1, 1, 1, 1, 1, 0, 0, 1, 0, 0, 1, 1, 1, 1, 0, 0, 0, 0, 1, 1, 0, 1, 1, 1, 1, 1, 0, 1, 1, 1, 0, 1, 1, 1, 1, 1, 0, 1, 0, 0, 1, 1, 1, 0, 0, 1, 0, 1, 0, 1, 1, 1, 1, 1, 0, 0, 0, 0, 0, 0, 0, 1, 1, 1, 0, 1, 0, 1, 1, 1, 1, 1, 0, 0, 0, 1, 1, 1, 1, 0, 1, 0, 0, 0, 1, 1, 0, 0, 0, 1, 1, 1, 1, 0, 0, 1, 1, 0, 1, 1, 1, 1, 1, 0, 1, 1, 1, 1, 1, 1, 1, 0, 1, 1, 1, 1, 1, 1, 1, 1, 0, 0, 1, 0, 1, 1, 0, 1, 0, 1, 0, 1, 0, 1, 0, 1, 1, 1, 1, 1, 1, 1, 1, 1, 1, 0, 0, 0, 1, 0, 0, 1, 0, 1, 1, 1, 0, 1, 1, 1, 0, 1, 1, 0, 0, 1, 0, 0, 1, 1, 1, 0, 1, 1, 0, 1, 1, 0, 1, 1, 0, 1, 0, 0, 0, 1, 0, 0, 0, 1, 0, 1, 1, 0, 1, 1, 1, 1, 0, 1, 1, 1, 0, 1, 1, 1, 1, 1, 1, 1, 0, 1, 0, 1, 1, 1, 0, 1, 1, 0, 0, 1, 1, 0, 0, 0, 1, 0, 0, 1, 0, 1, 1, 0, 0, 1, 1, 0, 0, 1, 1, 1, 1, 1, 0, 1, 0, 1, 1, 1, 0, 1, 0, 0, 1, 0, 0, 1, 0, 1, 0, 1, 0, 1, 0, 0, 1, 1, 1, 0, 0, 1, 0, 0, 0, 0, 0, 1, 1, 1, 1, 1, 1, 1, 1, 1, 1, 0, 1, 0, 1, 0, 0, 1, 1, 1, 0, 0, 1, 0, 1, 0, 0, 1, 0, 0, 1, 1, 1, 1, 0, 1, 1, 0, 1, 0, 1, 0, 0, 0, 1, 1, 0, 0, 1, 0, 0, 1, 1, 1, 1, 0, 1, 1, 0, 0, 1, 1, 0, 0, 1, 1, 0, 0, 0, 0, 0, 1, 0, 1, 0, 1, 1, 1, 1, 0, 1, 0, 0, 0, 1, 1, 1, 1, 1, 0, 0, 0, 1, 1, 1, 1, 1, 1, 1, 1, 1, 1, 1, 1, 0, 1, 1, 0, 0, 0, 1, 0, 0, 1, 0, 0, 0, 1, 0, 1, 1, 1, 0, 1, 0, 1, 0, 1, 0, 0, 1, 1, 1, 0, 0, 1, 0, 1, 1, 0, 0, 0, 0, 0, 1, 1, 1, 1, 0, 0, 1, 0, 1, 1, 1, 1, 0, 1, 1, 0, 0, 1, 1, 1, 1, 0, 1, 1, 1, 0, 0, 1, 1, 1, 0, 0, 0, 0, 1, 1, 1, 0, 0, 0, 0, 0, 1, 0, 1, 0, 1, 1, 1, 1, 1, 1, 0, 0, 0, 1, 1, 1, 1, 0, 1, 1, 1, 1, 0, 1, 1, 1, 0, 0, 0, 1, 0, 1, 0, 1, 1, 0, 1, 1, 0, 1, 1, 1, 0, 1, 1, 0, 1, 0, 0, 0, 0, 0, 0, 0, 0, 0, 0, 0, 0, 0, 1, 0, 1, 1, 0, 0, 0, 0, 1, 1, 1, 0, 0, 0, 0, 1, 1, 0, 1, 1, 1, 0, 1, 1, 1, 0, 1, 1, 0, 1, 1, 1, 0, 1, 0, 0, 1, 1, 1, 1, 0, 1, 1, 0, 0, 0, 0, 0, 0, 0, 0, 0, 0, 1, 1, 0, 0, 0, 1, 0, 1, 1, 1, 1, 1, 0, 1, 1, 1, 1, 0, 0, 1, 1, 0, 1, 0, 1, 0, 0, 1, 0, 0, 0, 0, 1, 1, 0, 1, 0, 0, 0, 1, 0, 0, 1, 1, 1, 1, 0, 0, 0, 1, 0, 1, 1, 1, 0, 1, 0, 1, 1, 1, 0, 0, 1, 1, 0, 1, 0, 1, 0, 0, 1, 0, 0, 0, 1, 0, 1, 0, 1, 0, 0, 0, 0, 1, 0, 0, 1, 0, 1, 0, 1, 0, 1, 1, 1, 0, 1, 1, 0, 1, 0, 1, 1, 1, 1, 1, 1, 0, 1, 0, 0, 0, 0, 1, 0, 1, 0, 0, 0, 0, 1, 1, 0, 1, 1, 0, 0, 1, 0, 1, 1, 1, 0, 0, 0, 1, 1, 1, 1, 0, 1, 0, 1, 1, 1, 0, 0, 1, 1, 0, 1, 0, 1, 0, 0, 0, 0, 0, 0, 0, 1, 1, 0, 1, 0, 0, 1, 0, 1, 0, 1, 0, 0, 1, 1, 0, 0, 0, 1, 0, 1, 0, 1, 1, 1, 0, 1, 1, 1, 1, 0, 1, 1, 1, 1, 1, 1, 0, 1, 0, 0, 1, 0, 1, 1, 1, 0, 1, 0, 1, 0, 1, 1, 1, 1, 0, 0, 0, 0, 0, 1, 0, 0, 0, 0, 1, 1, 1, 1, 1, 1, 0, 0, 0, 1, 0, 1, 0, 0, 0, 1, 1, 0, 1, 1, 1, 1, 1, 1, 1, 1, 1, 0, 0, 1, 1, 1, 0, 1, 0, 1, 0, 1, 1, 0, 1, 0, 1, 1, 1, 0, 1, 1, 1, 0, 1, 1, 0, 0, 0, 0, 0, 1, 0, 0, 0, 0, 0, 1, 0, 1, 1, 1, 1, 1, 1, 1, 1, 1, 1, 1, 0, 0, 1, 1, 1, 1, 1, 1, 0, 1, 0, 0, 1, 1, 0, 0, 1, 1, 1, 1, 1, 0, 1, 0, 1, 0, 0, 0, 0, 0, 0, 0, 0, 0, 0, 1, 1, 0, 1, 1, 1, 1, 0, 1, 1, 1, 0, 0, 0, 1, 1, 1, 0, 1, 0, 1, 0, 1, 1, 0, 1, 1, 0, 1, 1, 0, 1, 0, 1, 1, 0, 1, 0, 1, 1, 0, 0, 1, 1, 1, 1, 1, 1, 0, 1, 0, 0, 1, 1, 1, 0, 1, 0, 1, 1, 1, 0, 1, 1, 1, 1, 0, 1, 1, 0, 1, 1, 0, 0, 0, 1, 0, 0, 1, 1, 0, 1, 1, 0, 0, 1, 1, 1, 0, 0, 1, 1, 0, 1, 0, 0, 0, 0, 0, 1, 1, 1, 0, 0, 1, 1, 1, 1, 0, 1, 1, 0, 1, 1, 1, 1, 0, 1, 0, 1, 1, 1, 1, 0, 1, 1, 1, 0, 1, 1, 1, 0, 1, 1, 1, 0, 0, 0, 0, 1, 1, 1, 0, 0, 0, 1, 1, 1, 1, 0, 1, 0, 1, 1, 1, 0, 1, 0, 0, 1, 0, 0, 1, 1, 1, 1, 0, 0, 1, 1, 0, 1, 0, 1, 0, 1, 0, 0, 0, 1, 1, 0, 1, 1, 0, 1, 0, 0, 1, 0, 0, 1, 1, 1, 0, 1, 0, 0, 1, 0, 0, 1, 0, 1, 0, 0, 1, 1, 0, 1, 1, 0, 1, 1, 0, 0, 1, 1, 0, 0, 0, 1, 1, 0, 0, 1, 1, 0, 0, 1, 1, 1, 0, 1, 0, 0, 0, 0, 0, 0, 0, 0, 1, 0, 0, 1, 1, 0, 1, 0, 0, 1, 0, 0, 1, 0, 1, 0, 1, 1, 1, 0, 0, 0, 1, 1, 1, 1, 1, 1, 1, 1, 0, 0, 1, 1, 1, 1, 0, 0, 1, 0, 1, 1, 1, 1, 0, 1, 1, 0, 1, 1, 1, 1, 1, 0, 0, 0, 1, 1, 0, 0, 0, 1, 0, 1, 1, 1, 0, 1, 0, 1, 0, 1, 1, 1, 1, 1, 1, 0, 0, 1, 1, 0, 0, 0, 0, 0, 0, 1, 1, 1, 1, 1, 1, 0, 1, 0, 0, 0, 1, 0, 1, 1, 0, 0, 1, 0, 1, 0, 0, 1, 1, 1, 1, 0, 0, 0, 1, 0, 0, 0, 0, 1, 1, 1, 0, 1, 1, 1, 0, 1, 1, 0, 1, 1, 0, 1, 1, 0, 0, 1, 0, 0, 0, 0, 1, 1, 1, 0, 1, 0, 0, 1, 0, 1, 0, 1, 1, 1, 0, 1, 1, 1, 1, 0, 1, 1, 1, 0, 1, 1, 0, 1, 0, 1, 0, 1, 1, 0, 1, 1, 1, 0, 0, 1, 0, 1, 1, 1, 0, 0, 1, 0, 1, 0, 1, 1, 1, 0, 1, 1, 1, 1, 1, 0, 0, 0, 0, 0, 0, 0, 0, 0, 0, 1, 0, 1, 0, 1, 0, 0, 1, 0, 1, 1, 1, 1, 0, 1, 1, 0, 1, 0, 1, 0, 0, 1, 1, 0, 0, 0, 1, 0, 0, 1, 0, 0, 1, 1, 0, 0, 1, 0, 1, 0, 1, 0, 0, 0, 1, 1, 0, 0, 0, 1, 0, 0, 1, 0, 0, 0, 0, 0, 0, 1, 1, 1, 0, 0, 0, 0, 1, 1, 1, 1, 1, 1, 1, 1, 0, 1, 1, 0, 1, 0, 1, 0, 0, 1, 0, 1, 1, 1, 1, 1, 1, 1, 1, 1, 0, 1, 0, 1, 0, 0, 1, 0, 0, 0, 0, 1, 0, 1, 1, 1, 0, 0, 0, 0, 1, 1, 0, 0, 1, 1, 1, 0, 0, 0, 1, 1, 1, 0, 1, 1, 0, 1, 1, 0, 0, 1, 0, 1, 1, 1, 0, 1, 1, 1, 1, 0, 1, 1, 0, 0, 0, 0, 1, 0, 1, 1, 1, 1, 1, 0, 0, 1, 1, 1, 0, 0, 0, 0, 0, 0, 1, 1, 1, 1, 0, 1, 0, 1, 1, 1, 1, 1, 1, 0, 1, 0, 1, 1, 0, 0, 1, 0, 0, 1, 0, 0, 0, 1, 0, 0, 1, 0, 0, 1, 1, 1, 1, 0, 1, 1, 1, 0, 0, 1, 0, 0, 1, 1, 1, 0, 0, 1, 0, 1, 0, 0, 1, 1, 0, 0, 1, 1, 0, 1, 1, 0, 0, 0, 1, 0, 1, 1, 0, 1, 1, 1, 1, 0, 0, 1, 1, 1, 1, 1, 1, 0, 0, 1, 0, 1, 1, 1, 1, 1, 1, 1, 1, 1, 0, 1, 1, 0, 0, 1, 1, 1, 1, 0, 1, 0, 0, 0, 0, 1, 0, 1, 0, 1, 1, 1, 1, 1, 1, 1, 1, 0, 0, 0, 0, 1, 0, 0, 1, 1, 0, 0, 0, 1, 0, 1, 1, 0, 0, 0, 0, 0, 1, 0, 1, 1, 0, 0, 0, 0, 1, 1, 1, 1, 1, 0, 0, 0, 1, 1, 1, 1, 0, 1, 1, 1, 0, 1, 1, 1, 0, 1, 0, 0, 1, 1, 1, 0, 1, 0, 0, 0, 0, 0, 1, 0, 0, 0, 1, 0, 1, 0, 0, 1, 1, 1, 0, 1, 1, 0, 0, 0, 1, 1, 0, 1, 1, 1, 1, 0, 1, 1, 0, 1, 0, 0, 1, 1, 1, 0, 1, 1, 0, 0, 1, 0, 1, 1, 1, 0, 0, 0, 0, 1, 1, 1, 1, 1, 0, 1, 0, 1, 0, 0, 0, 0, 1, 1, 0, 1, 0, 1, 1, 1, 1, 1, 1, 1, 1, 0, 0, 1, 0, 1, 1, 1, 1, 0, 1, 1, 1, 0, 0, 1, 1, 0, 0, 0, 1, 0, 1, 1, 0, 1, 1, 1, 1, 1, 1, 1, 1, 0, 0, 1, 1, 0, 1, 1, 1, 1, 0, 0, 0, 0, 0, 1, 0, 0, 1, 0, 1, 0, 1, 1, 0, 0, 1, 0, 0, 1, 1, 1, 0, 1, 1, 0, 0, 1, 1, 1, 0, 0, 0, 1, 0, 1, 0, 1, 1, 1, 0, 1, 1, 0, 1, 0, 0, 0, 0, 0, 0, 0, 1, 0, 0, 1, 1, 0, 1, 0, 1, 0, 1, 0, 0, 1, 0, 1, 1, 0, 0, 1, 1, 0, 0, 1, 1, 1, 0, 1, 1, 0, 1, 0, 1, 0, 1, 0, 0, 0, 1, 0, 1, 0, 0, 0, 0, 1, 1, 0, 0, 1, 1, 0, 1, 0, 0, 1, 0, 1, 1, 1, 1, 1, 0, 0, 1, 0, 1, 0, 0, 1, 1, 0, 0, 0, 0, 1, 0, 1, 0, 0, 0, 0, 1, 0, 0, 1, 1, 0, 0, 0, 0, 0, 0, 1, 0, 0, 1, 1, 1, 1, 1, 1, 1, 0, 1, 0, 0, 1, 1, 1, 0, 1, 1, 1, 1, 1, 0, 0, 0, 0, 1, 0, 1, 0, 0, 1, 0, 0, 1, 0, 1, 1, 1, 1, 1, 1, 0, 1, 1, 1, 1, 1, 1, 0, 0, 0, 0, 0, 1, 0, 0, 1, 0, 0, 1, 1, 0, 1, 1, 0, 0, 1, 0, 1, 0, 1, 0, 1, 1, 0, 1, 0, 1, 1, 0, 1, 1, 0, 1, 0, 1, 1, 0, 1, 1, 0, 0, 1, 1, 0, 1, 1, 1, 1, 0, 0, 1, 0, 0, 0, 1, 0, 1, 1, 1, 0, 1, 0, 1, 0, 0, 0, 1, 1, 1, 1, 1, 1, 0, 0, 1, 0, 1, 1, 0, 1, 0, 0, 1, 0, 0, 0, 1, 0, 0, 1, 1, 0, 1, 1, 0, 1, 0, 1, 1, 1, 0, 0, 1, 0, 0, 1, 1, 1, 1, 0, 1, 1, 0, 1, 1, 1, 0, 1, 1, 0, 1, 0, 0, 1, 0, 0, 0, 0, 0, 1, 1, 0, 1, 1, 0, 1, 1, 0, 1, 1, 0, 1, 1, 1, 0, 0, 0, 0, 1, 1, 0, 0, 0, 1, 1, 1, 1, 0, 0, 0, 1, 0, 1, 0, 1, 1, 1, 1, 0, 1, 0, 1, 0, 1, 0, 1, 1, 1, 1, 1, 1, 1, 1, 1, 1, 1, 0, 1, 0, 1, 0, 0, 1, 1, 1, 0, 1, 1, 0, 1, 0, 1, 0, 0, 0, 1, 0, 0, 1, 0, 0, 1, 0, 1, 0, 1, 0, 1, 1, 0, 0, 1, 0, 1, 1, 1, 1, 1, 0, 1, 1, 1, 1, 1, 1, 0, 1, 1, 0, 0, 1, 1, 1, 1, 1, 1, 0, 0, 0, 1, 1, 1, 1, 0, 0, 1, 0, 1, 1, 1, 0, 0, 1, 1, 1, 0, 1, 1, 1, 0, 1, 0, 0, 1, 1, 0, 0, 1, 1, 1, 0, 1, 0, 0, 1, 0, 0, 1, 0, 1, 0, 0, 1, 1, 0, 1, 1, 1, 1, 0, 1, 0, 0, 1, 1, 0, 0, 0, 1, 0, 1, 1, 0, 0, 0, 0, 0, 1, 1, 1, 1, 1, 0, 1, 0, 0, 0, 1, 1, 1, 1, 1, 0, 1, 1, 0, 0, 1, 0, 0, 1, 1, 0, 0, 0, 1, 1, 0, 1, 0, 1, 0, 0, 0, 1, 0, 1, 0, 0, 1, 1, 1, 1, 0, 0, 1, 1, 1, 1, 0, 1, 0, 1, 1, 0, 0, 1, 0, 0, 1, 1, 1, 1, 0, 0, 0, 0, 0, 1, 0, 0, 0, 1, 1, 1, 0, 1, 1, 0, 0, 0, 1, 1, 1, 0, 1, 1, 1, 0, 0, 1, 0, 0, 0, 0, 0, 1, 1, 1, 1, 0, 1, 0, 1, 0, 1, 1, 0, 1, 0, 0, 0, 1, 1, 0, 1, 1, 1, 1, 1, 0, 1, 1, 0, 1, 1, 1, 1, 1, 0, 0, 1, 0, 1, 0, 1, 1, 1, 1, 0, 1, 0, 1, 0, 0, 0, 1, 1, 0, 1, 1, 1, 1, 1, 1, 1, 0, 1, 1, 0, 0, 0, 0, 0, 1, 1, 1, 0, 0, 0, 0, 1, 0, 1, 1, 1, 0, 1, 1, 1, 0, 1, 1, 0, 1, 1, 0, 1, 1, 0, 1, 1, 1, 0, 1, 1, 0, 1, 1, 1, 1, 0, 1, 1, 1, 0, 1, 1, 1, 0, 0, 0, 0, 1, 0, 0, 1, 1, 1, 1, 1, 0, 0, 1, 1, 0, 0, 1, 1, 1, 1, 1, 1, 1, 1, 1, 1, 1, 1, 1, 1, 0, 0, 0, 1, 0, 0, 1, 1, 0, 0, 0, 1, 0, 1, 0, 1, 1, 0, 1, 1, 1, 0, 1, 1, 1, 1, 0, 1, 0, 1, 1, 0, 1, 1, 1, 0, 0, 0, 1, 1, 0, 0, 1, 1, 1, 1, 0, 1, 1, 1, 0, 1, 1, 0, 0, 1, 0, 1, 1, 0, 0, 0, 1, 1, 1, 0, 1, 0, 0, 0, 0, 0, 0, 1, 1, 0, 1, 0, 0, 0, 1, 1, 1, 0, 1, 1, 1, 1, 1, 1, 0, 0, 0, 1, 0, 1, 0, 1, 0, 0, 0, 1, 1, 0, 1, 1, 0, 1, 0, 1, 1, 1, 1, 0, 1, 0, 1, 0, 1, 1, 1, 1, 1, 1, 1, 0, 0, 0, 0, 1, 0, 0, 0, 0, 1, 1, 0, 0, 0, 0, 0, 1, 0, 0, 1, 0, 1, 0, 1, 0, 1, 1, 1, 0, 0, 0, 0, 1, 0, 1, 0, 0, 1, 1, 0, 1, 0, 1, 1, 0, 0, 0, 1, 1, 1, 0, 1, 0, 0, 0, 1, 0, 1, 1, 1, 1, 0, 0, 0, 0, 0, 0, 1, 1, 0, 1, 1, 0, 0, 0, 0, 1, 0, 0, 0, 1, 0, 0, 1, 1, 0, 1, 0, 1, 1, 0, 1, 1, 0, 0, 0, 0, 1, 0, 0, 1, 0, 1, 0, 0, 0, 1, 1, 0, 1, 0, 1, 0, 1, 0, 1, 1, 1, 1, 1, 0, 1, 1, 0, 1, 1, 1, 0, 0, 1, 1, 0, 0, 0, 0, 1, 0, 1, 1, 1, 0, 0, 1, 0, 0, 1, 0, 0, 0, 1, 0, 1, 1, 1, 1, 1, 1, 1, 1, 0, 1, 1, 1, 1, 1, 1, 1, 0, 1, 0, 1, 0, 0, 0, 1, 0, 1, 0, 1, 1, 1, 1, 1, 0, 1, 0, 1, 1, 1, 1, 0, 1, 1, 1, 1, 0, 0, 0, 1, 0, 0, 1, 0, 0, 0, 0, 0, 0, 1, 0, 0, 1, 0, 0, 1, 1, 0, 1, 0, 1, 1, 0, 0, 0, 1, 0, 0, 1, 1, 1, 0, 1, 0, 1, 0, 1, 1, 0, 0, 1, 1, 0, 1, 1, 1, 0, 1, 1, 0, 0, 0, 1, 1, 1, 1, 1, 1, 0, 0, 1, 1, 0, 1, 1, 1, 0, 0, 1, 1, 1, 0, 0, 1, 0, 0, 0, 0, 1, 0, 1, 1, 0, 0, 0, 1, 0, 0, 1, 1, 0, 0, 1, 1, 1, 1, 0, 1, 0, 1, 1, 1, 0, 1, 0, 0, 1, 0, 1, 1, 0, 1, 0, 0, 1, 1, 1, 1, 0, 1, 0, 1, 1, 0, 0, 1, 0, 0, 1, 1, 1, 1, 1, 1, 0, 1, 1, 1, 0, 1, 0, 0, 1, 1, 0, 1, 0, 1, 1, 0, 0, 1, 0, 0, 1, 0, 0, 0, 1, 1, 1, 0, 1, 1, 0, 1, 1, 0, 1, 1, 0, 0, 0, 0, 1, 0, 1, 0, 1, 0, 1, 0, 0, 0, 1, 0, 0, 0, 1, 1, 0, 0, 1, 1, 0, 0, 0, 0, 0, 1, 1, 1, 1, 1, 1, 0, 1, 1, 0, 1, 0, 0, 0, 0, 1, 1, 0, 0, 1, 1, 0, 1, 1, 0, 1, 1, 1, 1, 0, 1, 1, 0, 1, 1, 0, 1, 0, 1, 0, 0, 0, 1, 1, 0, 1, 1, 1, 1, 0, 1, 0, 1, 0, 1, 1, 1, 1, 1, 0, 1, 1, 0, 1, 0, 0, 1, 1, 0, 1, 1, 1, 1, 1, 0, 0, 1, 1, 1, 1, 0, 1, 0, 1, 0, 0, 1, 1, 1, 0, 0, 1, 1, 1, 1, 0, 1, 1, 0, 0, 0, 0, 1, 0, 0, 1, 1, 1, 0, 0, 1, 0, 1, 1, 1, 0, 1, 0, 1, 1, 1, 0, 1, 0, 0, 1, 0, 1, 1, 0, 0, 0, 0, 0, 1, 0, 1, 0, 0, 1, 0, 1, 0, 1, 1, 0, 1, 0, 0, 1, 0, 1, 0, 0, 1, 0, 0, 0, 1, 1, 0, 0, 0, 0, 1, 0, 0, 1, 0, 1, 1, 0, 1, 1, 0, 1, 0, 0, 0, 0, 1, 0, 0, 1, 0, 1, 0, 1, 1, 1, 0, 0, 1, 1, 1, 0, 1, 1, 0, 0, 1, 1, 0, 0, 0, 1, 0, 0, 0, 0, 1, 0, 0, 0, 0, 0, 1, 0, 1, 0, 0, 1, 0, 1, 0, 0, 0, 0, 0, 0, 0, 1, 1, 1, 1, 1, 0, 1, 0, 0, 1, 1, 1, 0, 0, 1, 1, 0, 0, 1, 1, 1, 0, 1, 0, 0, 0, 1, 1, 0, 0, 0, 1, 1, 0, 1, 1, 1, 1, 0, 0, 1, 1, 1, 1, 1, 0, 1, 1, 1, 0, 1, 1, 1, 1, 1, 0, 1, 1, 1, 0, 1, 1, 0, 0, 1, 1, 1, 0, 1, 1, 1, 1, 1, 0, 1, 0, 1, 0, 1, 0, 0, 0, 1, 1, 0, 1, 1, 1, 1, 1, 1, 0, 0, 1, 0, 0, 0, 0, 0, 1, 1, 1, 0, 0, 0, 1, 1, 0, 0, 1, 1, 0, 0, 1, 1, 0, 0, 1, 1, 1, 0, 0, 1, 1, 0, 0, 1, 0, 0, 1, 0, 0, 0, 1, 1, 0, 0, 0, 1, 1, 0, 1, 1, 0, 0, 1, 1, 1, 0, 1, 1, 0, 1, 0, 0, 0, 0, 1, 0, 1, 1, 1, 1, 1, 0, 1, 0, 0, 1, 0, 0, 0, 1, 0, 1, 0, 1, 1, 0, 0, 1, 1, 1, 1, 0, 0, 1, 0, 1, 1, 1, 1, 0, 1, 0, 0, 0, 1, 1, 1, 0, 1, 0, 1, 1, 1, 1, 0, 0, 0, 1, 0, 0, 0, 1, 1, 1, 0, 0, 0, 1, 1, 1, 1, 1, 1, 0, 1, 0, 1, 0, 0, 0, 0, 1, 0, 0, 0, 0, 0, 0, 0, 0, 1, 1, 1, 0, 1, 1, 0, 0, 1, 1, 1, 1, 1, 1, 1, 1, 1, 0, 1, 1, 1, 0, 0, 0, 0, 0, 0, 0, 1, 1, 1, 1, 0, 1, 0, 1, 1, 1, 0, 1, 1, 0, 1, 1, 0, 1, 1, 1, 1, 0, 0, 0, 1, 0, 1, 1, 0, 0, 1, 0, 1, 0, 1, 0, 0, 0, 1, 1, 1, 1, 1, 1, 1, 0, 1, 1, 1, 0, 1, 0, 1, 0, 1, 1, 1, 1, 0, 0, 0, 0, 0, 0, 1, 1, 0, 0, 1, 0, 0, 1, 1, 1, 1, 1, 1, 0, 1, 0, 1, 1, 1, 1, 1, 1, 1, 1, 1, 0, 0, 0, 1, 0, 1, 1, 1, 1, 1, 0, 0, 0, 1, 0, 1, 0, 1, 1, 1, 1, 1, 0, 0, 0, 1, 1, 0, 1, 1, 1, 1, 1, 0, 0, 1, 1, 0, 0, 0, 1, 0, 1, 1, 1, 1, 1, 0, 1, 0, 0, 1, 0, 1, 1, 1, 0, 0, 0, 1, 1, 1, 0, 1, 0, 1, 1, 0, 0, 1, 1, 0, 0, 0, 1, 0, 0, 1, 1, 0, 1, 0, 0, 0, 0, 1, 0, 1, 1, 1, 1, 0, 0, 0, 1, 1, 1, 0, 1, 0, 1, 0, 0, 0, 1, 0, 1, 0, 1, 1, 0, 1, 1, 1, 1, 0, 0, 1, 0, 1, 1, 0, 0, 0, 1, 1, 0, 0, 1, 1, 1, 0, 0, 0, 0, 1, 1, 0, 1, 0, 1, 0, 1, 1, 1, 1, 0, 1, 1, 0, 0, 0, 1, 1, 0, 1, 1, 0, 1, 1, 0, 0, 0, 0, 1, 0, 1, 0, 1, 1, 1, 0, 1, 0, 0, 1, 1, 1, 1, 1, 0, 1, 1, 0, 1, 1, 0, 1, 1, 0, 0, 1, 1, 1, 1, 1, 0, 1, 0, 0, 1, 1, 0, 1, 1, 1, 0, 0, 0, 0, 1, 0, 1, 1, 0, 0, 0, 0, 0, 1, 1, 1, 1, 0, 1, 0, 1, 0, 1, 0, 1, 1, 0, 1, 1, 1, 0, 0, 1, 1, 1, 1, 0, 1, 0, 1, 1, 1, 1, 1, 0, 1, 0, 1, 1, 0, 0, 0, 1, 1, 0, 1, 1, 1, 1, 1, 0, 0, 0, 0, 1, 0, 1, 0, 0, 1, 0, 0, 1, 1, 0, 1, 1, 0, 1, 0, 0, 1, 0, 1, 1, 1, 1, 0, 0, 0, 1, 1, 1, 0, 1, 0, 1, 1, 1, 1, 0, 0, 0, 0, 1, 0, 0, 1, 1, 0, 0, 1, 0, 1, 0, 0, 1, 0, 1, 1, 1, 0, 1, 1, 1, 1, 1, 0, 0, 0, 1, 0, 1, 1, 0, 1, 1, 0, 1, 1, 0, 1, 1, 0, 0, 0, 1, 0, 0, 1, 1, 1, 1, 1, 1, 1, 1, 1, 1, 1, 1, 1, 1, 1, 1, 1, 0, 0, 0, 0, 0, 0, 1, 0, 0, 0, 0, 0, 1, 0, 1, 1, 1, 0, 1, 0, 1, 0, 1, 0, 1, 1, 0, 1, 0, 0, 1, 0, 1, 1, 1, 0, 1, 1, 1, 1, 1, 1, 1, 0, 1, 0, 0, 0, 0, 1, 0, 0, 0, 0, 0, 1, 1, 1, 0, 1, 0, 0, 1, 0, 1, 1, 0, 1, 1, 0, 1, 1, 0, 1, 0, 0, 0, 0, 1, 1, 1, 1, 0, 1, 1, 0, 1, 1, 1, 1, 1, 0, 1, 1, 1, 0, 1, 0, 0, 1, 1, 1, 0, 0, 1, 1, 0, 0, 1, 1, 1, 0, 0, 1, 1, 1, 0, 1, 1, 1, 1, 1, 0, 1, 0, 1, 0, 1, 1, 1, 0, 0, 0, 0, 1, 0, 0, 0, 1, 1, 1, 0, 1, 1, 0, 0, 0, 1, 1, 1, 1, 1, 1, 1, 0, 1, 1, 0, 1, 0, 1, 0, 1, 0, 1, 1, 0, 1, 1, 1, 0, 1, 1, 1, 1, 1, 0, 0, 1, 1, 1, 0, 1, 0, 1, 0, 1, 1, 0, 0, 1, 1, 0, 0, 1, 1, 1, 0, 1, 0, 0, 0, 1, 1, 0, 0, 0, 0, 0, 1, 1, 0, 1, 0, 1, 0, 0, 0, 0, 1, 0, 1, 1, 1, 1, 0, 1, 0, 1, 0, 0, 0, 0, 0, 1, 0, 0, 1, 1, 1, 1, 1, 1, 1, 0, 1, 1, 1, 1, 1, 0, 0, 1, 0, 0, 1, 1, 1, 1, 1, 0, 0, 0, 0, 1, 1, 0, 1, 1, 0, 0, 0, 0, 1, 1, 1, 1, 1, 1, 0, 0, 0, 1, 1, 0, 1, 1, 0, 0, 1, 1, 1, 1, 1, 0, 1, 0, 0, 1, 1, 0, 1, 0, 1, 0, 0, 1, 1, 1, 1, 1, 1, 1, 0, 0, 1, 0, 1, 1, 1, 0, 0, 1, 0, 0, 1, 1, 1, 1, 0, 0, 0, 1, 0, 0, 0, 1, 0, 0, 0, 1, 0, 0, 1, 0, 1, 0, 1, 0, 0, 0, 0, 1, 1, 0, 0, 0, 1, 1, 1, 0, 0, 1, 0, 1, 1, 1, 0, 0, 1, 0, 0, 0, 0, 0, 0, 0, 0, 1, 1, 0, 1, 1, 0, 1, 1, 0, 1, 1, 1, 0, 1, 1, 0, 1, 0, 1, 0, 0, 0, 0, 1, 1, 1, 1, 0, 0, 1, 1, 1, 1, 0, 0, 0, 1, 0, 0, 1, 0, 0, 1, 1, 0, 0, 1, 1, 1, 1, 0, 0, 0, 1, 1, 1, 1, 1, 0, 0, 1, 1, 0, 1, 0, 1, 1, 0, 1, 0, 1, 1, 0, 1, 1, 0, 1, 1, 0, 0, 0, 0, 0, 0, 0, 1, 1, 0, 0, 1, 1, 0, 0, 1, 1, 0, 1, 0, 0, 0, 1, 0, 0, 1, 0, 0, 0, 1, 1, 1, 0, 1, 1, 0, 0, 1, 1, 0, 1, 1, 1, 0, 1, 1, 0, 1, 0, 0, 0, 1, 0, 0, 1, 1, 1, 0, 1, 1, 1, 1, 1, 0, 0, 1, 1, 1, 1, 0, 0, 1, 0, 1, 0, 1, 0, 0, 0, 0, 0, 1, 1, 0, 0, 0, 0, 0, 1, 1, 0, 0, 0, 1, 0, 0, 1, 1, 0, 1, 0, 1, 0, 1, 1, 1, 1, 1, 0, 1, 1, 1, 1, 1, 0, 0, 1, 1, 1, 0, 0, 0, 0, 0, 1, 1, 1, 0, 1, 1, 0, 0, 1, 1, 1, 1, 0, 0, 1, 0, 1, 1, 1, 1, 0, 1, 0, 0, 1, 1, 0, 1, 0, 0, 1, 0, 1, 0, 0, 1, 1, 0, 0, 1, 0, 1, 1, 1, 1, 0, 0, 0, 1, 1, 1, 1, 0, 0, 0, 1, 0, 0, 1, 0, 1, 0, 1, 1, 1, 1, 1, 1, 1, 1, 0, 0, 1, 1, 0, 0, 0, 1, 0, 1, 1, 0, 1, 0, 0, 1, 1, 1, 0, 1, 1, 0, 1, 0, 0, 0, 1, 0, 0, 1, 0, 1, 0, 0, 0, 0, 1, 1, 1, 1, 0, 1, 0, 0, 0, 1, 0, 0, 1, 1, 0, 0, 0, 0, 1, 0, 1, 1, 0, 1, 1, 0, 0, 1, 1, 0, 1, 0, 1, 0, 0, 0, 0, 0, 1, 1, 1, 1, 1, 1, 1, 1, 0, 1, 1, 0, 1, 1, 0, 0, 1, 1, 0, 0, 1, 1, 0, 1, 0, 0, 0, 0, 1, 1, 1, 1, 1, 1, 1, 1, 0, 0, 1, 0, 1, 1, 1, 0, 1, 1, 1, 0, 1, 1, 0, 0, 0, 1, 1, 0, 1, 0, 1, 1, 1, 1, 0, 1, 1, 1, 1, 1, 1, 0, 1, 0, 0, 1, 1, 1, 1, 1, 1, 1, 1, 1, 0, 0, 0, 1, 1, 1, 1, 0, 0, 1, 1, 1, 0, 0, 0, 1, 0, 0, 1, 1, 1, 0, 0, 0, 0, 1, 1, 1, 1, 1, 0, 0, 0, 0, 1, 0, 1, 1, 1, 1, 0, 0, 1, 1, 0, 0, 0, 0, 1, 1, 0, 0, 0, 0, 0, 0, 1, 1, 1, 1, 1, 1, 0, 0, 1, 1, 1, 1, 0, 0, 0, 1, 1, 0, 1, 0, 1, 1, 0, 1, 0, 1, 0, 0, 1, 1, 1, 0, 1, 0, 0, 1, 1, 1, 0, 1, 0, 1, 1, 0, 1, 0, 1, 0, 1, 1, 1, 1, 0, 1, 1, 1, 1, 0, 0, 0, 1, 1, 1, 0, 0, 0, 0, 1, 1, 0, 0, 1, 1, 0, 0, 0, 0, 1, 0, 0, 0, 0, 0, 1, 0, 0, 1, 0, 1, 1, 0, 0, 1, 1, 1, 1, 0, 1, 0, 0, 0, 1, 0, 1, 1, 1, 0, 1, 1, 1, 0, 1, 1, 1, 0, 1, 0, 0, 0, 1, 0, 0, 0, 0, 0, 0, 0, 1, 1, 0, 1, 0, 0, 1, 0, 0, 0, 1, 1, 1, 1, 1, 0, 1, 1, 1, 1, 1, 0, 1, 1, 0, 1, 0, 1, 1, 1, 0, 0, 0, 1, 1, 1, 1, 1, 0, 1, 0, 1, 1, 0, 0, 0, 1, 0, 1, 1, 0, 1, 1, 0, 0, 1, 0, 1, 1, 1, 1, 1, 1, 1, 0, 0, 1, 1, 0, 1, 1, 1, 0, 1, 1, 0, 1, 0, 1, 1, 0, 0, 1, 1, 1, 1, 1, 1, 0, 1, 0, 1, 1, 1, 0, 1, 1, 0, 1, 1, 1, 1, 1, 1, 1, 1, 0, 0, 1, 1, 1, 1, 0, 0, 1, 1, 0, 1, 1, 0, 1, 1, 1, 1, 0, 0, 0, 0, 0, 0, 1, 1, 0, 0, 1, 1, 1, 0, 0, 1, 0, 1, 0, 0, 1, 1, 0, 1, 0, 0, 0, 0, 1, 1, 1, 1, 1, 0, 0, 0, 1, 1, 1, 1, 1, 1, 0, 1, 1, 1, 1, 0, 1, 1, 1, 0, 1, 1, 1, 0, 1, 1, 1, 1, 1, 1, 1, 0, 1, 1, 0, 0, 0, 1, 1, 1, 0, 0, 0, 0, 0, 0, 1, 1, 0, 0, 0, 0, 0, 1, 0, 1, 1, 0, 1, 1, 1, 1, 1, 1, 0, 1, 1, 1, 1, 1, 1, 1, 0, 1, 1, 0, 1, 0, 0, 0, 0, 0, 0, 0, 1, 1, 0, 0, 0, 1, 1, 1, 1, 0, 0, 0, 1, 0, 0, 0, 0, 0, 0, 0, 1, 1, 1, 1, 0, 1, 0, 1, 1, 1, 0, 0, 0, 0, 0, 1, 0, 1, 1, 1, 0, 1, 1, 0, 1, 1, 1, 1, 1, 1, 0, 1, 1, 0, 0, 0, 1, 1, 1, 1, 1, 1, 1, 1, 1, 1, 1, 1, 0, 1, 1, 0, 1, 1, 1, 0, 1, 1, 0, 1, 1, 1, 0, 1, 0, 1, 0, 0, 1, 1, 1, 1, 1, 1, 1, 0, 0, 0, 0, 1, 1, 1, 0, 1, 1, 1, 1, 1, 0, 1, 0, 1, 1, 1, 0, 1, 1, 0, 1, 1, 1, 1, 1, 1, 1, 0, 1, 0, 1, 1, 1, 0, 1, 1, 0, 1, 0, 1, 0, 0, 1, 1, 1, 0, 1, 0, 0, 0, 1, 1, 1, 1, 0, 0, 1, 1, 1, 0, 1, 0, 1, 1, 0, 0, 0, 1, 1, 0, 1, 0, 1, 0, 1, 0, 0, 1, 0, 1, 1, 0, 1, 0, 1, 1, 0, 0, 1, 1, 1, 0, 1, 1, 1, 0, 0, 0, 0, 1, 0, 1, 1, 1, 1, 1, 0, 0, 1, 1, 1, 1, 1, 1, 1, 0, 1, 1, 1, 1, 0, 0, 1, 1, 1, 0, 1, 0, 0, 1, 1, 1, 1, 0, 0, 1, 1, 1, 1, 1, 0, 0, 0, 0, 0, 0, 1, 1, 0, 1, 1, 0, 0, 1, 1, 1, 1, 1, 1, 1, 1, 1, 0, 1, 1, 1, 0, 1, 1, 0, 1, 0, 1, 1, 0, 0, 0, 1, 1, 1, 0, 1, 0, 1, 0, 0, 0, 1, 0, 0, 0, 0, 1, 1, 1, 1, 0, 1, 0, 0, 0, 1, 1, 1, 1, 0, 1, 0, 1, 0, 0, 1, 0, 1, 1, 1, 1, 0, 1, 1, 1, 0, 1, 0, 0, 1, 0, 0, 0, 1, 1, 0, 0, 0, 0, 1, 0, 0, 0, 1, 1, 1, 1, 1, 0, 1, 1, 1, 0, 0, 0, 0, 1, 1, 1, 1, 0, 1, 1, 0, 1, 0, 0, 1, 1, 1, 1, 1, 1, 0, 0, 1, 1, 1, 1, 1, 0, 1, 1, 0, 1, 1, 0, 1, 1, 0, 1, 1, 1, 1, 0, 1, 1, 1, 0, 0, 1, 0, 0, 1, 0, 0, 1, 0, 0, 0, 0, 1, 1, 1, 0, 0, 1, 1, 0, 0, 1, 0, 1, 0, 1, 1, 0, 0, 1, 1, 1, 1, 0, 0, 1, 1, 0, 1, 0, 1, 0, 1, 1, 1, 0, 1, 0, 0, 1, 1, 1, 1, 0, 1, 1, 0, 0, 1, 0, 0, 0, 1, 1, 0, 1, 0, 1, 1, 1, 1, 1, 0, 0, 1, 1, 0, 0, 0, 1, 0, 0, 1, 1, 0, 0, 1, 1, 1, 0, 1, 0, 1, 0, 1, 1, 0, 1, 0, 0, 1, 1, 1, 0, 0, 0, 0, 1, 1, 1, 1, 0, 0, 1, 1, 1, 1, 0, 0, 1, 1, 0, 0, 1, 1, 1, 0, 1, 0, 1, 0, 0, 1, 0, 1, 1, 0, 1, 0, 0, 1, 0, 0, 0, 0, 0, 0, 0, 1, 0, 1, 1, 1, 0, 1, 1, 1, 0, 1, 0, 0, 0, 1, 1, 0, 0, 0, 1, 1, 0, 0, 0, 1, 1, 1, 0, 1, 0, 0, 0, 0, 0, 0, 1, 1, 0, 0, 1, 1, 1, 1, 1, 1, 1, 1, 1, 1, 0, 0, 0, 0, 1, 1, 0, 1, 0, 0, 1, 1, 1, 0, 1, 1, 0, 0, 1, 0, 1, 1, 1, 1, 1, 1, 1, 0, 1, 1, 1, 0, 0, 1, 0, 1, 0, 1, 0, 1, 1, 0, 0, 1, 1, 1, 1, 1, 1, 1, 0, 1, 1, 1, 1, 1, 1, 1, 1, 0, 1, 1, 0, 0, 1, 0, 1, 0, 0, 0, 0, 1, 0, 1, 1, 0, 1, 1, 0, 0, 0, 1, 1, 1, 1, 1, 1, 0, 0, 0, 0, 1, 0, 0, 1, 1, 0, 1, 0, 0, 1, 1, 1, 0, 1, 0, 1, 0, 1, 1, 1, 0, 1, 0, 0, 1, 0, 1, 1, 0, 1, 0, 0, 1, 0, 0, 1, 0, 1, 1, 1, 0, 1, 0, 1, 0, 1, 1, 0, 0, 1, 0, 0, 1, 1, 1, 1, 1, 0, 1, 1, 1, 0, 0, 1, 1, 1, 0, 1, 1, 0, 1, 1, 1, 1, 1, 0, 1, 0, 0, 1, 0, 0, 0, 1, 1, 0, 0, 0, 0, 0, 1, 1, 0, 1, 0, 0, 1, 1, 1, 1, 1, 1, 1, 0, 1, 1, 0, 0, 1, 1, 0, 0, 0, 1, 1, 1, 1, 1, 1, 0, 0, 1, 0, 1, 0, 0, 0, 1, 1, 1, 1, 1, 0, 1, 1, 1, 1, 0, 1, 0, 1, 1, 0, 1, 1, 0, 1, 0, 1, 0, 0, 0, 0, 1, 0, 1, 1, 1, 0, 1, 0, 0, 1, 1, 0, 0, 0, 0, 1, 0, 1, 1, 0, 1, 1, 0, 1, 1, 1, 0, 0, 0, 0, 1, 0, 0, 1, 1, 1, 1, 0, 1, 1, 0, 0, 0, 0, 0, 0, 0, 0, 1, 1, 0, 0, 1, 1, 1, 0, 1, 1, 1, 1, 1, 0, 0, 1, 0, 0, 0, 0, 1, 1, 1, 0, 1, 1, 0, 0, 1, 1, 1, 1, 0, 0, 1, 0, 1, 1, 1, 1, 1, 1, 1, 0, 1, 0, 1, 0, 0, 1, 0, 0, 0, 0, 0, 0, 0, 0, 0, 1, 1, 0, 1, 1, 0, 0, 0, 0, 1, 1, 1, 0, 1, 0, 0, 1, 0, 0, 0, 1, 0, 0, 1, 1, 0, 1, 1, 0, 0, 1, 1, 0, 1, 1, 1, 1, 0, 1, 1, 1, 1, 0, 1, 1, 0, 0, 1, 0, 1, 1, 1, 1, 0, 0, 1, 0, 0, 0, 1, 1, 1, 1, 0, 1, 1, 1, 1, 0, 0, 1, 1, 0, 1, 1, 1, 1, 0, 1, 0, 1, 1, 1, 0, 1, 0, 0, 1, 1, 0, 1, 1, 1, 0, 0, 0, 1, 1, 0, 1, 1, 1, 1, 1, 1, 0, 1, 1, 1, 1, 1, 1, 1, 1, 1, 1, 0, 0, 1, 0, 1, 1, 1, 0, 0, 1, 1, 1, 1, 0, 0, 1, 1, 1, 1, 0, 1, 1, 0, 0, 1, 1, 1, 0, 1, 0, 0, 0, 1, 0, 1, 1, 1, 0, 1, 0, 1, 1, 0, 1, 0, 0, 0, 1, 1, 0, 0, 1, 0, 0, 0, 0, 0, 0, 1, 0, 1, 1, 1, 1, 1, 0, 1, 0, 1, 0, 0, 0, 1, 0, 1, 1, 0, 0, 1, 0, 1, 1, 1, 1, 1, 0, 1, 1, 0, 0, 1, 0, 1, 0, 1, 1, 0, 1, 1, 1, 0, 0, 1, 0, 1, 1, 1, 0, 0, 0, 1, 0, 1, 1, 1, 1, 0, 1, 0, 0, 1, 1, 1, 1, 1, 0, 1, 1, 0, 1, 1, 0, 0, 0, 1, 1, 1, 1, 1, 1, 1, 0, 1, 0, 0, 0, 1, 1, 1, 1, 0, 1, 1, 1, 1, 0, 0, 1, 1, 0, 0, 0, 1, 0, 0, 1, 0, 1, 0, 0, 0, 0, 1, 1, 1, 0, 0, 0, 0, 1, 1, 0, 0, 1, 0, 1, 1, 0, 1, 1, 1, 0, 0, 1, 1, 0, 0, 0, 1, 1, 0, 1, 1, 1, 1, 1, 1, 1, 0, 0, 1, 1, 1, 0, 0, 0, 1, 0, 0, 1, 0, 1, 0, 0, 0, 0, 0, 0, 1, 0, 1, 1, 1, 0, 0, 0, 1, 0, 1, 1, 1, 1, 0, 1, 0, 1, 1, 1, 0, 1, 0, 1, 1, 0, 0, 1, 0, 0, 1, 0, 0, 0, 1, 1, 1, 1, 1, 0, 1, 0, 1, 0, 1, 0, 0, 0, 1, 1, 0, 1, 0, 1, 0, 1, 0, 1, 0, 1, 1, 0, 0, 0, 1, 1, 1, 1, 1, 0, 1, 0, 1, 1, 1, 0, 1, 1, 1, 0, 1, 1, 0, 0, 1, 0, 1, 1, 1, 0, 0, 1, 1, 1, 1, 0, 0, 1, 1, 0, 1, 0, 1, 1, 1, 1, 0, 1, 0, 1, 1, 0, 1, 0, 0, 1, 0, 1, 1, 1, 1, 0, 0, 0, 1, 0, 0, 0, 1, 1, 1, 0, 1, 1, 0, 0, 0, 0, 1, 0, 1, 1, 0, 1, 0, 0, 0, 1, 1, 0, 0, 1, 1, 1, 1, 1, 0, 1, 1, 0, 0, 0, 0, 1, 1, 1, 0, 0, 0, 0, 1, 1, 0, 0, 1, 1, 1, 1, 1, 0, 1, 0, 1, 1, 1, 1, 1, 1, 1, 1, 1, 1, 1, 1, 0, 1, 0, 1, 0, 1, 1, 0, 1, 1, 0, 0, 1, 1, 0, 1, 1, 1, 0, 1, 0, 1, 0, 1, 1, 0, 1, 1, 1, 0, 0, 1, 1, 0, 1, 1, 1, 0, 1, 0, 0, 1, 1, 0, 0, 1, 0, 0, 0, 1, 1, 0, 1, 1, 0, 1, 1, 1, 0, 0, 1, 1, 0, 0, 1, 1, 0, 1, 1, 1, 1, 1, 1, 1, 1, 1, 0, 0, 1, 1, 1, 1, 1, 0, 1, 1, 1, 1, 1, 1, 1, 0, 0, 0, 1, 1, 1, 1, 0, 0, 1, 0, 1, 1, 1, 1, 0, 1, 0, 1, 1, 1, 1, 0, 0, 1, 0, 0, 0, 1, 0, 0, 1, 1, 1, 0, 1, 1, 1, 1, 1, 1, 0, 1, 0, 1, 0, 0, 1, 1, 0, 0, 0, 1, 1, 0, 1, 0, 0, 1, 1, 1, 1, 1, 0, 0, 1, 1, 1, 1, 0, 1, 1, 1, 0, 1, 1, 1, 1, 1, 0, 1, 0, 0, 1, 1, 0, 0, 1, 1, 1, 1, 0, 0, 0, 0, 1, 0, 0, 0, 0, 0, 0, 0, 0, 0, 0, 0, 1, 0, 1, 1, 1, 1, 1, 0, 1, 1, 1, 0, 1, 1, 1, 1, 0, 0, 1, 1, 0, 1, 0, 1, 1, 1, 1, 0, 0, 1, 0, 0, 1, 1, 1, 0, 1, 1, 1, 1, 1, 1, 0, 1, 0, 1, 1, 0, 1, 1, 0, 1, 1, 0, 0, 1, 1, 1, 1, 0, 0, 1, 1, 1, 0, 1, 1, 1, 1, 0, 0, 0, 0, 1, 1, 0, 1, 0, 0, 0, 1, 1, 1, 1, 0, 1, 1, 0, 1, 0, 1, 0, 0, 0, 0, 0, 0, 1, 0, 0, 0, 0, 1, 1, 1, 1, 0, 1, 1, 0, 1, 0, 0, 1, 1, 0, 1, 1, 0, 0, 1, 1, 1, 1, 0, 0, 0, 0, 0, 0, 1, 1, 1, 1, 0, 0, 1, 1, 1, 0, 1, 0, 0, 1, 0, 0, 0, 1, 0, 1, 1, 1, 0, 0, 0, 1, 1, 1, 0, 1, 1, 1, 0, 0, 1, 0, 1, 1, 0, 1, 1, 1, 0, 1, 1, 0, 1, 1, 0, 0, 0, 0, 1, 0, 1, 0, 1, 1, 0, 1, 1, 0, 1, 1, 1, 0, 0, 0, 0, 0, 0, 0, 1, 0, 1, 1, 1, 0, 0, 0, 0, 1, 0, 0, 1, 0, 1, 0, 1, 1, 0, 0, 1, 1, 0, 1, 0, 0, 0, 1, 1, 1, 0, 0, 1, 1, 0, 1, 1, 0, 1, 1, 0, 1, 1, 0, 0, 1, 0, 1, 0, 0, 1, 1, 1, 1, 0, 0, 1, 1, 0, 1, 0, 1, 0, 1, 0, 1, 1, 1, 0, 1, 0, 1, 1, 0, 1, 1, 0, 1, 1, 1, 1, 0, 1, 0, 0, 0, 1, 0, 0, 1, 1, 0, 0, 1, 0, 0, 1, 0, 0, 0, 0, 0, 0, 1, 1, 0, 1, 0, 0, 0, 1, 0, 1, 1, 0, 0, 0, 1, 0, 1, 0, 1, 1, 1, 1, 1, 1, 0, 1, 1, 0, 0, 1, 0, 0, 1, 1, 0, 0, 1, 0, 1, 0, 0, 1, 0, 0, 1, 1, 1, 1, 1, 0, 1, 0, 0, 1, 0, 0, 0, 0, 1, 1, 1, 1, 0, 0, 1, 1, 0, 1, 1, 1, 0, 1, 1, 0, 1, 0, 1, 1, 1, 1, 1, 0, 0, 1, 1, 1, 1, 1, 0, 1, 0, 1, 1, 1, 1, 0, 1, 0, 1, 1, 0, 1, 1, 0, 1, 1, 0, 1, 1, 0, 0, 0, 1, 0, 0, 1, 1, 1, 0, 0, 1, 0, 1, 0, 1, 0, 0, 0, 0, 0, 0, 1, 0, 0, 0, 1, 0, 1, 1, 1, 0, 1, 0, 0, 1, 0, 0, 1, 0, 0, 0, 0, 1, 0, 0, 0, 0, 0, 1, 0, 1, 0, 1, 1, 0, 1, 0, 0, 1, 1, 0, 1, 1, 0, 1, 1, 0, 1, 0, 0, 0, 0, 1, 0, 0, 1, 1, 1, 0, 1, 0, 1, 1, 0, 1, 1, 1, 0, 1, 0, 1, 0, 1, 0, 0, 1, 0, 0, 0, 1, 1, 1, 1, 0, 0, 0, 1, 0, 1, 0, 0, 1, 1, 0, 1, 0, 0, 1, 1, 1, 0, 0, 0, 1, 0, 1, 0, 1, 0, 0, 1, 1, 1, 0, 0, 1, 0, 1, 1, 1, 1, 1, 1, 0, 0, 0, 1, 1, 1, 0, 1, 0, 1, 0, 0, 0, 1, 0, 1, 1, 1, 1, 1, 0, 1, 1, 1, 1, 0, 1, 0, 1, 1, 0, 1, 0, 0, 0, 1, 0, 0, 1, 0, 1, 0, 1, 1, 1, 0, 1, 1, 1, 0, 1, 1, 0, 1, 1, 0, 1, 1, 1, 1, 1, 1, 1, 0, 0, 0, 1, 0, 1, 1, 0, 0, 1, 1, 1, 0, 1, 1, 1, 1, 1, 1, 0, 1, 0, 0, 1, 1, 1, 1, 1, 1, 1, 0, 0, 1, 0, 0, 0, 1, 0, 0, 0, 0, 1, 0, 1, 1, 0, 1, 0, 1, 1, 1, 1, 0, 0, 0, 0, 1, 1, 1, 1, 1, 1, 0, 1, 1, 0, 1, 0, 0, 1, 0, 1, 1, 0, 1, 1, 0, 1, 1, 0, 1, 1, 0, 0, 0, 0, 1, 0, 1, 1, 1, 0, 1, 0, 1, 0, 1, 1, 1, 1, 0, 0, 1, 0, 1, 0, 1, 0, 1, 1, 1, 0, 1, 0, 0, 1, 1, 1, 1, 0, 0, 1, 0, 0, 0, 1, 1, 1, 0, 0, 0, 1, 0, 1, 0, 0, 1, 1, 1, 1, 0, 0, 1, 1, 1, 1, 1, 0, 0, 1, 1, 0, 1, 1, 0, 0, 0, 1, 0, 0, 1, 0, 0, 0, 0, 1, 1, 1, 1, 0, 1, 0, 1, 1, 0, 0, 1, 1, 1, 0, 1, 1, 0, 1, 0, 1, 1, 0, 0, 1, 0, 0, 1, 1, 1, 0, 1, 1, 0, 0, 0, 0, 1, 0, 1, 0, 1, 1, 1, 1, 0, 0, 0, 0, 1, 1, 1, 0, 1, 0, 0, 0, 0, 0, 0, 1, 0, 0, 1, 0, 1, 1, 0, 1, 0, 1, 0, 0, 0, 1, 0, 1, 0, 1, 0, 0, 1, 0, 1, 1, 0, 1, 0, 1, 0, 0, 1, 1, 0, 0, 1, 0, 1, 0, 0, 0, 0, 1, 0, 1, 1, 1, 1, 1, 1, 0, 1, 1, 1, 0, 0, 0, 0, 0, 0, 1, 1, 0, 1, 0, 0, 1, 0, 1, 0, 0, 0, 0, 1, 1, 0, 0, 0, 0, 0, 1, 0, 0, 0, 0, 1, 1, 1, 1, 1, 0, 0, 1, 1, 0, 1, 0, 0, 0, 1, 0, 1, 1, 0, 0, 1, 0, 1, 1, 1, 1, 1, 0, 0, 1, 1, 0, 1, 0, 1, 0, 1, 1, 0, 1, 0, 1, 0, 0, 1, 0, 1, 0, 0, 1, 1, 0, 0, 1, 1, 0, 1, 0, 0, 1, 0, 1, 1, 1, 1, 0, 1, 1, 1, 1, 0, 0, 0, 1, 0]\n",
            "9778\n",
            "[2, 3, 0, 0, 4, 3, 3, 0, 0, 0, 2, 4, 3, 4, 3, 0, 0, 0, 0, 0, 0, 2, 3, 1, 4, 1, 0, 0, 4, 0, 3, 0, 2, 2, 0, 0, 3, 0, 0, 0, 3, 0, 0, 1, 0, 1, 2, 0, 3, 0, 0, 0, 0, 0, 0, 0, 0, 0, 2, 2, 0, 0, 0, 0, 0, 2, 0, 4, 3, 0, 3, 1, 0, 0, 2, 0, 0, 4, 3, 0, 0, 0, 0, 0, 4, 0, 0, 0, 3, 0, 3, 0, 0, 0, 0, 0, 0, 2, 0, 0, 4, 4, 0, 4, 2, 2, 2, 1, 3, 0, 0, 0, 3, 0, 3, 2, 3, 0, 3, 0, 0, 0, 0, 2, 0, 3, 1, 0, 0, 0, 4, 2, 2, 2, 0, 0, 0, 0, 0, 0, 0, 4, 3, 0, 0, 2, 2, 0, 0, 0, 2, 0, 0, 0, 3, 2, 0, 0, 2, 0, 1, 0, 3, 3, 2, 4, 2, 0, 0, 0, 0, 0, 2, 2, 0, 0, 2, 2, 2, 4, 0, 0, 4, 2, 1, 0, 0, 0, 2, 2, 0, 0, 2, 0, 0, 2, 2, 4, 0, 0, 0, 3, 2, 3, 0, 0, 0, 0, 2, 0, 0, 3, 4, 2, 0, 0, 0, 0, 0, 0, 0, 4, 0, 0, 2, 4, 0, 0, 2, 0, 0, 3, 4, 4, 0, 0, 0, 0, 4, 2, 0, 0, 0, 0, 0, 0, 3, 3, 0, 3, 0, 0, 0, 0, 4, 0, 3, 0, 3, 2, 2, 2, 3, 3, 3, 3, 2, 0, 4, 0, 2, 1, 2, 2, 0, 4, 0, 2, 3, 3, 0, 0, 0, 0, 1, 0, 3, 0, 1, 3, 0, 2, 3, 0, 1, 0, 0, 4, 2, 0, 0, 0, 1, 0, 2, 0, 0, 4, 0, 0, 0, 2, 0, 0, 4, 2, 0, 2, 0, 0, 0, 4, 0, 0, 3, 3, 2, 0, 0, 1, 0, 1, 0, 2, 1, 0, 0, 0, 0, 0, 0, 2, 2, 0, 0, 0, 0, 1, 3, 4, 3, 1, 3, 0, 3, 2, 2, 0, 3, 0, 3, 0, 2, 0, 0, 4, 0, 0, 3, 0, 3, 2, 0, 3, 1, 2, 4, 2, 2, 0, 4, 0, 0, 2, 0, 3, 0, 0, 0, 0, 3, 0, 4, 2, 2, 2, 0, 2, 0, 0, 0, 0, 3, 3, 0, 3, 0, 0, 3, 0, 0, 4, 0, 0, 0, 1, 3, 4, 0, 1, 4, 0, 4, 2, 0, 2, 0, 0, 0, 2, 0, 0, 0, 1, 0, 0, 0, 4, 3, 3, 3, 0, 0, 0, 0, 2, 0, 0, 4, 0, 4, 3, 0, 0, 3, 4, 0, 3, 0, 0, 3, 0, 4, 0, 2, 0, 0, 0, 3, 0, 0, 3, 0, 3, 1, 0, 0, 0, 0, 0, 0, 3, 0, 4, 0, 3, 3, 0, 0, 0, 3, 4, 0, 0, 0, 2, 0, 4, 0, 0, 0, 0, 0, 4, 0, 3, 1, 0, 0, 4, 0, 0, 1, 0, 1, 0, 0, 4, 3, 0, 3, 3, 0, 0, 3, 0, 4, 2, 3, 0, 4, 0, 2, 2, 3, 4, 0, 4, 2, 2, 0, 4, 3, 0, 0, 0, 0, 0, 4, 0, 0, 2, 0, 0, 3, 2, 4, 0, 0, 0, 0, 0, 3, 0, 0, 0, 3, 4, 3, 3, 3, 0, 0, 0, 4, 0, 0, 0, 0, 3, 0, 0, 2, 1, 0, 0, 2, 3, 2, 2, 0, 0, 4, 2, 0, 0, 3, 0, 0, 3, 3, 4, 0, 0, 0, 0, 0, 0, 0, 0, 4, 4, 0, 0, 3, 0, 4, 0, 4, 0, 0, 2, 3, 2, 3, 3, 0, 1, 0, 2, 0, 0, 0, 0, 0, 2, 0, 4, 0, 4, 2, 0, 0, 3, 4, 2, 2, 0, 3, 2, 4, 0, 0, 0, 0, 0, 0, 0, 0, 0, 3, 2, 0, 0, 1, 0, 0, 0, 2, 0, 2, 4, 0, 0, 0, 0, 3, 0, 2, 3, 1, 0, 0, 2, 2, 0, 1, 3, 3, 0, 0, 2, 0, 0, 0, 0, 0, 0, 3, 0, 3, 0, 0, 0, 0, 3, 3, 0, 0, 0, 2, 3, 0, 2, 0, 0, 0, 3, 2, 0, 4, 2, 4, 3, 0, 0, 3, 2, 0, 2, 2, 0, 3, 0, 2, 0, 0, 0, 0, 4, 0, 0, 0, 3, 2, 3, 1, 0, 0, 0, 2, 3, 3, 3, 0, 4, 4, 4, 1, 0, 0, 0, 0, 0, 0, 0, 3, 0, 3, 0, 0, 3, 0, 0, 0, 2, 4, 0, 4, 0, 0, 0, 3, 2, 3, 0, 4, 3, 4, 0, 0, 0, 0, 2, 2, 0, 0, 4, 2, 0, 3, 0, 1, 0, 0, 0, 3, 2, 3, 1, 4, 4, 0, 0, 2, 0, 2, 0, 1, 0, 4, 4, 0, 0, 0, 4, 4, 2, 0, 4, 4, 0, 0, 0, 3, 0, 2, 3, 2, 0, 2, 2, 2, 3, 4, 0, 4, 3, 0, 0, 2, 0, 0, 0, 4, 2, 0, 0, 3, 0, 3, 0, 3, 0, 0, 0, 0, 3, 0, 0, 3, 3, 0, 2, 3, 0, 0, 0, 4, 0, 3, 4, 0, 3, 0, 3, 0, 0, 1, 0, 0, 3, 0, 3, 2, 0, 4, 3, 0, 0, 2, 0, 0, 0, 0, 2, 4, 0, 2, 1, 3, 3, 0, 4, 3, 0, 3, 0, 0, 0, 4, 0, 2, 3, 0, 0, 0, 0, 0, 2, 0, 0, 0, 2, 0, 2, 0, 0, 3, 4, 0, 0, 0, 0, 0, 4, 0, 0, 0, 0, 4, 0, 0, 0, 2, 0, 0, 4, 3, 0, 0, 0, 0, 2, 0, 0, 0, 1, 3, 0, 2, 4, 3, 2, 4, 3, 0, 2, 2, 2, 0, 0, 0, 4, 2, 0, 2, 0, 3, 3, 0, 4, 0, 0, 0, 0, 0, 0, 2, 4, 3, 0, 3, 0, 0, 0, 0, 4, 0, 3, 0, 0, 2, 2, 0, 3, 4, 4, 3, 0, 2, 2, 0, 2, 0, 0, 0, 1, 2, 0, 0, 3, 0, 2, 0, 4, 0, 4, 0, 1, 3, 1, 0, 3, 0, 3, 4, 0, 3, 3, 4, 3, 0, 3, 0, 0, 3, 0, 1, 3, 2, 2, 0, 2, 0, 4, 2, 2, 3, 0, 3, 1, 0, 0, 0, 0, 4, 0, 0, 4, 2, 1, 0, 2, 0, 1, 0, 0, 2, 3, 2, 0, 0, 0, 0, 2, 0, 4, 0, 3, 0, 2, 0, 3, 2, 3, 0, 1, 4, 2, 0, 3, 1, 0, 0, 3, 2, 0, 0, 0, 0, 0, 0, 2, 4, 0, 0, 3, 4, 0, 1, 3, 0, 0, 1, 0, 0, 1, 0, 0, 3, 0, 2, 2, 4, 3, 0, 0, 0, 4, 0, 2, 0, 0, 0, 0, 4, 0, 0, 0, 4, 3, 0, 2, 0, 4, 2, 3, 2, 0, 4, 0, 1, 0, 0, 3, 0, 0, 2, 3, 0, 2, 0, 0, 0, 0, 2, 4, 0, 0, 3, 0, 4, 0, 4, 2, 2, 0, 0, 0, 0, 0, 0, 2, 4, 4, 0, 1, 0, 3, 0, 0, 4, 0, 0, 1, 0, 0, 3, 0, 0, 0, 0, 0, 4, 2, 2, 0, 4, 0, 0, 0, 4, 0, 0, 0, 2, 0, 2, 0, 0, 0, 2, 0, 0, 4, 4, 0, 1, 3, 2, 0, 0, 0, 2, 0, 2, 2, 3, 3, 0, 0, 0, 0, 2, 0, 1, 0, 4, 0, 0, 0, 1, 4, 0, 0, 0, 0, 2, 2, 2, 2, 3, 0, 0, 0, 0, 0, 0, 0, 0, 3, 0, 3, 0, 1, 2, 2, 4, 3, 2, 4, 0, 2, 0, 3, 0, 2, 1, 0, 0, 2, 3, 4, 0, 3, 4, 3, 0, 0, 2, 0, 0, 0, 3, 0, 4, 0, 0, 0, 3, 4, 2, 2, 0, 2, 2, 1, 4, 0, 0, 0, 0, 2, 0, 2, 3, 2, 4, 4, 0, 4, 3, 0, 0, 3, 2, 3, 2, 2, 0, 0, 0, 4, 3, 0, 0, 0, 4, 0, 3, 0, 2, 0, 0, 0, 1, 2, 3, 2, 0, 0, 0, 0, 0, 0, 1, 1, 0, 4, 1, 0, 0, 3, 0, 0, 2, 0, 0, 1, 4, 0, 0, 0, 0, 0, 0, 0, 2, 2, 2, 2, 4, 4, 0, 0, 0, 0, 2, 0, 1, 2, 2, 0, 0, 2, 3, 2, 3, 0, 0, 0, 2, 0, 3, 0, 0, 0, 2, 0, 4, 1, 0, 4, 0, 0, 0, 4, 0, 0, 0, 3, 0, 3, 3, 0, 0, 0, 0, 4, 0, 4, 3, 2, 2, 0, 2, 0, 1, 0, 0, 3, 0, 0, 0, 0, 0, 2, 3, 0, 0, 0, 2, 0, 4, 0, 1, 0, 0, 2, 1, 0, 0, 0, 0, 3, 0, 1, 1, 1, 0, 1, 2, 0, 4, 0, 3, 1, 3, 0, 2, 0, 3, 3, 1, 2, 4, 0, 0, 0, 3, 0, 0, 4, 2, 0, 0, 4, 3, 0, 0, 4, 2, 0, 4, 0, 4, 4, 2, 1, 0, 0, 2, 0, 0, 0, 0, 0, 1, 3, 0, 4, 3, 3, 3, 2, 0, 2, 2, 3, 2, 3, 0, 2, 2, 0, 2, 4, 3, 2, 2, 2, 0, 0, 4, 0, 4, 0, 3, 2, 0, 0, 2, 0, 3, 2, 0, 0, 0, 2, 0, 3, 0, 0, 3, 0, 4, 0, 0, 0, 1, 1, 0, 0, 0, 2, 3, 0, 3, 0, 0, 0, 4, 0, 2, 0, 2, 0, 0, 0, 0, 0, 0, 2, 3, 4, 3, 0, 0, 0, 0, 0, 0, 4, 0, 2, 2, 0, 0, 0, 1, 4, 0, 2, 0, 3, 0, 1, 4, 2, 0, 0, 0, 0, 3, 2, 3, 4, 4, 3, 2, 0, 0, 2, 3, 3, 0, 0, 2, 3, 1, 4, 0, 0, 2, 0, 0, 2, 0, 0, 0, 0, 0, 0, 0, 0, 2, 0, 0, 2, 0, 3, 0, 0, 0, 2, 4, 0, 0, 0, 0, 0, 4, 3, 0, 2, 0, 0, 2, 0, 3, 0, 0, 0, 2, 0, 3, 0, 4, 0, 0, 0, 4, 3, 0, 0, 0, 0, 2, 2, 3, 2, 0, 0, 4, 0, 3, 1, 2, 3, 2, 0, 0, 1, 2, 0, 0, 3, 0, 0, 0, 0, 2, 0, 0, 3, 3, 3, 0, 0, 0, 0, 2, 4, 0, 0, 0, 0, 2, 0, 2, 2, 2, 4, 4, 0, 3, 0, 0, 0, 4, 0, 2, 0, 3, 0, 0, 3, 2, 3, 2, 3, 0, 0, 0, 0, 2, 0, 0, 0, 2, 0, 3, 0, 0, 2, 4, 0, 2, 0, 0, 4, 3, 4, 0, 0, 0, 2, 0, 2, 0, 0, 2, 0, 0, 3, 4, 0, 0, 0, 2, 0, 0, 4, 0, 0, 0, 2, 0, 2, 0, 0, 0, 0, 3, 3, 2, 0, 0, 0, 4, 2, 2, 3, 2, 2, 0, 2, 4, 0, 0, 3, 0, 3, 2, 0, 0, 0, 3, 4, 0, 0, 2, 2, 0, 0, 4, 0, 3, 2, 2, 1, 0, 0, 4, 4, 0, 4, 2, 2, 0, 2, 4, 0, 2, 0, 2, 0, 0, 0, 0, 2, 0, 0, 0, 0, 2, 0, 0, 0, 0, 0, 0, 0, 2, 0, 0, 0, 3, 0, 3, 4, 0, 0, 2, 3, 0, 0, 3, 0, 2, 0, 0, 0, 4, 0, 1, 0, 4, 0, 4, 0, 0, 0, 2, 0, 0, 0, 0, 0, 0, 0, 3, 3, 0, 3, 4, 3, 0, 2, 0, 2, 3, 0, 3, 4, 0, 0, 0, 2, 4, 3, 4, 4, 0, 2, 4, 3, 2, 3, 0, 0, 2, 0, 0, 0, 3, 4, 0, 0, 0, 0, 0, 3, 3, 2, 3, 0, 4, 0, 0, 2, 0, 1, 4, 0, 2, 0, 0, 4, 4, 2, 2, 0, 0, 3, 0, 0, 2, 4, 0, 2, 0, 3, 0, 3, 0, 0, 0, 2, 0, 3, 0, 4, 0, 0, 4, 4, 0, 0, 2, 4, 0, 0, 0, 0, 3, 0, 0, 3, 2, 2, 2, 0, 0, 0, 3, 0, 0, 0, 0, 3, 0, 0, 0, 0, 3, 0, 0, 4, 2, 2, 0, 3, 4, 4, 1, 0, 4, 3, 0, 2, 0, 3, 0, 0, 0, 0, 0, 0, 0, 3, 0, 0, 4, 3, 0, 0, 3, 3, 0, 3, 0, 0, 0, 4, 4, 0, 0, 0, 0, 0, 0, 2, 4, 2, 0, 0, 3, 4, 0, 0, 0, 4, 0, 0, 0, 0, 0, 2, 0, 0, 0, 0, 0, 2, 0, 3, 0, 4, 2, 3, 0, 2, 1, 0, 3, 3, 0, 4, 3, 4, 3, 3, 0, 0, 4, 0, 0, 0, 4, 0, 0, 0, 0, 0, 0, 0, 0, 4, 4, 1, 3, 4, 0, 1, 3, 0, 0, 3, 0, 2, 2, 0, 0, 0, 0, 3, 0, 2, 4, 0, 4, 0, 1, 0, 3, 0, 2, 2, 0, 4, 4, 4, 2, 4, 2, 4, 0, 0, 0, 2, 2, 4, 4, 2, 0, 0, 1, 2, 3, 2, 2, 3, 2, 2, 0, 2, 2, 0, 2, 0, 4, 0, 4, 3, 0, 2, 0, 3, 0, 0, 0, 1, 0, 0, 3, 0, 0, 3, 0, 0, 3, 2, 0, 0, 0, 4, 4, 0, 3, 1, 2, 0, 4, 4, 4, 0, 0, 3, 0, 0, 0, 0, 0, 1, 4, 0, 2, 0, 2, 4, 2, 0, 1, 3, 0, 1, 0, 0, 0, 0, 0, 0, 4, 2, 0, 2, 0, 3, 3, 0, 3, 0, 0, 0, 0, 0, 4, 0, 0, 0, 0, 2, 2, 3, 0, 4, 2, 0, 4, 0, 0, 0, 2, 0, 4, 0, 3, 0, 0, 0, 0, 3, 2, 3, 1, 2, 0, 4, 2, 0, 0, 0, 3, 0, 4, 3, 1, 2, 0, 0, 0, 2, 0, 4, 2, 0, 0, 3, 0, 1, 0, 0, 0, 0, 3, 0, 2, 4, 3, 3, 0, 0, 3, 0, 0, 0, 0, 0, 0, 3, 3, 3, 0, 0, 4, 0, 2, 2, 4, 1, 0, 2, 0, 3, 0, 0, 0, 0, 0, 0, 3, 0, 2, 0, 3, 0, 0, 3, 4, 0, 4, 4, 0, 4, 0, 1, 0, 0, 0, 2, 4, 0, 0, 3, 0, 0, 3, 3, 3, 0, 2, 0, 2, 0, 0, 3, 2, 3, 1, 0, 0, 0, 1, 0, 0, 0, 2, 0, 0, 2, 0, 0, 1, 0, 0, 3, 4, 4, 3, 4, 2, 2, 0, 0, 2, 3, 0, 0, 4, 0, 0, 3, 0, 4, 2, 0, 2, 0, 2, 0, 0, 3, 2, 2, 4, 1, 0, 2, 0, 0, 0, 0, 0, 0, 0, 2, 3, 2, 1, 2, 3, 0, 2, 0, 0, 3, 0, 0, 0, 1, 0, 2, 0, 2, 4, 0, 0, 0, 0, 0, 2, 1, 2, 4, 0, 0, 0, 0, 4, 0, 0, 4, 3, 4, 0, 0, 0, 0, 0, 4, 4, 3, 3, 0, 3, 4, 0, 3, 3, 3, 3, 0, 0, 0, 0, 3, 0, 0, 0, 0, 1, 0, 0, 2, 2, 0, 0, 0, 0, 2, 0, 0, 2, 2, 0, 3, 4, 0, 0, 3, 3, 4, 3, 3, 0, 3, 0, 0, 2, 0, 3, 3, 0, 1, 2, 2, 0, 2, 0, 2, 0, 4, 0, 0, 4, 2, 0, 0, 0, 2, 3, 4, 0, 2, 0, 4, 0, 0, 1, 0, 0, 0, 0, 2, 0, 4, 0, 0, 3, 0, 0, 0, 2, 0, 0, 2, 1, 2, 3, 0, 2, 3, 1, 0, 0, 0, 0, 0, 0, 1, 0, 0, 0, 0, 0, 3, 0, 2, 0, 3, 3, 0, 0, 0, 0, 0, 3, 2, 3, 0, 1, 0, 0, 0, 3, 4, 3, 1, 0, 0, 4, 0, 2, 3, 0, 0, 4, 2, 2, 4, 2, 0, 0, 0, 3, 4, 0, 2, 1, 0, 0, 0, 0, 0, 0, 4, 3, 2, 4, 4, 0, 3, 0, 1, 3, 0, 3, 0, 0, 1, 4, 1, 3, 1, 0, 3, 0, 4, 0, 2, 0, 3, 2, 0, 1, 4, 0, 1, 0, 0, 0, 4, 4, 3, 3, 0, 0, 0, 0, 0, 0, 3, 1, 0, 3, 0, 0, 0, 0, 0, 3, 0, 0, 0, 2, 2, 3, 0, 3, 0, 0, 0, 3, 2, 4, 2, 4, 4, 2, 2, 0, 0, 0, 2, 0, 0, 3, 0, 2, 0, 0, 0, 0, 0, 0, 1, 2, 2, 2, 0, 1, 2, 2, 0, 1, 4, 4, 3, 4, 2, 0, 3, 1, 0, 3, 3, 0, 0, 0, 2, 3, 2, 0, 0, 0, 4, 0, 0, 4, 1, 2, 4, 4, 0, 4, 3, 1, 2, 1, 4, 0, 2, 0, 0, 0, 4, 0, 1, 0, 4, 4, 0, 0, 2, 4, 0, 0, 3, 0, 3, 0, 4, 3, 0, 0, 3, 4, 3, 0, 0, 2, 0, 0, 0, 4, 0, 2, 0, 4, 0, 2, 1, 0, 0, 4, 0, 0, 3, 0, 0, 0, 0, 0, 0, 0, 0, 0, 0, 3, 3, 0, 0, 4, 4, 0, 4, 0, 0, 2, 0, 2, 2, 0, 3, 0, 0, 3, 0, 2, 2, 2, 0, 4, 0, 0, 0, 0, 0, 4, 3, 2, 0, 0, 0, 0, 0, 0, 0, 0, 2, 4, 0, 0, 0, 0, 3, 0, 2, 0, 0, 0, 3, 3, 0, 0, 0, 0, 0, 3, 0, 4, 4, 0, 0, 4, 2, 0, 3, 4, 2, 0, 0, 3, 2, 0, 2, 3, 3, 0, 0, 3, 4, 3, 0, 0, 4, 1, 0, 2, 0, 0, 2, 0, 0, 0, 4, 0, 1, 2, 0, 2, 2, 4, 3, 4, 1, 0, 3, 0, 0, 3, 0, 0, 0, 3, 0, 0, 3, 3, 0, 3, 2, 1, 3, 2, 0, 0, 2, 2, 0, 3, 2, 0, 0, 0, 1, 0, 2, 1, 0, 0, 0, 0, 0, 2, 4, 4, 2, 3, 0, 4, 3, 4, 0, 2, 2, 0, 3, 2, 0, 2, 0, 0, 0, 3, 4, 3, 0, 0, 4, 2, 4, 0, 2, 3, 3, 3, 0, 3, 0, 4, 0, 1, 0, 4, 0, 3, 0, 0, 2, 3, 0, 4, 3, 1, 0, 0, 0, 0, 3, 2, 3, 0, 0, 3, 0, 0, 0, 0, 0, 0, 2, 2, 2, 0, 0, 0, 3, 0, 0, 2, 0, 2, 3, 0, 2, 0, 4, 0, 3, 0, 0, 0, 0, 1, 2, 0, 2, 0, 0, 3, 0, 0, 1, 0, 0, 0, 0, 0, 0, 0, 2, 0, 0, 4, 0, 0, 4, 0, 3, 0, 2, 2, 0, 0, 2, 2, 0, 2, 0, 0, 2, 0, 3, 3, 0, 0, 0, 0, 0, 3, 3, 0, 3, 0, 0, 4, 0, 2, 0, 4, 1, 0, 0, 4, 3, 0, 0, 4, 0, 3, 0, 3, 0, 0, 0, 4, 0, 3, 0, 0, 0, 0, 0, 0, 0, 0, 0, 3, 3, 0, 3, 0, 0, 2, 0, 0, 0, 0, 0, 0, 0, 0, 0, 0, 0, 0, 0, 3, 0, 0, 0, 0, 1, 2, 0, 0, 2, 0, 3, 3, 0, 3, 0, 0, 0, 3, 1, 4, 4, 3, 2, 1, 3, 0, 3, 0, 0, 0, 3, 0, 0, 2, 0, 0, 4, 0, 0, 3, 0, 0, 2, 2, 0, 0, 2, 0, 2, 3, 4, 1, 0, 0, 4, 4, 0, 4, 0, 0, 2, 2, 0, 3, 0, 0, 2, 0, 3, 0, 0, 0, 0, 3, 0, 3, 0, 4, 2, 0, 0, 2, 0, 4, 0, 4, 2, 0, 0, 0, 0, 0, 4, 2, 0, 4, 0, 0, 1, 4, 0, 0, 0, 0, 2, 0, 3, 0, 2, 0, 0, 0, 0, 3, 0, 3, 4, 0, 3, 0, 0, 2, 1, 3, 2, 0, 4, 0, 0, 3, 0, 3, 0, 0, 4, 0, 1, 0, 1, 0, 3, 2, 4, 0, 4, 0, 4, 2, 4, 4, 0, 2, 1, 0, 0, 3, 1, 2, 2, 0, 0, 2, 3, 3, 3, 1, 0, 3, 0, 0, 0, 4, 2, 0, 0, 0, 3, 3, 0, 0, 4, 0, 0, 0, 2, 0, 4, 2, 1, 2, 0, 0, 3, 3, 0, 0, 0, 0, 2, 0, 0, 0, 0, 4, 0, 0, 2, 1, 1, 0, 3, 4, 2, 3, 0, 2, 0, 0, 0, 3, 0, 0, 3, 3, 4, 3, 2, 0, 0, 2, 2, 3, 3, 0, 2, 0, 0, 0, 0, 0, 2, 0, 0, 4, 4, 0, 3, 2, 0, 3, 2, 0, 0, 0, 2, 0, 4, 2, 2, 3, 2, 0, 0, 0, 3, 0, 0, 0, 0, 4, 2, 2, 0, 2, 0, 2, 0, 3, 0, 3, 2, 0, 0, 0, 2, 2, 0, 2, 0, 1, 4, 0, 3, 4, 0, 4, 2, 0, 0, 0, 0, 0, 0, 0, 4, 4, 2, 0, 0, 0, 2, 3, 1, 0, 0, 1, 3, 0, 4, 0, 0, 0, 2, 2, 0, 0, 0, 2, 2, 0, 0, 0, 0, 3, 4, 0, 3, 0, 0, 4, 0, 0, 2, 4, 2, 2, 0, 0, 4, 3, 1, 2, 0, 4, 1, 0, 0, 1, 2, 4, 3, 0, 2, 0, 1, 3, 0, 0, 0, 0, 0, 0, 2, 2, 0, 0, 0, 0, 4, 2, 0, 3, 4, 2, 3, 0, 0, 0, 0, 3, 0, 0, 0, 0, 0, 0, 2, 0, 1, 2, 0, 0, 2, 3, 0, 0, 1, 2, 3, 0, 0, 4, 0, 0, 2, 3, 2, 0, 0, 0, 2, 0, 3, 4, 1, 0, 2, 0, 0, 4, 0, 0, 3, 0, 0, 3, 0, 0, 2, 0, 3, 0, 0, 0, 4, 4, 4, 0, 3, 0, 0, 0, 2, 0, 2, 3, 0, 0, 4, 4, 4, 2, 3, 0, 3, 0, 4, 3, 4, 2, 3, 0, 0, 0, 4, 0, 0, 4, 3, 0, 0, 0, 0, 0, 1, 0, 0, 0, 1, 0, 0, 2, 0, 0, 0, 1, 0, 0, 2, 3, 0, 0, 0, 0, 3, 3, 0, 0, 0, 3, 2, 0, 0, 3, 2, 0, 0, 3, 0, 4, 4, 0, 0, 2, 2, 0, 3, 0, 0, 0, 0, 0, 0, 3, 4, 0, 2, 0, 0, 0, 0, 2, 3, 0, 4, 0, 0, 4, 0, 1, 0, 0, 4, 0, 0, 0, 0, 1, 0, 2, 3, 0, 4, 0, 0, 2, 0, 0, 3, 0, 3, 0, 0, 3, 0, 2, 0, 2, 0, 0, 3, 4, 0, 4, 0, 2, 0, 4, 1, 4, 4, 0, 0, 0, 0, 3, 0, 2, 0, 3, 3, 0, 0, 2, 2, 0, 0, 0, 3, 4, 0, 0, 3, 2, 4, 2, 0, 0, 3, 0, 3, 1, 2, 2, 4, 0, 3, 0, 0, 3, 0, 0, 4, 0, 2, 0, 2, 4, 1, 0, 0, 4, 3, 4, 2, 0, 1, 4, 2, 3, 0, 0, 2, 0, 1, 0, 0, 4, 0, 2, 3, 0, 0, 3, 2, 2, 0, 0, 3, 0, 0, 1, 0, 2, 0, 3, 0, 3, 2, 0, 0, 1, 0, 2, 3, 0, 1, 0, 0, 0, 2, 0, 4, 0, 3, 3, 0, 0, 0, 0, 2, 3, 4, 3, 0, 0, 0, 2, 3, 0, 0, 0, 0, 2, 3, 0, 4, 0, 0, 2, 0, 0, 0, 0, 2, 0, 1, 4, 0, 1, 0, 3, 0, 3, 0, 4, 4, 0, 2, 0, 0, 0, 0, 1, 0, 0, 0, 2, 0, 4, 0, 3, 0, 0, 3, 1, 3, 2, 4, 1, 0, 4, 2, 2, 3, 0, 4, 1, 3, 2, 0, 0, 2, 0, 0, 3, 2, 2, 0, 0, 3, 2, 2, 0, 0, 0, 4, 0, 4, 0, 1, 4, 0, 2, 3, 0, 3, 0, 2, 3, 2, 3, 0, 3, 2, 4, 0, 2, 4, 0, 0, 4, 4, 3, 0, 3, 0, 0, 0, 3, 0, 0, 1, 0, 4, 0, 1, 3, 0, 0, 3, 0, 4, 0, 4, 0, 3, 2, 3, 3, 4, 4, 0, 0, 2, 0, 0, 0, 0, 0, 0, 3, 3, 0, 0, 3, 0, 2, 2, 0, 1, 2, 0, 3, 0, 4, 3, 4, 0, 0, 4, 3, 2, 2, 0, 0, 2, 4, 2, 0, 2, 2, 2, 0, 3, 0, 0, 0, 3, 3, 3, 2, 2, 0, 0, 3, 0, 0, 0, 2, 0, 4, 0, 3, 2, 2, 0, 0, 0, 2, 0, 4, 0, 0, 2, 0, 0, 2, 1, 0, 0, 3, 0, 3, 4, 3, 3, 0, 4, 4, 0, 0, 3, 4, 0, 2, 0, 3, 2, 3, 0, 4, 0, 3, 0, 4, 3, 2, 0, 3, 4, 0, 1, 0, 0, 0, 0, 0, 3, 0, 0, 2, 4, 0, 0, 0, 4, 0, 0, 0, 2, 4, 4, 0, 0, 0, 0, 2, 3, 0, 4, 1, 2, 3, 0, 0, 0, 0, 0, 2, 4, 4, 0, 3, 2, 0, 0, 0, 3, 0, 0, 0, 0, 0, 0, 0, 0, 3, 0, 2, 2, 0, 3, 4, 2, 2, 0, 2, 0, 0, 0, 4, 0, 0, 0, 0, 0, 0, 2, 4, 0, 3, 4, 0, 4, 4, 4, 2, 4, 0, 4, 4, 0, 2, 0, 0, 2, 4, 1, 2, 0, 0, 2, 0, 0, 0, 2, 0, 3, 0, 0, 3, 4, 3, 4, 0, 0, 0, 2, 0, 0, 3, 3, 4, 0, 3, 2, 0, 0, 3, 0, 2, 0, 2, 2, 0, 0, 0, 2, 0, 0, 1, 0, 0, 3, 0, 0, 2, 0, 0, 0, 3, 4, 4, 0, 2, 2, 0, 0, 2, 3, 4, 0, 0, 2, 0, 2, 3, 2, 3, 2, 2, 4, 0, 2, 0, 4, 0, 3, 0, 0, 0, 3, 0, 2, 2, 0, 0, 2, 0, 2, 4, 3, 2, 2, 3, 0, 0, 4, 2, 4, 0, 0, 0, 3, 0, 0, 1, 0, 0, 0, 3, 0, 3, 0, 0, 0, 0, 3, 2, 3, 4, 0, 0, 0, 0, 3, 0, 3, 0, 0, 0, 0, 4, 2, 3, 3, 0, 3, 1, 3, 2, 4, 0, 3, 0, 3, 0, 2, 0, 3, 4, 4, 2, 2, 2, 0, 0, 0, 0, 4, 0, 0, 2, 2, 4, 3, 0, 0, 2, 3, 0, 0, 0, 0, 1, 0, 0, 0, 4, 2, 3, 3, 4, 3, 0, 4, 4, 0, 2, 4, 0, 4, 0, 2, 3, 0, 0, 0, 0, 2, 0, 0, 1, 4, 0, 3, 3, 0, 0, 3, 2, 4, 4, 4, 0, 0, 3, 2, 0, 2, 0, 0, 1, 0, 0, 2, 0, 3, 0, 0, 3, 0, 0, 0, 0, 2, 3, 0, 0, 0, 0, 0, 0, 2, 0, 4, 0, 0, 3, 3, 4, 3, 3, 0, 1, 2, 0, 2, 0, 3, 0, 4, 4, 0, 4, 0, 0, 0, 0, 0, 2, 4, 2, 0, 0, 4, 0, 2, 0, 3, 0, 0, 0, 0, 0, 0, 4, 0, 0, 0, 2, 3, 0, 4, 4, 0, 0, 3, 0, 0, 2, 2, 2, 0, 0, 3, 2, 0, 0, 0, 3, 3, 0, 3, 2, 0, 0, 0, 0, 0, 2, 2, 3, 2, 2, 3, 4, 3, 0, 2, 3, 2, 1, 4, 4, 0, 0, 0, 0, 3, 4, 4, 3, 4, 3, 0, 0, 3, 0, 0, 0, 4, 0, 0, 0, 2, 2, 0, 2, 2, 0, 2, 0, 0, 3, 0, 4, 0, 2, 0, 0, 4, 4, 4, 2, 0, 0, 0, 0, 3, 0, 0, 0, 0, 0, 0, 2, 3, 0, 0, 0, 0, 2, 0, 1, 2, 0, 2, 3, 4, 0, 4, 0, 0, 3, 0, 4, 2, 4, 0, 4, 0, 0, 0, 3, 2, 0, 0, 3, 3, 0, 0, 3, 3, 0, 2, 0, 0, 2, 0, 0, 0, 0, 2, 0, 3, 3, 2, 4, 0, 0, 0, 0, 4, 0, 3, 0, 0, 0, 0, 0, 0, 0, 0, 0, 0, 3, 0, 2, 3, 4, 0, 0, 2, 0, 1, 0, 0, 3, 3, 0, 0, 0, 1, 2, 2, 1, 2, 0, 3, 0, 0, 0, 0, 0, 0, 1, 0, 0, 2, 3, 1, 4, 4, 2, 2, 0, 3, 0, 0, 0, 2, 4, 0, 0, 0, 1, 1, 0, 1, 0, 2, 0, 2, 2, 3, 0, 4, 0, 3, 0, 2, 2, 3, 0, 2, 2, 0, 0, 3, 0, 3, 0, 0, 3, 3, 0, 0, 0, 2, 0, 3, 0, 0, 0, 2, 2, 0, 0, 2, 3, 3, 4, 4, 2, 2, 3, 0, 3, 3, 0, 1, 0, 4, 0, 0, 0, 2, 0, 0, 0, 0, 0, 0, 3, 0, 4, 0, 0, 0, 3, 0, 3, 2, 0, 0, 0, 0, 3, 1, 0, 4, 0, 3, 0, 4, 2, 0, 0, 0, 0, 2, 0, 0, 3, 0, 0, 0, 0, 2, 0, 4, 4, 0, 3, 0, 0, 0, 2, 4, 0, 0, 3, 2, 0, 0, 3, 4, 1, 0, 2, 0, 3, 0, 0, 0, 1, 0, 0, 2, 0, 0, 3, 0, 0, 0, 0, 2, 0, 2, 0, 0, 0, 2, 2, 4, 2, 4, 0, 0, 0, 4, 3, 0, 0, 2, 2, 0, 4, 1, 0, 0, 2, 4, 2, 0, 0, 1, 3, 2, 2, 4, 2, 2, 2, 3, 0, 3, 3, 2, 4, 1, 3, 0, 0, 2, 2, 0, 0, 0, 2, 0, 2, 2, 3, 4, 0, 3, 2, 0, 3, 1, 0, 1, 4, 3, 0, 4, 2, 0, 2, 3, 0, 0, 0, 2, 0, 0, 1, 0, 2, 4, 0, 0, 0, 4, 0, 4, 2, 3, 0, 0, 4, 0, 0, 3, 0, 0, 0, 4, 0, 0, 4, 0, 4, 0, 2, 0, 1, 4, 0, 1, 3, 0, 0, 0, 0, 0, 0, 0, 0, 0, 4, 0, 4, 2, 0, 2, 1, 0, 0, 3, 4, 0, 2, 0, 4, 0, 0, 2, 0, 2, 4, 0, 3, 1, 3, 0, 0, 0, 0, 0, 0, 2, 0, 0, 0, 2, 0, 4, 0, 0, 0, 0, 0, 4, 3, 0, 0, 0, 0, 0, 2, 0, 2, 2, 2, 0, 2, 0, 4, 3, 0, 0, 2, 0, 4, 0, 0, 0, 0, 4, 3, 0, 3, 0, 0, 0, 0, 0, 0, 0, 0, 0, 0, 4, 4, 3, 0, 2, 3, 0, 3, 0, 3, 0, 0, 0, 0, 3, 0, 1, 1, 0, 0, 0, 0, 2, 3, 0, 0, 3, 3, 0, 3, 2, 0, 0, 0, 0, 2, 0, 0, 0, 3, 0, 4, 4, 0, 0, 3, 0, 0, 3, 0, 0, 3, 0, 3, 3, 2, 2, 3, 0, 1, 0, 2, 2, 2, 0, 3, 0, 0, 0, 0, 3, 0, 3, 0, 0, 0, 0, 4, 0, 0, 0, 0, 4, 0, 0, 2, 2, 2, 3, 0, 2, 0, 0, 0, 0, 4, 0, 0, 0, 4, 4, 0, 0, 2, 0, 2, 0, 2, 2, 3, 0, 4, 0, 2, 2, 0, 3, 0, 0, 0, 4, 0, 2, 0, 3, 2, 0, 0, 0, 3, 0, 0, 0, 2, 0, 0, 0, 0, 0, 0, 0, 0, 3, 1, 0, 0, 0, 4, 4, 2, 0, 0, 0, 0, 0, 4, 0, 0, 0, 0, 0, 0, 2, 0, 0, 0, 0, 0, 2, 4, 0, 0, 2, 2, 2, 0, 3, 2, 2, 3, 2, 2, 2, 0, 4, 1, 3, 0, 1, 0, 0, 0, 2, 3, 2, 4, 4, 3, 2, 2, 0, 3, 0, 0, 0, 0, 4, 0, 0, 3, 0, 4, 3, 4, 3, 0, 0, 0, 0, 0, 0, 4, 2, 0, 0, 0, 0, 0, 0, 3, 0, 4, 0, 2, 4, 0, 0, 0, 4, 0, 0, 2, 0, 4, 3, 0, 0, 0, 0, 0, 4, 0, 3, 2, 0, 0, 0, 0, 0, 0, 4, 2, 4, 0, 0, 4, 0, 3, 0, 3, 1, 1, 0, 3, 3, 0, 3, 0, 0, 0, 4, 0, 1, 0, 2, 0, 0, 2, 0, 0, 2, 3, 3, 4, 2, 0, 0, 0, 2, 0, 0, 0, 1, 3, 0, 2, 0, 0, 2, 0, 1, 0, 0, 0, 0, 0, 2, 2, 0, 4, 0, 0, 0, 2, 0, 0, 0, 2, 4, 3, 0, 0, 0, 4, 3, 0, 2, 4, 4, 4, 0, 0, 0, 4, 2, 3, 2, 3, 2, 0, 0, 0, 0, 0, 0, 3, 3, 0, 0, 0, 0, 0, 4, 4, 3, 0, 4, 0, 0, 0, 0, 3, 3, 0, 0, 0, 0, 2, 2, 0, 0, 4, 4, 2, 0, 0, 0, 1, 3, 4, 0, 4, 1, 0, 2, 2, 0, 0, 1, 0, 3, 0, 3, 0, 0, 0, 3, 0, 0, 0, 3, 1, 0, 3, 2, 4, 0, 0, 3, 2, 0, 0, 3, 0, 0, 0, 0, 0, 4, 4, 4, 0, 0, 4, 0, 0, 4, 0, 4, 0, 0, 0, 0, 3, 0, 0, 2, 0, 0, 0, 2, 0, 0, 0, 4, 0, 0, 0, 4, 3, 0, 0, 4, 4, 0, 0, 2, 0, 4, 0, 0, 4, 4, 3, 3, 0, 0, 0, 0, 0, 4, 3, 2, 0, 0, 2, 0, 4, 0, 3, 0, 0, 3, 0, 3, 2, 4, 0, 0, 0, 3, 0, 0, 2, 2, 1, 0, 3, 0, 0, 3, 0, 0, 1, 4, 2, 1, 2, 0, 0, 3, 2, 0, 2, 3, 0, 0, 0, 0, 3, 0, 0, 0, 0, 0, 0, 3, 0, 0, 0, 0, 2, 0, 0, 3, 3, 0, 4, 0, 2, 0, 0, 0, 3, 0, 0, 2, 4, 0, 1, 0, 3, 4, 0, 2, 0, 0, 0, 0, 0, 2, 3, 0, 0, 0, 0, 2, 3, 1, 2, 2, 2, 0, 0, 4, 0, 1, 0, 0, 4, 3, 3, 2, 3, 0, 0, 0, 3, 1, 0, 0, 0, 1, 4, 2, 0, 4, 2, 4, 0, 0, 0, 0, 2, 0, 0, 2, 0, 4, 0, 3, 0, 2, 0, 0, 0, 0, 2, 3, 0, 3, 0, 0, 3, 2, 3, 0, 2, 2, 0, 0, 0, 0, 0, 4, 0, 1, 2, 0, 1, 0, 0, 3, 4, 0, 2, 0, 0, 2, 1, 2, 0, 4, 2, 0, 0, 0, 1, 2, 0, 0, 2, 0, 0, 0, 3, 2, 0, 2, 4, 3, 0, 0, 0, 0, 0, 3, 2, 3, 0, 0, 0, 1, 3, 0, 4, 0, 1, 3, 4, 4, 0, 0, 2, 0, 3, 0, 0, 0, 0, 0, 0, 0, 4, 0, 3, 4, 0, 0, 3, 4, 2, 0, 4, 0, 0, 0, 1, 2, 0, 4, 0, 0, 2, 2, 3, 3, 0, 2, 0, 0, 0, 1, 1, 2, 0, 0, 2, 4, 0, 0, 0, 0, 0, 3, 0, 0, 0, 2, 2, 0, 0, 4, 0, 2, 2, 3, 3, 2, 3, 3, 0, 0, 0, 0, 0, 4, 4, 0, 0, 3, 0, 4, 0, 0, 0, 0, 0, 4, 4, 3, 2, 0, 2, 0, 3, 2, 0, 1, 0, 2, 4, 2, 0, 0, 0, 2, 4, 0, 0, 0, 0, 0, 0, 0, 0, 0, 0, 2, 2, 0, 2, 2, 0, 2, 2, 0, 0, 0, 0, 3, 3, 0, 4, 2, 2, 2, 4, 0, 0, 4, 4, 3, 0, 4, 4, 0, 0, 4, 2, 0, 0, 0, 4, 0, 0, 0, 0, 0, 2, 3, 3, 0, 4, 4, 2, 3, 3, 2, 0, 0, 3, 3, 0, 0, 3, 0, 3, 0, 0, 0, 3, 0, 2, 0, 4, 0, 0, 2, 0, 0, 0, 0, 0, 0, 3, 4, 0, 0, 0, 4, 0, 0, 3, 0, 2, 0, 0, 2, 3, 1, 1, 0, 3, 0, 4, 2, 3, 2, 0, 0, 2, 0, 0, 4, 1, 4, 0, 0, 0, 0, 2, 0, 2, 2, 4, 0, 0, 0, 0, 3, 2, 2, 0, 0, 3, 4, 0, 0, 3, 0, 2, 0, 2, 2, 2, 0, 0, 1, 0, 0, 4, 0, 3, 4, 0, 3, 2, 3, 0, 0, 2, 3, 0, 2, 0, 4, 3, 0, 0, 2, 0, 2, 3, 0, 2, 0, 0, 0, 0, 0, 0, 0, 0, 0, 3, 0, 3, 4, 0, 0, 0, 0, 3, 0, 0, 1, 0, 0, 2, 3, 4, 0, 0, 0, 0, 4, 0, 0, 2, 0, 0, 3, 0, 0, 0, 0, 0, 0, 0, 2, 0, 3, 0, 0, 0, 3, 0, 0, 0, 0, 3, 1, 4, 0, 3, 4, 0, 0, 0, 0, 0, 0, 2, 4, 0, 0, 3, 0, 2, 0, 4, 3, 4, 1, 2, 0, 2, 0, 0, 2, 0, 2, 0, 2, 0, 3, 0, 4, 1, 0, 3, 0, 0, 2, 0, 0, 0, 4, 2, 3, 4, 0, 0, 0, 0, 0, 4, 0, 0, 3, 0, 0, 3, 1, 0, 0, 1, 0, 2, 3, 2, 0, 0, 0, 3, 0, 0, 4, 1, 3, 4, 0, 3, 2, 3, 2, 0, 0, 2, 4, 0, 0, 0, 0, 0, 2, 0, 0, 0, 0, 0, 0, 2, 0, 4, 0, 0, 0, 0, 3, 2, 2, 3, 0, 0, 3, 0, 2, 3, 4, 0, 0, 0, 0, 0, 0, 3, 2, 0, 0, 0, 0, 2, 2, 0, 0, 0, 0, 0, 0, 4, 0, 0, 3, 3, 0, 0, 0, 2, 0, 3, 2, 2, 0, 3, 0, 1, 3, 3, 2, 0, 0, 0, 0, 3, 0, 0, 4, 4, 0, 0, 4, 0, 0, 0, 0, 0, 0, 0, 0, 0, 0, 2, 2, 0, 1, 3, 0, 2, 0, 2, 0, 0, 4, 0, 3, 0, 0, 3, 0, 0, 0, 4, 0, 0, 0, 0, 3, 0, 3, 2, 0, 0, 4, 0, 4, 2, 2, 0, 0, 4, 2, 2, 4, 4, 3, 0, 2, 0, 0, 2, 0, 3, 0, 0, 3, 1, 0, 4, 0, 4, 2, 0, 0, 0, 3, 2, 4, 0, 2, 0, 0, 0, 3, 0, 0, 4, 0, 0, 0, 3, 0, 0, 3, 0, 0, 0, 0, 3, 2, 0, 0, 3, 0, 0, 0, 0, 2, 0, 0, 0, 0, 0, 3, 2, 2, 4, 2, 0, 3, 3, 0, 0, 0, 0, 2, 0, 2, 1, 0, 3, 2, 4, 0, 3, 2, 0, 0, 0, 0, 3, 0, 0, 0, 0, 3, 0, 2, 2, 0, 0, 0, 3, 3, 3, 4, 0, 4, 2, 0, 2, 3, 1, 0, 0, 0, 0, 2, 0, 2, 3, 2, 2, 3, 0, 0, 0, 0, 1, 0, 2, 0, 2, 2, 0, 4, 3, 0, 2, 4, 0, 0, 0, 0, 2, 2, 0, 0, 0, 0, 0, 0, 0, 0, 3, 2, 0, 0, 3, 2, 0, 0, 0, 3, 4, 0, 1, 3, 3, 2, 0, 0, 3, 3, 1, 0, 4, 0, 4, 2, 3, 0, 0, 0, 3, 0, 4, 4, 0, 2, 2, 0, 0, 0, 3, 3, 0, 0, 0, 0, 2, 0, 2, 0, 0, 0, 0, 0, 0, 0, 4, 3, 0, 0, 2, 0, 0, 3, 0, 0, 0, 4, 3, 3, 3, 0, 0, 2, 3, 0, 0, 0, 0, 0, 0, 0, 0, 0, 0, 1, 4, 0, 0, 2, 0, 1, 0, 0, 0, 1, 0, 0, 0, 0, 1, 3, 0, 0, 4, 4, 2, 1, 2, 4, 3, 0, 0, 1, 4, 3, 0, 4, 0, 0, 0, 0, 0, 3, 1, 2, 0, 0, 0, 0, 2, 2, 0, 0, 0, 0, 3, 3, 0, 0, 2, 3, 4, 4, 0, 4, 0, 0, 0, 0, 0, 0, 0, 0, 3, 2, 0, 0, 4, 2, 4, 0, 0, 0, 0, 1, 0, 4, 0, 4, 0, 4, 3, 0, 1, 2, 0, 0, 0, 1, 0, 0, 2, 3, 2, 2, 0, 0, 0, 2, 2, 4, 0, 0, 0, 2, 4, 1, 3, 3, 0, 4, 4, 0, 0, 0, 0, 2, 0, 0, 4, 2, 3, 3, 3, 0, 3, 2, 0, 2, 0, 1, 0, 3, 0, 0, 0, 0, 4, 0, 0, 0, 0, 0, 4, 0, 0, 0, 2, 4, 0, 0, 4, 0, 0, 0, 2, 0, 0, 4, 0, 2, 2, 0, 0, 3, 3, 2, 0, 0, 1, 2, 3, 0, 0, 2, 2, 0, 0, 0, 2, 0, 3, 2, 0, 3, 0, 3, 0, 2, 2, 1, 1, 4, 4, 4, 3, 4, 0, 1, 4, 0, 4, 0, 0, 0, 2, 0, 2, 2, 4, 0, 2, 2, 4, 0, 2, 3, 0, 0, 4, 2, 0, 0, 0, 2, 3, 4, 2, 0, 4, 0, 0, 0, 0, 2, 0, 0, 0, 2, 0, 0, 0, 0, 0, 0, 3, 0, 3, 2, 0, 3, 2, 3, 0, 0, 2, 3, 0, 0, 3, 3, 0, 4, 0, 0, 0, 2, 0, 0, 0, 0, 2, 0, 3, 4, 2, 3, 0, 2, 4, 4, 2, 3, 2, 0, 2, 0, 0, 0, 0, 3, 0, 0, 3, 0, 0, 0, 2, 3, 4, 0, 0, 3, 0, 2, 2, 0, 2, 4, 0, 0, 3, 0, 0, 2, 0, 3, 0, 0, 2, 4, 4, 3, 0, 3, 2, 0, 3, 0, 2, 3, 0, 3, 0, 3, 0, 0, 4, 3, 4, 0, 4, 0, 0, 0, 0, 0, 0, 3, 0, 0, 0, 0, 2, 1, 2, 0, 4, 0, 0, 0, 2, 0, 0, 1, 4, 4, 3, 0, 0, 3, 2, 4, 2, 0, 0, 0, 3, 0, 0, 0, 0, 2, 0, 0, 1, 0, 0, 0, 0, 0, 0, 2, 2, 0, 0, 0, 3, 0, 0, 1, 0, 2, 4, 3, 2, 0, 0, 0, 0, 3, 0, 4, 2, 0, 3, 3, 2, 4, 0, 3, 4, 2, 0, 3, 0, 0, 0, 0, 4, 1, 3, 3, 0, 3, 0, 2, 0, 2, 0, 0, 0, 0, 0, 2, 4, 0, 0, 0, 2, 0, 1, 4, 3, 4, 1, 0, 3, 4, 0, 0, 4, 2, 0, 0, 0, 3, 0, 0, 0, 4, 0, 0, 3, 0, 0, 0, 0, 0, 2, 2, 0, 0, 4, 2, 0, 0, 0, 0, 3, 0, 0, 0, 3, 3, 2, 0, 0, 0, 0, 0, 0, 4, 0, 0, 0, 2, 2, 3, 0, 2, 3, 1, 0, 1, 2, 3, 3, 3, 1, 0, 3, 2, 3, 0, 0, 0, 2, 3, 0, 0, 2, 0, 3, 0, 0, 0, 1, 0, 0, 2, 2, 2, 0, 0, 3, 0, 4, 0, 3, 0, 0, 4, 0, 0, 0, 0, 0, 0, 0, 0, 3, 0, 0, 0, 0, 0, 2, 3, 0, 4, 0, 0, 0, 0, 0, 0, 0, 0, 4, 0, 0, 0, 0, 0, 0, 3, 0, 4, 0, 1, 2, 2, 0, 0, 0, 3, 1, 4, 3, 3, 0, 0, 3, 0, 2, 2, 1, 3, 4, 2, 0, 3, 0, 2, 1, 2, 2, 0, 3, 0, 3, 0, 2, 0, 4, 0, 0, 0, 4, 1, 3, 0, 0, 2, 3, 4, 1, 2, 0, 4, 3, 0, 0, 4, 2, 0, 2, 0, 2, 3, 4, 3, 0, 0, 0, 0, 0, 4, 1, 3, 0, 3, 0, 3, 4, 0, 0, 0, 0, 4, 0, 3, 0, 3, 0, 0, 0, 4, 4, 0, 2, 4, 4, 0, 0, 3, 2, 3, 0, 4, 0, 3, 4, 3, 4, 3, 0, 4, 0, 2, 0, 0, 4, 0, 4, 3, 3, 0, 0, 0, 0, 0, 0, 4, 0, 3, 2, 2, 0, 0, 3, 0, 0, 0, 0, 0, 0, 4, 0, 3, 0, 0, 4, 0, 3, 3, 0, 2, 0, 0, 0, 3, 0, 0, 0, 0, 1, 3, 4, 1, 0, 2, 0, 0, 2, 3, 0, 3, 0, 1, 0, 4, 0, 2, 0, 0, 0, 4, 0, 0, 4, 2, 0, 0, 2, 0, 0, 3, 0, 2, 0, 0, 0, 0, 0, 0, 4, 0, 4, 0, 2, 4, 2, 2, 0, 0, 2, 4, 0, 0, 3, 0, 0, 3, 4, 0, 0, 0, 2, 0, 1, 2, 0, 0, 0, 0, 0, 3, 3, 0, 0, 3, 2, 4, 2, 3, 0, 0, 0, 0, 0, 3, 4, 2, 0, 0, 0, 0, 4, 2, 0, 0, 0, 2, 0, 0, 4, 0, 2, 0, 0, 0, 2, 0, 0, 4, 0, 0, 4, 0, 3, 2, 0, 0, 0, 0, 4, 0, 0, 0, 4, 0, 2, 3, 2, 4, 4, 0, 3, 2, 0, 0, 3, 0, 1, 0, 3, 0, 0, 0, 4, 1, 0, 0, 4, 0, 0, 4, 2, 0, 3, 0, 4, 0, 2, 0, 0, 0, 3, 2, 0, 0, 0, 0, 2, 0, 3, 2, 0, 0, 2, 0, 0, 0, 3, 3, 4, 0, 3, 4, 0, 4, 4, 0, 3, 1, 4, 4, 2, 2, 4, 2, 0, 0, 3, 0, 3, 4, 4, 4, 0, 0, 0, 0, 2, 0, 0, 2, 0, 0, 0, 0, 0, 2, 4, 0, 4, 0, 2, 0, 0, 2, 2, 3, 3, 2, 0, 2, 0, 2, 2, 0, 0, 0, 3, 0, 0, 2, 2, 3, 0, 3, 3, 0, 0, 0, 3, 0, 3, 0, 0, 0, 0, 2, 0, 1, 1, 0, 0, 0, 0, 0, 3, 0, 0, 4, 1, 4, 0, 0, 4, 3, 4, 3, 3, 3, 4, 3, 0, 3, 2, 0, 2, 3, 4, 0, 0, 4, 0, 4, 0, 2, 3, 4, 0, 0, 0, 3, 0, 0, 0, 2, 2, 0, 0, 0, 3, 4, 3, 0, 0, 2, 0, 0, 0, 0, 0, 0, 0, 2, 0, 3, 0, 3, 0, 0, 0, 3, 0, 2, 0, 1, 0, 4, 0, 0, 0, 0, 0, 0, 2, 2, 0, 0, 0, 3, 1, 0, 0, 0, 0, 3, 0, 3, 0, 3, 0, 2, 3, 3, 0, 3, 0, 0, 4, 0, 2, 3, 2, 1, 3, 4, 0, 0, 0, 0, 0, 0, 4, 0, 4, 0, 0, 2, 4, 0, 2, 0, 2, 2, 0, 2, 0, 4, 2, 4, 0, 3, 0, 0, 4, 0, 0, 0, 0, 0, 2, 3, 0, 0, 2, 0, 2, 0, 3, 3, 0, 3, 0, 3, 0, 0, 0, 0, 3, 0, 2, 4, 0, 0, 2, 0, 2, 0, 0, 0, 0, 0, 2, 0, 0, 0, 1, 0, 0, 0, 0, 0, 0, 0, 1, 2, 3, 0, 0, 0, 0, 4, 0, 2, 0, 0, 3, 2, 0, 0, 1, 4, 3, 3, 0, 2, 0, 0, 1, 0, 3, 0, 0, 0, 2, 0, 0, 0, 0, 0, 4, 0, 0, 4, 2, 0, 2, 2, 3, 0, 2, 4, 0, 4, 2, 0, 1, 0, 2, 0, 4, 4, 2, 0, 4, 3, 0, 0, 0, 0, 2, 4, 0, 3, 0, 3, 0, 0, 0, 3, 0, 0, 3, 0, 0, 2, 0, 2, 0, 0, 1, 0, 2, 3, 0, 2, 0, 3, 0, 0, 4, 0, 0, 0, 0, 0, 2, 0, 0, 0, 0, 0, 3, 0, 2, 3, 0, 0, 2, 0, 2, 0, 2, 4, 0, 2, 0, 2, 3, 0, 0, 0, 0, 0, 1, 1, 0, 0, 3, 4, 3, 1, 0, 0, 4, 2, 0, 3, 3, 3, 0, 0, 3, 0, 2, 3, 0, 4, 2, 3, 0, 3, 1, 0, 0, 0, 4, 0, 0, 0, 3, 4, 2, 3, 0, 0, 3, 3, 0, 2, 4, 0, 4, 0, 0, 0, 3, 0, 2, 0, 0, 0, 3, 0, 1, 0, 0, 0, 2, 4, 2, 2, 0, 0, 0, 0, 2, 1, 0, 0, 0, 0, 3, 0, 0, 0, 0, 0, 0, 4, 0, 3, 3, 3, 3, 0, 0, 0, 2, 0, 3, 0, 4, 3, 2, 2, 3, 2, 0, 0, 0, 0, 0, 0, 0, 0, 0, 0, 4, 4, 2, 0, 0, 3, 4, 0, 0, 3, 4, 0, 2, 3, 0, 0, 0, 2, 0, 0, 1, 2, 0, 4, 0, 0, 0, 0, 3, 0, 0, 0, 3, 0, 0, 0, 3, 0, 0, 4, 2, 0, 0, 0, 0, 3, 0, 0, 0, 0, 0, 0, 4, 3, 2, 4, 0, 0, 0, 3, 0, 0, 0, 0, 0, 0, 0, 1, 0, 0, 0, 0, 3, 4, 3, 0, 0, 3, 4, 3, 0, 0, 0, 0, 0, 4, 3, 4, 0, 2, 0, 3, 0, 4, 4, 2, 2, 0, 0, 0, 0, 4, 3, 3, 0, 4, 0, 4, 0, 0, 2, 4, 2, 2, 2, 2, 4, 0, 2, 2, 0, 0, 2, 4, 3, 2, 0, 0, 2, 0, 0, 2, 0, 0, 0, 4, 2, 0, 0, 2, 0, 4, 0, 4, 0, 0, 0, 3, 0, 0, 0, 4, 2, 0, 0, 0, 1, 0, 2, 2, 3, 0, 0, 0, 0, 2, 0, 3, 0, 3, 0, 4, 1, 0, 0, 0, 0, 0, 2, 0, 0, 3, 0, 0, 2, 0, 3, 2, 0, 0, 1, 3, 0, 0, 3, 0, 0, 0, 2, 3, 3, 3, 4, 0, 3, 0, 0, 0, 0, 4, 0, 0, 3, 2, 0, 0, 3, 0, 0, 0, 0, 0, 0, 0, 2, 0, 2, 0, 0, 1, 2, 0, 0, 2, 0, 3, 0, 1, 3, 2, 0, 0, 0, 4, 0, 3, 2, 2, 2, 0, 2, 3, 4, 0, 0, 0, 3, 3, 4, 2, 0, 2, 0, 4, 0, 0, 3, 0, 2, 0, 0, 4, 0, 0, 2, 3, 4, 2, 2, 0, 0, 3, 0, 0, 3, 0, 3, 0, 0, 3, 1, 4, 4, 2, 3, 0, 0, 3, 2, 4, 4, 0, 0, 0, 0, 3, 0, 3, 0, 0, 1, 0, 0, 0, 2, 0, 3, 4, 2, 0, 0, 0, 4, 2, 4, 0, 2, 0, 0, 0, 4, 3, 0, 2, 0, 0, 0, 3, 2, 0, 0, 0, 1, 0, 0, 4, 0, 1, 4, 2, 0, 4, 0, 0, 1, 0, 3, 2, 4, 0, 2, 2, 2, 2, 3, 0, 0, 0, 0, 0, 0, 0, 2, 0, 3, 0, 0, 2, 0, 2, 0, 2, 2, 0, 0, 0, 1, 3, 0, 0, 0, 0, 3, 0, 0, 0, 0, 3, 2, 3, 4, 3, 4, 0, 0, 0, 3, 0, 3, 0, 3, 0, 4, 4, 1, 0, 0, 0, 4, 0, 3, 0, 0, 2, 0, 0, 0, 0, 2, 0, 4, 0, 1, 0, 3, 0, 4, 0, 0, 0, 0, 3, 2, 0, 0, 0, 0, 0, 0, 2, 0, 4, 0, 0, 4, 0, 1, 3, 0, 4, 0, 0, 2, 0, 4, 0, 0, 0, 4, 0, 0, 0, 2, 4, 0, 0, 0, 3, 0, 0, 0, 0, 2, 1, 3, 0, 0, 0, 0, 3, 1, 0, 3, 0, 4, 2, 2, 2, 0, 0, 0, 0, 2, 0, 3, 2, 0, 2, 0, 0, 0, 0, 0, 0, 0, 1, 2, 0, 3, 0, 2, 3, 0, 0, 0, 0, 2, 0, 2, 2, 3, 0, 3, 0, 0, 1, 3, 0, 0, 0, 0, 0, 2, 0, 0, 0, 0, 0, 4, 3, 0, 2, 4, 0, 2, 4, 2, 0, 0, 0, 0, 4, 3, 2, 4, 0, 2, 0, 0, 4, 3, 3, 3, 4, 0, 0, 0, 3, 0, 1, 0, 2, 3, 0, 2, 0, 0, 3, 0, 0, 0, 3, 0, 0, 2, 2, 2, 0, 0, 0, 0, 0, 3, 2, 2, 3, 4, 3, 0, 0, 0, 0, 0, 0, 0, 4, 0, 3, 4, 0, 0, 0, 0, 2, 2, 1, 0, 0, 0, 0, 1, 3, 3, 0, 2, 0, 2, 3, 3, 0, 4, 0, 0, 3, 0, 0, 0, 0, 0, 0, 0, 4, 0, 2, 2, 0, 4, 0, 4, 0, 3, 0, 2, 4, 0, 2, 0, 0, 0, 3, 0, 2, 0, 1, 0, 0, 1, 4, 2, 2, 0, 0, 0, 0, 0, 0, 3, 0, 0, 0, 0, 0, 0, 0, 2, 4, 3, 4, 2, 2, 0, 3, 3, 1, 3, 3, 4, 0, 0, 0, 0, 3, 4, 0, 0, 2, 0, 0, 2, 3, 2, 3, 0, 2, 0, 0, 0, 0, 0, 4, 3, 3, 4, 0, 0, 0, 3, 0, 0, 0, 4, 0, 0, 0, 0, 0, 2, 0, 0, 0, 0, 2, 0, 0, 0, 0, 4, 4, 4, 0, 0, 0, 0, 0, 0, 3, 4, 4, 0, 0, 0, 0, 3, 2, 0, 2, 4, 0, 2, 2, 0, 4, 3, 0, 0, 0, 0, 0, 3, 0, 0, 4, 0, 1, 0, 3, 0, 3, 0, 4, 0, 0, 2, 0, 0, 0, 3, 0, 0, 0, 0, 4, 3, 0, 2, 2, 0, 0, 0, 0, 0, 0, 0, 4, 0, 3, 0, 4, 2, 0, 3, 0, 3, 0, 0, 0, 0, 0, 0, 0, 0, 1, 0, 4, 0, 2, 0, 0, 4, 0, 0, 0, 0, 2, 0, 2, 0, 0, 1, 0, 0, 2, 4, 3, 0, 0, 0, 0, 4, 0, 0, 0, 0, 4, 0, 2, 0, 0, 0, 3, 3, 2, 3, 0, 4, 0, 0, 2, 0, 1, 4, 2, 3, 0, 4, 3, 2, 0, 0, 0, 0, 2, 1, 3, 4, 0, 3, 2, 2, 0, 0, 2, 0, 3, 0, 2, 2, 0, 3, 0, 0, 3, 0, 0, 2, 0, 0, 0, 0, 0, 0, 0, 0, 0, 4, 0, 0, 3, 0, 4, 3, 3, 3, 0, 0, 3, 2, 0, 3, 0, 0, 0, 2, 0, 0, 2, 0, 0, 0, 0, 0, 4, 0, 4, 2, 4, 0, 2, 0, 2, 2, 2, 3, 0, 1, 0, 3, 0, 0, 0, 0, 0, 0, 1, 2, 3, 4, 2, 2, 3, 0, 0, 2, 2, 0, 2, 1, 0, 0, 0, 2, 0, 3, 3, 3, 0, 2, 2, 0, 0, 0, 2, 0, 0, 3, 0, 0, 0, 2, 2, 0, 4, 0, 0, 4, 2, 0, 2, 0, 3, 0, 4, 4, 3, 0, 0, 1, 3, 4, 4, 0, 4, 1, 3, 2, 2, 0, 0, 0, 0, 0, 1, 2, 0, 0, 0, 0, 0, 3, 0, 0, 0, 0, 0, 0, 2, 0, 0, 4, 0, 0, 0, 0, 0, 0, 0, 0, 4, 0, 0, 0, 4, 3, 0, 3, 3, 0, 0, 4, 1, 0, 4, 0, 3, 0, 2, 2, 0, 4, 0, 0, 3, 1, 0, 2, 0, 0, 2, 2, 0, 0, 0, 0, 0, 0, 0, 0, 1, 3, 1, 0, 0, 2, 3, 4, 3, 0, 2, 0, 4, 0, 0, 0, 0, 0, 2, 3, 1, 0, 0, 0, 0, 0, 0, 4, 0, 3, 3, 0, 4, 0, 0, 2, 2, 3, 0, 0, 0, 1, 0, 0, 4, 3, 0, 1, 0, 0, 2, 4, 0, 3, 0, 0, 3, 0, 1, 0, 0, 0, 3, 3, 0, 2, 0, 0, 0, 0, 0, 0, 0, 3, 3, 0, 2, 0, 4, 0, 0, 0, 0, 3, 0, 0, 0, 0, 0, 1, 0, 3, 0, 0, 4, 0, 0, 3, 0, 0, 0, 0, 2, 3, 2, 2, 2, 3, 0, 0, 3, 0, 0, 0, 3, 0, 1, 2, 0, 0, 0, 0, 0, 2, 0, 0, 3, 0, 0, 0, 0, 3, 0, 3, 3, 3, 4, 0, 0, 0, 3, 3, 0, 2, 0, 0, 0, 0, 4, 4, 3, 3, 0, 3, 0, 0, 3, 0, 3, 4, 0, 3, 4, 2, 0, 2, 0, 2, 4, 4, 0, 0, 3, 1, 0, 0, 3, 1, 0, 4, 2, 0, 0, 4, 0, 2, 4, 0, 1, 2, 0, 4, 0, 2, 0, 2, 4, 3, 0, 0, 0, 4, 2, 2, 2, 0, 0, 4, 0, 0, 0, 0, 4, 4, 2, 0, 0, 0, 3, 3, 0, 3, 0, 3, 4, 0, 3, 3, 0, 0, 2, 2, 0, 3, 3, 3, 0, 0, 3, 0, 2, 0, 4, 0, 0, 4, 0, 0, 0, 1, 0, 2, 0, 0, 0, 0, 0, 0, 0, 4, 2, 0, 0, 4, 2, 0, 0, 2, 0, 0, 2, 3, 2, 4, 3, 0, 3, 3, 0, 0, 0, 1, 0, 3, 3, 2, 4, 0, 0, 2, 0, 0, 0, 0, 0, 3, 0, 0, 2, 0, 3, 0, 4, 0, 3, 4, 4, 0, 0, 0, 1, 0, 3, 3, 0, 4, 4, 1, 0, 0, 0, 2, 0, 4, 0, 0, 2, 3, 0, 3, 3, 2, 3, 0, 0, 0, 2, 0, 2, 0, 0, 0, 0, 0, 0, 3, 0, 3, 3, 3, 0, 4, 0, 0, 2, 0, 3, 4, 0, 0, 0, 0, 4, 4, 0, 0, 0, 2, 0, 1, 3, 2, 2, 0, 0, 0, 3, 2, 2, 2, 0, 2, 0, 0, 0, 0, 1, 3, 2, 2, 0, 2, 0, 2, 0, 2, 0, 0, 0, 0, 1, 0, 0, 0, 0, 0, 3, 0, 3, 0, 0, 0, 0, 3, 0, 3, 2, 4, 2, 0, 1, 0, 0, 1, 0, 2, 2, 0, 0, 0, 0, 0, 1, 0, 3, 0, 0, 0, 3, 1, 4, 0, 0, 4, 0, 4, 0, 4, 3, 2, 3, 0, 2, 3, 4, 0, 2, 4, 3, 0, 3, 0, 3, 3, 0, 0, 3, 2, 0, 0, 0, 0, 0, 3, 4, 0, 0, 0, 2, 0, 3, 2, 0, 0, 0, 0, 0, 2, 0, 0, 3, 4, 0, 0, 0, 4, 0, 2, 0, 2, 2, 0, 3, 2, 2, 0, 4, 0, 1, 0, 0, 0, 0, 0, 0, 3, 2, 1, 3, 3, 0, 0, 0, 2, 0, 0, 0, 0, 2, 0, 0, 0, 2, 4, 0, 0, 0, 0, 0, 0, 1, 2, 4, 0, 0, 0, 0, 0, 3, 4, 3, 2, 2, 4, 0, 0, 0, 0, 0, 0, 2, 0, 0]\n",
            "[2, 1, 2, 1, 2, 1, 1, 5, 2, 5, 1, 3, 2, 1, 2, 4, 2, 3, 1, 2, 3, 2, 1, 5, 2, 2, 1, 3, 3, 3, 2, 1, 1, 4, 3, 1, 4, 3, 4, 3, 1, 2, 4, 1, 2, 3, 1, 1, 1, 2, 3, 2, 1, 3, 1, 1, 5, 3, 1, 1, 1, 5, 3, 2, 3, 2, 3, 1, 2, 1, 1, 1, 4, 3, 1, 2, 1, 1, 4, 3, 2, 1, 1, 3, 1, 1, 1, 3, 2, 4, 1, 1, 2, 1, 1, 2, 1, 1, 1, 1, 1, 1, 3, 1, 3, 1, 1, 3, 1, 3, 2, 3, 1, 3, 2, 1, 1, 1, 2, 1, 4, 1, 1, 1, 1, 1, 2, 4, 4, 2, 2, 1, 1, 1, 2, 3, 1, 1, 4, 1, 2, 1, 1, 5, 3, 1, 2, 3, 2, 2, 2, 3, 2, 1, 2, 2, 1, 5, 2, 2, 4, 3, 2, 1, 1, 1, 2, 3, 5, 4, 1, 1, 1, 1, 1, 4, 2, 1, 1, 1, 3, 1, 2, 1, 3, 4, 3, 1, 1, 1, 3, 1, 1, 2, 1, 3, 1, 1, 2, 1, 3, 1, 1, 1, 1, 3, 1, 3, 1, 3, 3, 5, 1, 1, 1, 4, 1, 4, 1, 2, 1, 1, 4, 2, 1, 3, 4, 2, 2, 2, 1, 4, 2, 2, 4, 2, 3, 2, 2, 1, 1, 3, 1, 3, 1, 1, 2, 4, 2, 1, 4, 2, 4, 5, 2, 2, 1, 2, 2, 1, 1, 1, 2, 1, 2, 2, 1, 1, 1, 2, 5, 4, 1, 1, 1, 1, 3, 1, 1, 1, 1, 1, 2, 1, 1, 1, 3, 3, 3, 2, 3, 1, 1, 1, 1, 1, 3, 1, 2, 5, 1, 5, 2, 2, 2, 4, 2, 1, 2, 1, 1, 2, 1, 4, 1, 1, 3, 2, 2, 2, 2, 1, 2, 2, 1, 2, 1, 4, 1, 3, 1, 3, 2, 3, 1, 4, 3, 2, 3, 1, 1, 1, 2, 3, 2, 5, 3, 2, 2, 1, 1, 3, 3, 4, 2, 1, 1, 3, 2, 1, 2, 4, 1, 3, 3, 2, 3, 1, 5, 2, 2, 1, 3, 1, 2, 1, 2, 1, 1, 3, 1, 4, 1, 1, 3, 2, 1, 4, 4, 2, 1, 1, 2, 1, 1, 1, 1, 1, 2, 1, 4, 2, 2, 1, 4, 3, 1, 4, 5, 3, 1, 1, 1, 1, 3, 1, 1, 1, 1, 3, 1, 3, 1, 1, 1, 1, 2, 3, 1, 1, 1, 1, 3, 1, 1, 4, 1, 3, 2, 2, 1, 1, 1, 3, 2, 1, 3, 1, 2, 3, 2, 1, 1, 3, 3, 1, 1, 2, 1, 4, 1, 2, 2, 5, 1, 1, 3, 2, 1, 4, 2, 1, 4, 1, 1, 3, 3, 2, 4, 4, 2, 1, 1, 1, 1, 2, 2, 3, 3, 4, 1, 2, 1, 1, 1, 1, 4, 1, 1, 2, 1, 2, 3, 1, 3, 1, 1, 3, 1, 1, 1, 2, 3, 2, 4, 1, 1, 2, 4, 1, 4, 2, 2, 2, 2, 1, 3, 2, 2, 4, 1, 1, 2, 1, 2, 3, 3, 1, 1, 1, 1, 1, 1, 1, 4, 3, 2, 5, 2, 3, 4, 1, 1, 2, 1, 1, 1, 1, 1, 1, 1, 1, 1, 3, 1, 2, 3, 2, 1, 1, 1, 5, 2, 1, 2, 3, 5, 2, 5, 1, 2, 1, 4, 3, 2, 3, 1, 3, 3, 1, 2, 1, 1, 1, 3, 3, 2, 4, 2, 1, 1, 2, 1, 2, 1, 2, 2, 3, 3, 1, 2, 1, 5, 1, 1, 1, 3, 3, 2, 1, 1, 2, 2, 1, 1, 1, 2, 3, 1, 1, 1, 1, 3, 2, 1, 1, 4, 2, 3, 1, 1, 1, 3, 2, 1, 1, 1, 3, 2, 1, 1, 2, 5, 1, 3, 4, 1, 2, 5, 1, 2, 1, 1, 2, 1, 1, 2, 3, 2, 1, 1, 3, 2, 3, 4, 1, 2, 2, 1, 2, 4, 1, 1, 2, 1, 5, 1, 2, 3, 3, 2, 1, 2, 4, 1, 2, 1, 1, 1, 1, 2, 1, 3, 1, 1, 3, 1, 3, 4, 5, 1, 1, 1, 1, 2, 4, 3, 2, 3, 2, 2, 1, 2, 2, 1, 4, 1, 1, 4, 1, 1, 1, 1, 5, 1, 4, 3, 1, 3, 2, 1, 2, 1, 2, 1, 3, 2, 3, 3, 2, 3, 3, 2, 2, 2, 1, 2, 2, 2, 3, 3, 4, 1, 1, 2, 3, 2, 3, 2, 4, 1, 2, 1, 1, 1, 1, 2, 2, 1, 3, 1, 1, 2, 1, 3, 3, 1, 2, 2, 1, 4, 2, 2, 2, 2, 5, 5, 2, 3, 1, 5, 2, 2, 3, 1, 1, 1, 2, 3, 1, 1, 2, 1, 1, 2, 2, 1, 1, 2, 2, 1, 1, 1, 1, 3, 2, 1, 2, 3, 1, 1, 1, 1, 1, 2, 3, 1, 1, 1, 3, 1, 1, 1, 2, 1, 4, 1, 2, 4, 4, 2, 3, 4, 3, 2, 2, 3, 1, 2, 1, 1, 2, 2, 3, 1, 1, 2, 4, 3, 3, 1, 1, 1, 1, 1, 5, 1, 2, 2, 1, 1, 4, 3, 1, 1, 2, 3, 1, 1, 1, 2, 2, 1, 2, 4, 4, 1, 2, 5, 1, 1, 3, 1, 3, 2, 4, 1, 5, 1, 1, 1, 2, 1, 3, 1, 1, 1, 1, 4, 3, 2, 2, 1, 2, 1, 5, 3, 3, 2, 1, 1, 3, 2, 1, 4, 1, 1, 4, 1, 2, 1, 4, 4, 5, 3, 1, 4, 2, 1, 2, 2, 1, 1, 2, 1, 1, 3, 1, 2, 3, 1, 4, 1, 2, 3, 2, 1, 1, 1, 1, 1, 2, 2, 1, 1, 1, 2, 1, 2, 1, 1, 1, 4, 3, 3, 3, 1, 3, 1, 1, 3, 2, 4, 1, 1, 3, 1, 5, 1, 2, 2, 3, 1, 2, 1, 4, 5, 1, 3, 4, 3, 4, 2, 1, 2, 2, 2, 1, 2, 3, 2, 1, 2, 1, 1, 3, 1, 4, 1, 1, 3, 1, 1, 1, 1, 2, 4, 2, 1, 2, 1, 4, 3, 1, 3, 2, 2, 5, 2, 2, 2, 2, 3, 2, 3, 3, 2, 4, 1, 1, 1, 1, 4, 1, 4, 1, 3, 1, 3, 3, 1, 1, 3, 4, 4, 2, 3, 1, 4, 2, 1, 5, 2, 1, 3, 3, 2, 3, 1, 2, 1, 5, 3, 3, 2, 2, 4, 1, 1, 1, 4, 1, 4, 1, 1, 2, 2, 1, 2, 1, 3, 2, 4, 3, 3, 2, 1, 5, 4, 1, 4, 4, 1, 1, 2, 1, 3, 2, 2, 4, 1, 2, 2, 1, 2, 1, 1, 3, 3, 1, 3, 3, 1, 1, 1, 1, 2, 4, 1, 1, 1, 1, 2, 3, 1, 4, 5, 4, 3, 2, 1, 3, 2, 3, 4, 1, 1, 1, 1, 1, 1, 2, 1, 1, 4, 3, 1, 4, 2, 3, 3, 1, 3, 2, 2, 4, 1, 2, 1, 3, 2, 3, 2, 5, 1, 1, 1, 4, 1, 1, 2, 4, 2, 1, 3, 2, 4, 2, 2, 1, 1, 5, 1, 4, 1, 3, 3, 1, 2, 3, 1, 4, 1, 3, 1, 1, 1, 4, 1, 1, 4, 1, 1, 2, 1, 1, 1, 1, 1, 3, 3, 1, 1, 2, 1, 2, 3, 1, 3, 1, 1, 2, 1, 2, 1, 1, 1, 1, 1, 2, 4, 1, 1, 1, 1, 4, 2, 3, 3, 3, 3, 5, 2, 1, 1, 1, 2, 2, 1, 2, 1, 2, 1, 2, 4, 3, 2, 3, 3, 1, 3, 1, 1, 2, 2, 1, 1, 1, 1, 2, 2, 1, 5, 4, 2, 3, 3, 1, 1, 1, 4, 1, 2, 1, 2, 3, 1, 1, 2, 4, 2, 4, 4, 1, 2, 1, 2, 4, 5, 2, 1, 2, 2, 2, 4, 1, 1, 1, 1, 4, 1, 3, 4, 1, 1, 1, 1, 1, 1, 2, 2, 2, 2, 1, 3, 2, 1, 2, 1, 5, 2, 1, 3, 2, 1, 2, 3, 1, 2, 3, 1, 3, 4, 3, 1, 1, 2, 1, 1, 1, 3, 5, 4, 4, 5, 2, 1, 1, 3, 2, 4, 3, 3, 1, 3, 2, 1, 1, 3, 3, 2, 1, 3, 2, 4, 1, 1, 3, 1, 1, 2, 1, 2, 1, 1, 2, 4, 4, 1, 4, 1, 1, 2, 1, 5, 1, 2, 2, 3, 4, 2, 3, 1, 3, 1, 4, 2, 4, 2, 1, 2, 1, 1, 2, 3, 1, 3, 2, 1, 4, 4, 2, 4, 3, 2, 3, 3, 1, 1, 1, 1, 1, 2, 1, 1, 1, 1, 4, 4, 2, 2, 1, 4, 4, 2, 2, 1, 1, 2, 5, 1, 1, 1, 2, 1, 5, 1, 1, 5, 1, 2, 4, 2, 3, 3, 2, 3, 1, 1, 2, 2, 2, 1, 2, 1, 1, 1, 2, 1, 1, 1, 1, 1, 1, 1, 2, 2, 3, 4, 3, 1, 1, 1, 2, 1, 3, 3, 2, 2, 4, 3, 2, 1, 5, 2, 4, 1, 1, 3, 3, 4, 3, 2, 3, 1, 1, 4, 4, 1, 2, 2, 1, 2, 2, 4, 1, 3, 1, 5, 5, 1, 3, 3, 1, 1, 2, 1, 2, 1, 1, 4, 1, 3, 3, 2, 3, 1, 1, 2, 2, 4, 3, 2, 2, 1, 1, 3, 2, 3, 2, 4, 1, 2, 1, 2, 5, 2, 1, 5, 5, 1, 1, 1, 1, 2, 3, 1, 2, 1, 5, 1, 4, 1, 3, 3, 3, 2, 2, 3, 4, 3, 2, 3, 1, 2, 2, 2, 1, 3, 2, 5, 4, 2, 3, 4, 1, 1, 3, 2, 3, 5, 1, 3, 2, 1, 3, 3, 2, 1, 1, 3, 3, 1, 2, 1, 1, 1, 2, 2, 2, 1, 1, 1, 3, 2, 1, 1, 1, 3, 2, 1, 2, 3, 1, 1, 4, 3, 1, 3, 3, 1, 4, 2, 4, 3, 2, 1, 3, 1, 1, 4, 1, 4, 1, 2, 2, 2, 2, 3, 1, 1, 1, 2, 1, 4, 2, 1, 1, 2, 1, 1, 4, 4, 2, 1, 1, 3, 1, 1, 2, 1, 3, 1, 2, 4, 1, 1, 3, 1, 1, 2, 1, 4, 5, 1, 1, 4, 4, 3, 1, 1, 2, 1, 3, 2, 3, 1, 1, 1, 1, 4, 3, 3, 1, 1, 1, 2, 2, 1, 4, 4, 1, 1, 1, 1, 1, 2, 1, 5, 1, 1, 1, 3, 1, 3, 1, 1, 1, 1, 3, 2, 1, 2, 3, 2, 2, 3, 1, 2, 3, 5, 1, 1, 1, 3, 1, 1, 4, 2, 4, 1, 2, 1, 3, 2, 2, 1, 1, 1, 3, 4, 1, 1, 1, 2, 3, 3, 1, 1, 2, 3, 2, 3, 1, 5, 2, 1, 2, 3, 1, 2, 3, 1, 1, 1, 3, 1, 1, 1, 1, 1, 2, 3, 3, 1, 2, 2, 5, 1, 3, 1, 1, 1, 2, 1, 1, 1, 1, 1, 5, 1, 1, 1, 1, 2, 4, 4, 4, 2, 2, 4, 3, 5, 2, 4, 1, 1, 3, 3, 1, 2, 1, 5, 1, 1, 2, 1, 1, 1, 1, 1, 1, 1, 4, 2, 1, 1, 1, 1, 2, 1, 2, 3, 2, 4, 4, 3, 2, 1, 1, 1, 4, 3, 5, 1, 1, 3, 5, 1, 1, 2, 1, 4, 1, 1, 1, 3, 1, 1, 2, 1, 4, 1, 5, 1, 1, 4, 1, 1, 2, 3, 3, 1, 1, 1, 1, 1, 1, 1, 1, 4, 2, 1, 2, 3, 2, 2, 3, 2, 1, 3, 1, 4, 3, 1, 2, 3, 1, 1, 4, 1, 1, 1, 1, 4, 4, 1, 4, 1, 1, 3, 2, 1, 2, 4, 3, 2, 1, 5, 2, 2, 2, 1, 1, 3, 1, 3, 4, 2, 1, 4, 1, 2, 2, 2, 3, 1, 2, 2, 2, 3, 1, 2, 3, 5, 2, 1, 3, 1, 1, 4, 2, 3, 1, 1, 2, 1, 4, 1, 1, 1, 2, 5, 2, 1, 2, 1, 2, 2, 1, 2, 1, 3, 2, 2, 1, 2, 1, 1, 1, 2, 5, 1, 1, 3, 2, 3, 3, 3, 3, 4, 2, 3, 1, 1, 2, 5, 1, 4, 4, 1, 1, 1, 1, 1, 2, 2, 2, 2, 1, 3, 2, 4, 1, 3, 1, 2, 1, 3, 1, 2, 2, 1, 4, 1, 1, 1, 1, 1, 2, 5, 2, 4, 3, 3, 1, 2, 2, 3, 1, 4, 1, 5, 1, 3, 1, 1, 2, 1, 1, 1, 3, 1, 2, 1, 2, 1, 3, 3, 4, 1, 3, 1, 3, 4, 5, 1, 3, 3, 3, 1, 1, 1, 3, 2, 1, 1, 1, 1, 2, 1, 1, 2, 1, 2, 2, 1, 1, 1, 2, 3, 4, 2, 3, 3, 3, 1, 4, 2, 2, 2, 1, 2, 1, 5, 1, 2, 3, 1, 1, 1, 2, 1, 1, 3, 1, 3, 2, 1, 1, 2, 4, 1, 2, 3, 1, 4, 4, 1, 1, 1, 2, 2, 1, 2, 1, 2, 2, 1, 3, 5, 1, 5, 1, 2, 2, 3, 1, 4, 1, 1, 1, 2, 1, 2, 2, 4, 1, 1, 4, 1, 2, 1, 1, 1, 2, 4, 2, 1, 2, 1, 1, 4, 2, 1, 1, 1, 4, 4, 2, 4, 2, 1, 1, 1, 1, 1, 2, 1, 4, 2, 2, 1, 3, 2, 2, 2, 3, 4, 2, 1, 1, 3, 2, 1, 1, 2, 1, 2, 3, 4, 1, 3, 2, 5, 4, 2, 4, 1, 4, 1, 2, 1, 1, 2, 3, 1, 1, 4, 1, 2, 4, 2, 4, 1, 4, 2, 1, 2, 1, 2, 1, 4, 1, 1, 1, 2, 3, 1, 1, 2, 3, 2, 3, 1, 1, 2, 1, 2, 4, 3, 3, 1, 2, 4, 2, 1, 1, 2, 1, 2, 1, 1, 3, 2, 2, 1, 3, 4, 1, 4, 3, 3, 5, 3, 1, 2, 1, 3, 3, 1, 1, 1, 1, 3, 1, 2, 2, 2, 1, 2, 1, 2, 1, 1, 1, 3, 1, 1, 2, 3, 1, 2, 1, 1, 3, 3, 4, 1, 1, 1, 5, 3, 1, 2, 1, 3, 2, 1, 1, 1, 5, 2, 5, 2, 3, 2, 4, 3, 2, 1, 3, 2, 2, 3, 1, 2, 1, 3, 1, 3, 1, 2, 4, 4, 2, 3, 2, 3, 2, 1, 1, 1, 3, 4, 1, 3, 1, 1, 1, 3, 2, 2, 1, 1, 1, 1, 1, 1, 3, 3, 2, 1, 1, 1, 3, 2, 1, 1, 2, 2, 1, 1, 1, 2, 2, 1, 1, 4, 4, 1, 3, 3, 1, 1, 1, 2, 1, 1, 1, 2, 4, 2, 1, 1, 1, 1, 2, 3, 1, 2, 1, 1, 1, 3, 1, 1, 2, 2, 1, 4, 1, 2, 4, 2, 3, 1, 2, 4, 1, 1, 4, 4, 1, 3, 2, 2, 4, 5, 1, 3, 2, 1, 1, 5, 1, 1, 1, 3, 3, 1, 3, 4, 1, 2, 2, 4, 1, 2, 3, 3, 1, 2, 1, 2, 3, 1, 2, 3, 3, 5, 1, 4, 5, 1, 3, 1, 3, 1, 2, 5, 2, 3, 5, 2, 1, 2, 1, 1, 3, 4, 1, 3, 1, 1, 1, 1, 3, 3, 2, 3, 3, 2, 1, 1, 1, 1, 1, 3, 1, 1, 2, 1, 3, 1, 1, 1, 1, 1, 1, 4, 1, 1, 2, 2, 4, 1, 1, 3, 1, 1, 2, 2, 1, 1, 2, 1, 2, 5, 3, 1, 3, 1, 1, 5, 1, 1, 2, 4, 1, 2, 3, 1, 1, 1, 3, 1, 1, 2, 1, 2, 1, 2, 2, 1, 2, 1, 2, 1, 1, 1, 4, 2, 1, 3, 1, 1, 4, 3, 2, 1, 2, 1, 5, 2, 2, 4, 3, 2, 2, 3, 1, 1, 1, 1, 4, 2, 2, 3, 2, 1, 3, 2, 1, 1, 1, 3, 1, 2, 1, 1, 1, 1, 1, 2, 1, 1, 1, 4, 1, 2, 2, 3, 2, 3, 4, 1, 2, 1, 1, 2, 2, 2, 2, 1, 4, 2, 2, 3, 1, 3, 2, 2, 2, 1, 1, 4, 2, 2, 2, 1, 1, 4, 2, 1, 1, 1, 1, 2, 1, 1, 1, 1, 2, 1, 2, 1, 4, 1, 4, 2, 3, 4, 2, 1, 3, 1, 3, 5, 2, 2, 1, 1, 1, 1, 1, 1, 2, 1, 2, 1, 3, 3, 2, 2, 1, 1, 1, 1, 1, 1, 1, 4, 2, 2, 1, 1, 2, 4, 3, 1, 2, 4, 2, 3, 3, 1, 1, 1, 1, 1, 1, 4, 1, 1, 3, 3, 1, 1, 2, 1, 1, 2, 1, 1, 1, 1, 2, 1, 4, 3, 1, 1, 1, 3, 1, 2, 1, 1, 3, 1, 1, 1, 1, 1, 3, 2, 1, 1, 1, 1, 1, 1, 1, 3, 3, 1, 1, 5, 3, 2, 1, 2, 1, 4, 1, 1, 1, 2, 2, 3, 1, 1, 3, 1, 1, 1, 1, 3, 1, 2, 1, 1, 1, 3, 1, 1, 4, 1, 4, 3, 3, 1, 1, 2, 5, 1, 1, 4, 1, 3, 1, 1, 4, 4, 1, 1, 3, 4, 4, 2, 2, 1, 1, 2, 2, 1, 2, 3, 4, 4, 1, 1, 1, 3, 3, 3, 1, 1, 2, 5, 4, 4, 4, 1, 2, 2, 3, 2, 1, 3, 1, 2, 4, 3, 3, 3, 2, 2, 4, 3, 1, 2, 3, 1, 1, 4, 1, 4, 1, 1, 3, 1, 1, 3, 2, 1, 2, 1, 1, 1, 3, 2, 2, 4, 3, 1, 1, 1, 1, 3, 1, 4, 3, 1, 3, 2, 1, 1, 2, 3, 2, 1, 3, 1, 1, 3, 2, 1, 5, 1, 3, 1, 1, 3, 1, 2, 2, 1, 1, 1, 1, 1, 1, 2, 1, 2, 2, 1, 2, 4, 3, 2, 2, 1, 1, 1, 3, 1, 1, 1, 1, 2, 1, 4, 4, 3, 3, 1, 1, 2, 3, 1, 1, 5, 2, 3, 2, 3, 1, 1, 3, 1, 1, 2, 3, 1, 2, 1, 1, 2, 3, 1, 1, 2, 2, 5, 1, 4, 1, 2, 1, 1, 3, 1, 4, 3, 1, 2, 1, 5, 3, 2, 1, 3, 1, 2, 2, 2, 1, 2, 1, 1, 1, 3, 1, 1, 4, 1, 3, 5, 1, 1, 1, 2, 2, 3, 1, 1, 1, 4, 1, 2, 1, 4, 3, 3, 2, 5, 2, 4, 1, 1, 1, 3, 1, 2, 3, 2, 1, 3, 3, 5, 1, 1, 3, 3, 1, 1, 1, 1, 2, 3, 1, 2, 4, 1, 3, 3, 1, 1, 5, 3, 1, 1, 1, 2, 2, 3, 1, 1, 3, 4, 2, 3, 1, 2, 3, 1, 2, 3, 4, 1, 2, 4, 1, 2, 1, 2, 1, 1, 1, 3, 1, 3, 2, 2, 1, 5, 3, 2, 1, 1, 1, 3, 1, 1, 4, 1, 1, 1, 1, 1, 3, 1, 3, 2, 4, 2, 4, 2, 2, 1, 4, 2, 1, 1, 4, 2, 4, 2, 2, 1, 4, 3, 2, 1, 2, 2, 2, 1, 1, 4, 3, 4, 1, 1, 1, 3, 1, 1, 2, 4, 2, 1, 4, 2, 3, 5, 3, 2, 1, 1, 1, 1, 2, 1, 1, 1, 2, 1, 1, 1, 3, 2, 1, 5, 3, 1, 4, 2, 1, 1, 1, 2, 2, 1, 3, 1, 4, 3, 5, 5, 4, 1, 1, 5, 2, 1, 5, 3, 3, 2, 5, 2, 1, 1, 3, 1, 2, 2, 1, 2, 1, 4, 1, 1, 1, 2, 2, 1, 1, 1, 4, 2, 3, 3, 1, 2, 2, 4, 2, 1, 3, 1, 4, 1, 3, 2, 2, 2, 3, 1, 3, 2, 2, 1, 1, 1, 1, 3, 1, 3, 2, 1, 4, 1, 4, 2, 4, 2, 3, 2, 3, 4, 1, 1, 1, 3, 1, 2, 1, 2, 4, 1, 2, 2, 2, 1, 1, 1, 2, 1, 3, 2, 1, 3, 2, 2, 3, 2, 4, 3, 2, 1, 1, 2, 3, 1, 4, 5, 1, 1, 1, 4, 2, 4, 2, 1, 1, 1, 1, 2, 2, 4, 1, 2, 1, 1, 1, 5, 1, 2, 2, 1, 1, 1, 2, 2, 1, 2, 2, 2, 3, 5, 1, 2, 2, 3, 4, 1, 2, 2, 1, 2, 1, 1, 2, 1, 2, 1, 2, 3, 5, 3, 3, 1, 3, 3, 1, 1, 1, 5, 3, 2, 3, 1, 1, 3, 3, 4, 1, 1, 2, 2, 3, 4, 3, 3, 1, 2, 3, 1, 3, 4, 2, 3, 1, 3, 2, 1, 1, 2, 2, 2, 1, 5, 1, 1, 2, 3, 1, 1, 1, 1, 1, 1, 2, 2, 2, 3, 1, 4, 1, 2, 1, 1, 2, 1, 1, 4, 1, 1, 1, 2, 2, 2, 3, 3, 3, 1, 3, 1, 2, 2, 5, 5, 3, 3, 4, 3, 4, 4, 1, 3, 4, 1, 4, 1, 1, 4, 2, 4, 2, 1, 1, 2, 1, 3, 1, 2, 3, 3, 2, 3, 1, 2, 1, 2, 2, 3, 1, 1, 1, 1, 2, 3, 1, 1, 1, 1, 2, 4, 1, 2, 3, 1, 2, 2, 5, 1, 3, 1, 1, 1, 1, 5, 1, 1, 5, 2, 1, 4, 1, 2, 1, 1, 4, 1, 2, 2, 1, 1, 4, 1, 1, 2, 2, 3, 1, 2, 2, 1, 1, 2, 5, 2, 4, 1, 1, 1, 2, 3, 1, 5, 1, 3, 1, 2, 1, 1, 2, 1, 1, 1, 1, 2, 1, 4, 1, 1, 1, 4, 2, 2, 2, 1, 1, 3, 3, 2, 1, 4, 1, 2, 1, 4, 1, 1, 1, 4, 4, 2, 3, 3, 4, 1, 4, 2, 1, 2, 2, 2, 3, 2, 4, 3, 2, 3, 3, 2, 1, 3, 2, 4, 1, 1, 5, 3, 2, 2, 2, 5, 1, 4, 3, 2, 1, 1, 1, 2, 1, 2, 1, 1, 3, 2, 2, 2, 4, 1, 1, 1, 1, 4, 4, 1, 1, 1, 3, 1, 1, 1, 2, 3, 2, 3, 3, 1, 1, 3, 4, 5, 1, 1, 1, 2, 1, 1, 3, 2, 1, 1, 1, 1, 3, 2, 1, 2, 5, 3, 4, 3, 3, 2, 1, 1, 3, 3, 5, 2, 3, 4, 4, 1, 1, 1, 1, 1, 4, 1, 2, 5, 3, 1, 1, 3, 1, 1, 1, 1, 1, 1, 1, 2, 1, 5, 5, 5, 3, 3, 2, 1, 1, 4, 1, 3, 2, 2, 1, 4, 3, 2, 1, 3, 4, 2, 2, 3, 1, 3, 2, 2, 2, 1, 3, 1, 2, 1, 2, 5, 1, 4, 1, 3, 2, 1, 1, 3, 4, 4, 1, 2, 5, 1, 1, 1, 3, 1, 4, 2, 1, 2, 1, 1, 2, 1, 1, 2, 3, 1, 2, 2, 1, 1, 2, 1, 2, 3, 2, 1, 3, 3, 2, 2, 1, 1, 2, 3, 1, 1, 4, 2, 1, 1, 1, 1, 1, 4, 4, 1, 1, 1, 3, 3, 1, 3, 1, 1, 3, 4, 4, 3, 1, 1, 1, 2, 2, 2, 2, 1, 1, 1, 2, 2, 2, 4, 1, 4, 3, 1, 2, 3, 1, 1, 2, 2, 1, 4, 1, 3, 2, 1, 1, 2, 1, 5, 3, 2, 2, 4, 1, 4, 3, 2, 2, 1, 3, 3, 1, 1, 3, 1, 1, 2, 2, 2, 1, 1, 1, 3, 1, 1, 1, 2, 3, 2, 1, 1, 1, 4, 5, 2, 4, 1, 3, 1, 1, 1, 2, 1, 2, 2, 1, 3, 3, 1, 1, 2, 3, 5, 2, 2, 2, 1, 3, 1, 3, 2, 2, 1, 1, 1, 1, 3, 1, 1, 3, 1, 2, 1, 3, 3, 1, 1, 2, 2, 1, 5, 1, 3, 2, 2, 1, 1, 3, 1, 2, 1, 1, 1, 1, 2, 2, 2, 5, 1, 1, 2, 3, 2, 4, 1, 2, 2, 1, 5, 2, 4, 2, 1, 5, 1, 4, 1, 3, 1, 2, 4, 1, 1, 2, 2, 1, 2, 1, 1, 1, 1, 2, 1, 3, 1, 1, 1, 2, 2, 4, 5, 1, 2, 1, 4, 1, 4, 3, 2, 4, 2, 1, 4, 3, 2, 1, 3, 2, 3, 2, 1, 2, 1, 2, 1, 5, 2, 1, 3, 1, 3, 1, 2, 1, 1, 2, 3, 3, 1, 2, 1, 2, 4, 3, 4, 1, 1, 1, 1, 1, 1, 3, 2, 1, 1, 1, 1, 1, 1, 2, 1, 1, 1, 1, 1, 1, 4, 2, 1, 3, 1, 1, 1, 2, 2, 1, 1, 3, 2, 3, 5, 3, 1, 1, 1, 3, 1, 1, 2, 4, 2, 3, 1, 4, 1, 3, 2, 1, 1, 2, 1, 2, 1, 4, 2, 4, 2, 1, 1, 2, 4, 1, 1, 5, 2, 1, 1, 1, 1, 3, 1, 2, 2, 2, 3, 5, 2, 2, 1, 1, 2, 3, 1, 2, 3, 2, 1, 5, 2, 2, 2, 2, 2, 4, 1, 1, 2, 1, 1, 1, 5, 3, 2, 1, 1, 2, 2, 1, 4, 1, 1, 2, 1, 2, 1, 2, 5, 2, 1, 2, 2, 4, 5, 3, 3, 1, 1, 1, 5, 3, 1, 1, 5, 2, 1, 4, 2, 5, 1, 1, 2, 1, 3, 1, 1, 1, 1, 1, 1, 3, 1, 4, 1, 2, 2, 2, 1, 4, 1, 4, 4, 1, 1, 4, 2, 2, 5, 2, 1, 1, 1, 2, 3, 2, 1, 1, 1, 1, 2, 2, 3, 1, 1, 1, 3, 2, 2, 2, 3, 1, 4, 1, 1, 3, 1, 1, 2, 1, 3, 1, 4, 2, 4, 1, 2, 1, 2, 1, 1, 1, 2, 1, 2, 2, 1, 4, 1, 1, 2, 1, 4, 1, 3, 2, 2, 2, 3, 1, 2, 1, 1, 3, 4, 3, 1, 1, 2, 3, 1, 2, 2, 3, 4, 3, 2, 3, 1, 2, 1, 1, 2, 2, 4, 2, 2, 1, 1, 1, 1, 1, 1, 1, 1, 1, 2, 1, 1, 2, 2, 1, 1, 2, 2, 1, 3, 1, 3, 1, 1, 1, 1, 3, 1, 1, 1, 5, 2, 3, 1, 3, 1, 3, 3, 4, 2, 1, 1, 2, 1, 5, 3, 2, 1, 1, 1, 1, 1, 1, 1, 1, 3, 1, 3, 1, 2, 1, 2, 1, 2, 1, 3, 2, 2, 2, 1, 2, 5, 3, 3, 1, 1, 1, 2, 1, 1, 1, 1, 3, 1, 2, 3, 1, 2, 1, 4, 1, 1, 1, 2, 4, 1, 1, 1, 2, 2, 1, 1, 5, 1, 3, 2, 2, 2, 2, 4, 1, 3, 1, 3, 1, 1, 1, 1, 1, 1, 3, 1, 1, 1, 3, 2, 4, 3, 1, 3, 3, 1, 1, 3, 1, 2, 4, 2, 3, 2, 1, 3, 1, 3, 4, 2, 2, 1, 4, 3, 1, 2, 1, 2, 1, 2, 2, 3, 2, 1, 2, 4, 4, 3, 1, 2, 1, 3, 3, 1, 1, 1, 2, 4, 1, 3, 2, 3, 1, 1, 1, 1, 4, 2, 3, 1, 1, 1, 1, 3, 2, 2, 1, 2, 3, 3, 2, 5, 2, 1, 1, 1, 5, 3, 2, 5, 1, 3, 1, 1, 1, 1, 2, 2, 3, 3, 1, 1, 1, 1, 1, 2, 1, 1, 1, 2, 3, 3, 4, 1, 2, 1, 2, 1, 3, 1, 1, 4, 1, 2, 1, 4, 1, 2, 2, 1, 5, 3, 1, 1, 1, 3, 1, 1, 1, 2, 2, 1, 2, 3, 2, 3, 3, 2, 1, 5, 1, 1, 2, 2, 2, 1, 1, 2, 1, 1, 1, 2, 4, 4, 1, 1, 1, 3, 1, 2, 1, 2, 1, 2, 1, 3, 3, 3, 1, 1, 1, 1, 2, 1, 2, 2, 1, 2, 4, 2, 1, 1, 3, 3, 1, 3, 3, 1, 3, 1, 2, 1, 2, 3, 1, 5, 1, 1, 2, 3, 1, 1, 2, 2, 2, 2, 1, 3, 4, 1, 1, 2, 2, 1, 4, 4, 1, 4, 2, 4, 1, 1, 1, 3, 1, 1, 1, 2, 2, 3, 3, 1, 4, 1, 1, 2, 1, 4, 1, 1, 1, 2, 3, 3, 1, 3, 2, 3, 2, 5, 1, 2, 5, 3, 5, 2, 2, 4, 4, 2, 4, 1, 1, 1, 3, 4, 1, 2, 2, 3, 1, 2, 2, 3, 4, 3, 2, 1, 5, 2, 1, 3, 1, 3, 1, 5, 3, 1, 1, 1, 1, 1, 4, 2, 3, 1, 2, 1, 1, 4, 2, 1, 2, 3, 1, 2, 3, 4, 3, 2, 1, 1, 1, 3, 1, 3, 2, 1, 3, 2, 2, 1, 1, 1, 1, 2, 1, 2, 1, 2, 3, 1, 1, 2, 2, 4, 1, 2, 1, 2, 1, 4, 1, 3, 1, 4, 4, 2, 1, 2, 3, 2, 1, 3, 3, 1, 2, 1, 2, 2, 4, 1, 2, 4, 4, 1, 2, 3, 5, 1, 2, 4, 1, 1, 3, 2, 3, 2, 4, 1, 1, 1, 1, 1, 3, 1, 1, 1, 2, 1, 2, 2, 1, 2, 2, 3, 1, 2, 1, 5, 2, 1, 4, 3, 1, 4, 1, 1, 4, 3, 3, 1, 1, 1, 1, 2, 3, 2, 2, 3, 3, 1, 1, 4, 5, 1, 1, 2, 4, 1, 1, 1, 3, 1, 2, 1, 5, 1, 4, 1, 3, 2, 1, 3, 3, 2, 4, 2, 5, 3, 5, 1, 2, 1, 2, 1, 1, 1, 4, 1, 1, 1, 1, 1, 2, 2, 3, 2, 1, 2, 4, 2, 1, 1, 1, 1, 2, 1, 1, 2, 2, 2, 1, 2, 2, 2, 2, 2, 3, 1, 2, 2, 1, 2, 1, 1, 1, 3, 1, 1, 1, 1, 4, 1, 1, 1, 1, 2, 1, 2, 1, 1, 1, 4, 4, 1, 2, 2, 4, 2, 1, 1, 2, 1, 4, 3, 5, 3, 1, 1, 3, 1, 4, 1, 1, 1, 1, 3, 1, 4, 2, 2, 2, 1, 4, 1, 1, 4, 2, 1, 2, 1, 1, 1, 3, 3, 1, 2, 1, 1, 1, 4, 1, 1, 3, 1, 4, 3, 2, 1, 3, 4, 4, 4, 1, 1, 1, 1, 1, 2, 3, 2, 2, 3, 2, 2, 2, 1, 3, 2, 4, 2, 2, 1, 1, 1, 2, 1, 4, 2, 1, 5, 3, 4, 1, 1, 4, 2, 2, 4, 2, 3, 1, 1, 4, 4, 1, 2, 3, 2, 1, 3, 2, 2, 3, 1, 3, 1, 1, 2, 1, 1, 1, 2, 1, 2, 5, 1, 1, 2, 4, 4, 4, 1, 2, 2, 1, 3, 1, 1, 1, 4, 2, 1, 1, 2, 3, 2, 2, 2, 1, 3, 1, 1, 3, 1, 1, 2, 2, 1, 1, 1, 2, 3, 2, 3, 1, 2, 4, 3, 2, 2, 5, 3, 1, 1, 1, 2, 2, 4, 2, 3, 4, 2, 1, 3, 2, 2, 2, 2, 3, 2, 1, 3, 1, 4, 3, 3, 1, 2, 3, 1, 2, 2, 1, 2, 4, 1, 4, 2, 1, 2, 4, 3, 1, 4, 1, 2, 2, 4, 3, 3, 2, 3, 1, 1, 3, 3, 4, 1, 2, 3, 1, 1, 1, 1, 2, 1, 3, 3, 1, 2, 2, 3, 2, 3, 3, 3, 2, 1, 3, 1, 2, 1, 3, 1, 2, 2, 5, 2, 1, 1, 3, 4, 2, 3, 1, 1, 1, 2, 2, 3, 1, 1, 1, 4, 4, 1, 3, 3, 2, 1, 2, 4, 2, 2, 3, 2, 4, 2, 3, 4, 1, 2, 2, 2, 1, 1, 3, 4, 1, 4, 2, 2, 4, 2, 4, 1, 3, 3, 1, 3, 1, 1, 2, 3, 1, 1, 5, 2, 1, 3, 3, 1, 1, 1, 2, 1, 3, 1, 1, 1, 2, 4, 2, 1, 3, 3, 4, 2, 1, 2, 1, 2, 2, 2, 1, 1, 1, 2, 2, 3, 2, 4, 2, 2, 5, 2, 3, 2, 1, 1, 2, 4, 3, 3, 2, 2, 1, 2, 5, 3, 3, 4, 1, 3, 4, 2, 2, 1, 2, 2, 2, 2, 3, 4, 2, 1, 2, 2, 3, 2, 1, 1, 2, 3, 1, 3, 1, 2, 1, 1, 4, 1, 3, 2, 1, 1, 1, 2, 1, 2, 4, 1, 2, 1, 1, 2, 1, 4, 1, 1, 1, 4, 3, 3, 4, 4, 3, 3, 2, 4, 2, 1, 2, 3, 3, 4, 1, 1, 2, 2, 1, 1, 1, 3, 2, 2, 1, 1, 5, 1, 2, 2, 3, 3, 4, 4, 1, 3, 1, 1, 1, 1, 1, 1, 1, 2, 2, 3, 3, 3, 1, 3, 1, 1, 1, 3, 3, 1, 1, 1, 2, 1, 1, 1, 1, 2, 1, 5, 3, 1, 3, 1, 1, 2, 1, 1, 3, 1, 1, 4, 1, 3, 2, 3, 1, 4, 3, 4, 1, 1, 2, 1, 2, 1, 1, 2, 1, 1, 1, 1, 1, 1, 1, 5, 5, 1, 1, 2, 1, 5, 3, 4, 4, 3, 4, 1, 1, 2, 5, 1, 1, 2, 3, 1, 3, 1, 4, 1, 2, 2, 1, 3, 2, 4, 1, 1, 1, 1, 2, 2, 1, 2, 2, 1, 1, 1, 4, 1, 3, 2, 1, 4, 4, 5, 1, 3, 1, 4, 1, 1, 4, 2, 2, 4, 1, 2, 1, 1, 3, 2, 3, 3, 1, 2, 2, 4, 1, 1, 3, 4, 1, 3, 2, 2, 3, 2, 1, 2, 2, 3, 3, 4, 2, 1, 2, 4, 1, 2, 1, 1, 2, 3, 1, 1, 1, 3, 2, 3, 1, 4, 3, 1, 1, 2, 4, 2, 2, 4, 1, 2, 1, 2, 4, 1, 4, 2, 2, 3, 1, 1, 1, 1, 1, 2, 3, 1, 2, 3, 3, 3, 1, 5, 2, 2, 4, 3, 2, 1, 3, 1, 2, 3, 1, 4, 3, 2, 1, 1, 1, 2, 4, 3, 3, 3, 1, 4, 3, 1, 1, 2, 1, 2, 4, 2, 5, 4, 1, 1, 1, 4, 2, 3, 3, 1, 1, 1, 2, 3, 2, 1, 2, 4, 3, 1, 2, 2, 1, 1, 3, 3, 4, 4, 1, 2, 1, 4, 1, 2, 1, 2, 1, 1, 4, 3, 5, 1, 2, 2, 1, 1, 1, 3, 1, 2, 1, 1, 1, 4, 2, 2, 1, 3, 1, 1, 2, 4, 3, 1, 3, 1, 4, 1, 1, 3, 2, 1, 2, 3, 1, 2, 2, 5, 5, 1, 2, 1, 1, 2, 1, 1, 1, 3, 1, 1, 5, 1, 3, 1, 3, 4, 2, 1, 4, 2, 1, 3, 2, 2, 1, 1, 3, 1, 1, 1, 1, 1, 3, 4, 1, 4, 2, 1, 3, 4, 3, 1, 3, 1, 1, 3, 1, 2, 2, 2, 1, 1, 1, 5, 2, 3, 1, 1, 2, 3, 1, 4, 3, 2, 2, 3, 4, 1, 4, 4, 1, 2, 2, 2, 1, 2, 4, 1, 1, 1, 4, 3, 2, 1, 1, 1, 2, 1, 2, 2, 1, 2, 3, 1, 1, 2, 4, 1, 3, 1, 3, 2, 1, 5, 3, 2, 1, 1, 3, 4, 2, 3, 2, 3, 1, 1, 1, 2, 2, 3, 2, 1, 1, 3, 2, 1, 1, 3, 1, 1, 5, 2, 2, 3, 1, 4, 1, 3, 1, 2, 1, 1, 2, 1, 1, 3, 1, 3, 2, 1, 2, 3, 2, 2, 1, 1, 1, 3, 4, 2, 2, 2, 4, 1, 3, 3, 5, 1, 1, 3, 1, 4, 2, 1, 1, 3, 4, 3, 2, 2, 2, 1, 3, 1, 3, 3, 1, 4, 4, 1, 2, 1, 2, 1, 1, 2, 1, 1, 1, 3, 2, 4, 1, 1, 2, 2, 2, 2, 1, 2, 1, 4, 1, 1, 2, 3, 1, 1, 1, 4, 1, 1, 2, 4, 2, 1, 2, 2, 1, 5, 2, 2, 2, 4, 4, 3, 2, 1, 2, 2, 1, 3, 3, 2, 5, 1, 1, 2, 1, 2, 5, 1, 3, 2, 3, 1, 2, 1, 1, 3, 2, 2, 1, 1, 2, 2, 4, 2, 2, 2, 4, 4, 2, 2, 4, 2, 1, 1, 2, 3, 1, 1, 1, 4, 2, 1, 1, 1, 1, 1, 3, 3, 1, 1, 5, 1, 2, 1, 3, 2, 3, 4, 1, 1, 3, 2, 1, 2, 3, 4, 3, 2, 1, 4, 1, 4, 1, 2, 2, 4, 1, 1, 1, 1, 1, 1, 2, 1, 1, 1, 1, 4, 1, 2, 1, 1, 2, 5, 2, 1, 1, 3, 3, 1, 1, 1, 1, 1, 2, 1, 5, 4, 1, 1, 2, 3, 2, 1, 2, 1, 3, 2, 1, 2, 3, 3, 1, 1, 1, 4, 2, 4, 1, 3, 5, 1, 3, 1, 3, 2, 1, 4, 2, 2, 3, 1, 5, 4, 1, 2, 3, 1, 1, 3, 1, 4, 2, 4, 3, 1, 1, 2, 2, 2, 1, 3, 2, 1, 2, 1, 1, 4, 2, 2, 4, 1, 3, 2, 1, 4, 3, 1, 1, 3, 4, 1, 4, 2, 2, 1, 1, 2, 1, 1, 1, 1, 2, 1, 3, 1, 3, 1, 5, 2, 1, 1, 1, 3, 1, 4, 2, 2, 3, 4, 1, 1, 1, 5, 1, 3, 1, 1, 2, 1, 3, 2, 3, 4, 1, 2, 1, 1, 1, 1, 2, 2, 3, 3, 3, 1, 4, 1, 3, 2, 4, 4, 1, 4, 1, 2, 1, 1, 1, 2, 1, 2, 1, 3, 1, 3, 2, 1, 3, 4, 2, 3, 1, 1, 1, 1, 1, 1, 2, 1, 3, 1, 3, 4, 5, 4, 2, 4, 2, 3, 1, 2, 4, 1, 3, 3, 3, 2, 1, 3, 4, 1, 2, 5, 4, 2, 2, 1, 3, 3, 1, 1, 5, 2, 2, 1, 3, 3, 3, 2, 4, 4, 2, 2, 1, 1, 3, 1, 1, 2, 1, 1, 3, 2, 4, 1, 1, 2, 1, 1, 3, 3, 1, 1, 3, 1, 1, 1, 3, 1, 1, 1, 1, 5, 3, 2, 3, 1, 3, 2, 3, 1, 1, 1, 3, 4, 1, 2, 1, 1, 5, 3, 1, 3, 4, 2, 4, 3, 2, 4, 1, 1, 3, 1, 1, 1, 2, 1, 2, 1, 1, 1, 1, 1, 1, 1, 1, 2, 2, 2, 2, 1, 3, 2, 3, 1, 1, 1, 1, 2, 1, 1, 3, 3, 2, 1, 2, 2, 1, 1, 2, 1, 1, 1, 1, 1, 2, 1, 1, 2, 1, 3, 1, 1, 2, 2, 1, 1, 4, 1, 3, 2, 2, 3, 3, 2, 4, 2, 4, 1, 3, 2, 1, 1, 1, 4, 2, 3, 1, 2, 4, 3, 2, 2, 1, 3, 1, 1, 4, 2, 3, 2, 4, 3, 1, 1, 1, 3, 2, 1, 2, 1, 4, 4, 1, 1, 2, 2, 3, 2, 3, 1, 5, 3, 1, 3, 1, 1, 2, 1, 1, 3, 2, 2, 1, 2, 1, 1, 2, 3, 1, 4, 1, 1, 1, 1, 1, 1, 1, 1, 1, 3, 2, 2, 3, 1, 2, 2, 5, 1, 1, 5, 1, 3, 1, 3, 2, 1, 2, 3, 1, 3, 2, 1, 1, 3, 1, 4, 3, 4, 3, 1, 1, 1, 1, 4, 1, 1, 1, 3, 4, 1, 1, 1, 5, 1, 1, 1, 1, 2, 2, 4, 1, 2, 3, 2, 3, 2, 1, 1, 1, 3, 1, 1, 4, 1, 1, 4, 1, 3, 2, 4, 3, 2, 1, 3, 1, 1, 1, 1, 1, 1, 2, 1, 1, 1, 3, 1, 3, 1, 3, 1, 1, 3, 2, 3, 1, 4, 3, 1, 2, 2, 1, 3, 3, 1, 5, 2, 3, 2, 1, 3, 3, 2, 2, 1, 2, 2, 1, 1, 2, 3, 1, 1, 1, 3, 4, 2, 3, 2, 3, 4, 2, 2, 1, 3, 1, 1, 1, 1, 2, 2, 1, 1, 2, 1, 1, 2, 1, 5, 1, 1, 2, 2, 3, 1, 1, 3, 2, 1, 1, 4, 3, 1, 1, 1, 2, 4, 4, 1, 1, 4, 1, 1, 3, 2, 2, 1, 2, 3, 2, 3, 2, 2, 3, 3, 1, 1, 1, 1, 4, 2, 1, 2, 2, 3, 2, 3, 3, 2, 1, 3, 2, 2, 2, 5, 4, 1, 2, 4, 1, 3, 2, 2, 4, 1, 1, 1, 1, 3, 3, 1, 1, 2, 2, 4, 2, 2, 1, 2, 4, 1, 2, 1, 1, 1, 1, 3, 1, 1, 2, 1, 1, 2, 1, 1, 2, 2, 3, 2, 2, 2, 2, 2, 2, 1, 1, 3, 3, 5, 5, 1, 3, 2, 4, 3, 1, 2, 2, 2, 2, 2, 1, 1, 3, 2, 1, 1, 3, 1, 3, 1, 1, 3, 1, 2, 4, 5, 3, 2, 4, 1, 2, 1, 1, 3, 1, 2, 1, 1, 1, 5, 2, 1, 4, 2, 1, 5, 1, 1, 2, 1, 2, 2, 1, 3, 1, 3, 2, 1, 1, 5, 2, 2, 3, 3, 1, 2, 1, 1, 2, 2, 2, 2, 3, 1, 1, 1, 3, 1, 1, 5, 3, 2, 1, 4, 2, 3, 1, 2, 1, 1, 3, 1, 2, 2, 5, 3, 1, 3, 1, 1, 1, 3, 2, 1, 1, 2, 3, 4, 1, 2, 1, 4, 1, 1, 2, 1, 1, 1, 1, 3, 1, 1, 2, 3, 1, 1, 3, 3, 1, 1, 3, 4, 3, 2, 1, 4, 1, 1, 3, 4, 1, 1, 2, 2, 2, 1, 4, 1, 1, 2, 3, 2, 3, 1, 4, 2, 1, 2, 2, 1, 2, 1, 1, 4, 2, 5, 2, 1, 3, 1, 1, 2, 3, 1, 2, 4, 4, 1, 2, 1, 3, 2, 2, 1, 1, 2, 2, 3, 3, 3, 4, 1, 1, 3, 1, 2, 3, 2, 2, 1, 2, 2, 1, 1, 1, 4, 5, 3, 2, 2, 1, 1, 1, 1, 3, 1, 2, 1, 1, 1, 3, 5, 4, 2, 4, 3, 1, 1, 2, 3, 1, 2, 1, 1, 1, 1, 2, 3, 4, 1, 3, 3, 1, 2, 2, 5, 5, 1, 2, 1, 1, 1, 4, 1, 1, 1, 2, 3, 5, 1, 4, 3, 1, 1, 1, 2, 1, 1, 1, 1, 4, 3, 2, 5, 2, 1, 2, 1, 2, 1, 1, 2, 2, 1, 1, 1, 1, 5, 2, 2, 1, 2, 3, 2, 2, 1, 4, 1, 1, 2, 1, 1, 3, 1, 1, 2, 1, 2, 1, 1, 1, 3, 1, 1, 1, 1, 1, 2, 2, 3, 1, 1, 1, 1, 2, 1, 2, 2, 1, 3, 1, 1, 1, 4, 3, 2, 1, 1, 1, 2, 4, 1, 1, 1, 1, 1, 1, 3, 3, 4, 1, 2, 3, 2, 1, 1, 3, 2, 3, 3, 2, 4, 1, 3, 1, 2, 4, 3, 2, 1, 2, 3, 2, 1, 1, 1, 2, 1, 1, 2, 1, 2, 1, 1, 5, 2, 1, 2, 1, 1, 5, 4, 4, 1, 3, 2, 2, 4, 1, 2, 5, 2, 1, 2, 2, 1, 3, 2, 4, 1, 1, 1, 3, 1, 2, 3, 2, 2, 4, 1, 1, 1, 4, 1, 3, 2, 2, 4, 1, 2, 1, 4, 1, 1, 1, 1, 1, 1, 3, 1, 1, 2, 3, 1, 3, 1, 2, 2, 2, 2, 2, 2, 1, 3, 2, 2, 1, 1, 2, 1, 1, 2, 1, 1, 3, 1, 1, 3, 1, 3, 2, 3, 1, 4, 2, 3, 1, 1, 1, 1, 2, 3, 1, 5, 2, 1, 5, 1, 1, 1, 1, 1, 3, 1, 2, 4, 2, 1, 1, 1, 1, 5, 1, 2, 1, 1, 1, 1, 4, 4, 3, 1, 2, 2, 1, 4, 1, 5, 1, 1, 1, 4, 2, 1, 4, 2, 2, 3, 4, 2, 1, 3, 1, 4, 2, 3, 1, 4, 2, 4, 1, 1, 2, 1, 3, 2, 3, 1, 1, 1, 2, 1, 2, 1, 1, 1, 2, 1, 3, 1, 1, 5, 1, 2, 3, 2, 2, 1, 2, 2, 1, 3, 2, 1, 2, 4, 3, 1, 3, 1, 1, 4, 1, 1, 1, 3, 3, 1, 4, 1, 1, 1, 1, 3, 3, 1, 3, 1, 1, 2, 2, 2, 1, 4, 3, 3, 3, 1, 2, 4, 1, 2, 2, 3, 1, 2, 5, 1, 2, 1, 2, 4, 2, 1, 5, 3, 1, 2, 4, 4, 1, 1, 2, 1, 3, 4, 4, 3, 1, 4, 2, 2, 1, 1, 3, 2, 2, 1, 4, 2, 4, 3, 1, 1, 1, 1, 1, 1, 4, 3, 1, 1, 1, 2, 1, 1, 1, 3, 4, 1, 1, 2, 4, 4, 2, 2, 4, 2, 4, 2, 1, 3, 2, 2, 1, 2, 1, 1, 2, 1, 1, 4, 2, 1, 1, 1, 1, 1, 4, 5, 1, 1, 1, 2, 3, 1, 1, 1, 3, 1, 5, 2, 4, 1, 1, 1, 2, 1, 1, 3, 1, 1, 1, 2, 1, 1, 1, 1, 1, 1, 3, 3, 5, 2, 3, 2, 2, 1, 1, 1, 1, 3, 1, 3, 1, 4, 1, 2, 3, 2, 1, 4, 2, 1, 1, 1, 1, 2, 2, 2, 1, 1, 3, 3, 4, 2, 1, 1, 3, 3, 1, 2, 1, 4, 3, 3, 3, 1, 2, 3, 1, 2, 3, 2, 4, 1, 1, 1, 2, 2, 3, 5, 2, 2, 1, 1, 2, 3, 2, 2, 1, 1, 1, 2, 1, 4, 4, 2, 3, 1, 2, 2, 1, 4, 2, 1, 1, 1, 3, 2, 2, 1, 1, 1, 3, 1, 2, 2, 4, 2, 3, 1, 4, 2, 2, 2, 2, 2, 4, 1, 1, 2, 2, 1, 1, 1, 3, 3, 2, 3, 1, 1, 2, 1, 1, 2, 1, 2, 1, 2, 1, 1, 2, 3, 1, 2, 1, 1, 3, 1, 2, 2, 1, 5, 2, 2, 1, 3, 2, 3, 2, 1, 2, 1, 3, 1, 1, 2, 2, 1, 1, 2, 1, 1, 1, 1, 1, 1, 4, 1, 3, 1, 3, 3, 2, 1, 1, 2, 1, 1, 2, 3, 3, 3, 1, 1, 1, 1, 4, 2, 1, 1, 2, 3, 1, 4, 3, 4, 4, 4, 4, 3, 1, 5, 1, 4, 3, 3, 2, 1, 2, 4, 1, 1, 2, 5, 2, 4, 3, 4, 4, 2, 4, 1, 5, 2, 1, 3, 2, 3, 1, 3, 2, 3, 1, 1, 2, 3, 2, 1, 2, 2, 1, 1, 2, 1, 1, 2, 4, 1, 2, 1, 4, 1, 1, 2, 1, 1, 1, 2, 3, 1, 2, 1, 2, 2, 2, 2, 1, 1, 2, 2, 1, 2, 2, 2, 1, 1, 1, 3, 1, 2, 1, 2, 4, 4, 4, 5, 1, 1, 2, 4, 5, 1, 1, 1, 1, 1, 3, 1, 2, 3, 3, 2, 4, 1, 2, 2, 1, 1, 1, 1, 4, 1, 1, 1, 1, 3, 1, 4, 1, 2, 3, 2, 1, 5, 1, 2, 3, 2, 5, 2, 4, 2, 1, 2, 3, 1, 3, 4, 1, 4, 2, 2, 3, 2, 1, 2, 4, 4, 1, 2, 2, 2, 1, 1, 1, 1, 1, 2, 1, 3, 1, 2, 3, 1, 4, 3, 4, 2, 2, 1, 1, 2, 1, 1, 2, 2, 4, 2, 2, 3, 2, 1, 3, 1, 4, 1, 4, 1, 2, 1, 4, 1, 1, 3, 3, 5, 4, 1, 2, 3, 4, 1, 1, 1, 3, 1, 2, 1, 3, 2, 3, 3, 1, 1, 2, 1, 1, 1, 3, 3, 2, 2, 3, 1, 1, 1, 2, 1, 3, 2, 2, 2, 1, 1, 3, 4, 5, 1, 1, 2, 2, 2, 1, 3, 1, 1, 1, 1, 1, 2, 3, 1, 1, 1, 1, 1, 5, 3, 1, 1, 2, 2, 1, 2, 1, 2, 2, 2, 1, 1, 3, 3, 1, 1, 2, 2, 2, 1, 1, 2, 3, 3, 2, 3, 2, 1, 2, 3, 2, 1, 2, 3, 2, 1, 4, 5, 1, 1, 1, 1, 2, 3, 3, 3, 4, 3, 1, 2, 3, 1, 2, 1, 1, 2, 4, 1, 4, 5, 2, 1, 4, 2, 4, 1, 2, 1, 1, 1, 2, 4, 3, 2, 2, 1, 1, 1, 3, 1, 1, 2, 1, 3, 4, 2, 1, 2, 1, 1, 3, 1, 2, 2, 1, 1, 3, 1, 3, 1, 3, 3, 2, 1, 1, 1, 4, 1, 1, 4, 1, 3, 1, 2, 1, 5, 1, 2, 1, 2, 1, 3, 1, 1, 4, 1, 4, 1, 3, 2, 5, 1, 3, 1, 1, 2, 3, 2, 4, 1, 2, 3, 3, 3, 4, 2, 2, 1, 3, 2, 3, 2, 2, 3, 3, 3, 1, 1, 1, 1, 4, 3, 2, 2, 2, 2, 1, 1, 1, 2, 4, 2, 2, 1, 3, 4, 3, 2, 1, 3, 2, 1, 4, 1, 4, 3, 1, 4, 4, 3, 1, 1, 1, 1, 1, 1, 4, 1, 1, 2, 1, 2, 1, 1, 1, 2, 1, 1, 2, 1, 2, 3, 2, 1, 3, 1, 1, 1, 2, 1, 3, 3, 1, 1, 1, 1, 4, 2, 2, 2, 1, 1, 2, 1, 1, 2, 2, 2, 1, 1, 2, 1, 2, 4, 2, 4, 2, 5, 2, 3, 1, 1, 2, 2, 1, 1, 1, 2, 1, 4, 2, 4, 4, 4, 1, 3, 3, 1, 2, 2, 2, 1, 3, 5, 1, 2, 2, 2, 5, 5, 4, 5, 1, 1, 1, 1, 3, 2, 2, 2, 1, 1, 1, 2, 5, 1, 3, 1, 5, 3, 1, 2, 2, 3, 1, 1, 2, 2, 2, 3, 2, 2, 3, 1, 1, 1, 3, 1, 2, 1, 1, 2, 2, 2, 1, 4, 2, 4, 1, 2, 1, 1, 1, 2, 1, 1, 1, 1, 5, 1, 3, 1, 3, 2, 1, 2, 1, 3, 2, 3, 5, 4, 2, 3, 2, 1, 1, 1, 3, 1, 2, 3, 1, 3, 5, 1, 4, 1, 1, 1, 2, 3, 5, 1, 1, 2, 1, 2, 2, 1, 1, 3, 1, 2, 3, 1, 1, 1, 1, 3, 5, 2, 1, 1, 1, 1, 4, 3, 3, 3, 1, 2, 5, 2, 3, 3, 1, 1, 1, 2, 1, 1, 1, 4, 1, 5, 1, 1, 4, 1, 2, 5, 2, 4, 1, 4, 1, 1, 5, 3, 5, 3, 5, 3, 1, 1, 3, 1, 1, 1, 2, 2, 1, 1, 3, 4, 3, 2, 1, 1, 1, 1, 2, 3, 3, 1, 3, 5, 1, 1, 3, 1, 2, 1, 3, 1, 1, 3, 1, 3, 2, 2, 2, 1, 1, 1, 3, 1, 4, 2, 2, 1, 1, 1, 3, 1, 3, 1, 1, 4, 2, 1, 1, 5, 3, 3, 1, 3, 1, 1, 4, 4, 1, 5, 2, 3, 3, 5, 2, 1, 2, 1, 1, 4, 2, 3, 1, 3, 1, 2, 2, 2, 1, 1, 1, 3, 3, 2, 4, 2, 2, 2, 2, 1, 1, 1, 1, 1, 1, 3, 5, 2, 3, 2, 2, 2, 3, 1, 1, 4, 2, 2, 5, 1, 2, 3, 2, 1, 3, 1, 1, 1, 1, 2, 1, 1, 1, 1, 2, 1, 1, 2, 3, 1, 2, 4, 2, 5, 1, 1, 4, 1, 1, 2, 5, 1, 1, 5, 2, 1, 2, 1, 2, 1, 2, 1, 1, 4, 2, 1, 3, 1, 3, 4, 2, 1, 1, 2, 5, 1, 5, 3, 1, 1, 1, 4, 3, 1, 1, 2, 1, 2, 5, 3, 2, 2, 2, 1, 3, 2, 3, 4, 1, 1, 2, 2, 3, 3, 2, 3, 1, 3, 1, 2, 1, 1, 2, 2, 3, 1, 1, 2, 1, 1, 3, 1, 2, 4, 1, 2, 3, 2, 3, 1, 2, 1, 1, 3, 2, 2, 1, 2, 2, 1, 1, 2, 3, 3, 2, 1, 1, 2, 1, 1, 3, 1, 2, 2, 1, 2, 1, 4, 3, 1, 1, 2, 3, 5, 2, 1, 4, 1, 3, 2, 2, 1, 4, 1, 1, 1, 2, 2, 1, 1, 1, 3, 4, 4, 4, 2, 2, 2, 2, 2, 2, 1, 2, 1, 1, 1, 1, 1, 2, 4, 2, 1, 3, 1, 1, 1, 1, 1, 1, 3, 4, 2, 1, 4, 1, 2, 4, 2, 3, 1, 2, 2, 1, 2, 5, 1, 2, 2, 2, 3, 2, 1, 2, 1, 1, 2, 1, 1, 3, 2, 3, 1, 1, 2, 1, 1, 2, 1, 1, 2, 2, 1, 2, 3, 1, 1, 4, 4, 3, 1, 1, 5, 5, 4, 4, 1, 3, 3, 1, 4, 1, 3, 4, 4, 1, 2, 3, 1, 2, 1, 2, 2, 1, 2, 2, 1, 2, 2, 3, 2, 1, 1, 3, 1, 2, 2, 4, 2, 5, 3, 1, 1, 2, 1, 2, 4, 2, 1, 3, 4, 1, 3, 2, 2, 1, 1, 4, 2, 1, 1, 1, 1, 4, 1, 1, 1, 5, 2, 2, 1, 4, 5, 3, 3, 1, 1, 3, 1, 4, 1, 1, 2, 3, 1, 5, 4, 3, 3, 2, 3, 1, 2, 1, 2, 2, 5, 1, 1, 1, 2, 3, 2, 2, 1, 2, 5, 3, 1, 1, 2, 1, 2, 4, 1, 1, 3, 3, 3, 1, 1, 2, 3, 2, 4, 3, 1, 4, 3, 1, 1, 3, 1, 5, 1, 1, 1, 1, 1, 2, 3, 4, 1, 1, 1, 1, 2, 2, 1, 2, 4, 2, 1, 4, 1, 2, 1, 3, 1, 3, 2, 5, 5, 2, 1, 2, 1, 1, 3, 1, 1, 1, 1, 2, 2, 1, 3, 1, 2, 1, 5, 2, 3, 2, 1, 1, 3, 2, 4, 1, 2, 1, 1, 4, 1, 1, 1, 2, 1, 1, 3, 2, 1, 1, 2, 1, 1, 4, 1, 1, 3, 1, 1, 3, 2, 1, 2, 3, 2, 1, 2, 3, 4, 3, 2, 1, 2, 2, 1, 1, 1, 1, 1, 1, 5, 1, 2, 2, 2, 1, 1, 2, 1, 1, 4, 2, 3, 2, 1, 2, 3, 2, 2, 4, 3, 1, 2, 4, 2, 1, 2, 5, 1, 1, 1, 2, 3, 1, 2, 1, 1, 1, 1, 1, 1, 3, 1, 1, 3, 1, 4, 1, 5, 3, 4, 4, 1, 3, 1, 1, 1, 1, 1, 2, 1, 1, 2, 1, 1, 3, 2, 5, 4, 1, 1, 4, 1, 2, 5, 1, 1, 1, 2, 1, 3, 1, 1, 2, 3, 2, 1, 3, 1, 2, 1, 2, 2, 1, 2, 2, 2, 1, 4, 4, 1, 2, 2, 3, 3, 1, 1, 4, 1, 1, 1, 1, 1, 3, 1, 5, 4, 1, 3, 3, 3, 1, 1, 1, 4, 4, 2, 2, 2, 1, 1, 2, 3, 2, 4, 1, 1, 3, 4, 1, 3, 3, 1, 1, 1, 1, 1, 2, 2, 2, 3, 2, 2, 1, 4, 1, 5, 2, 2, 3, 2, 4, 1, 3, 2, 2, 2, 1, 3, 1, 3, 2, 4, 1, 3, 4, 1, 2, 3, 2, 1, 1, 3, 2, 3, 5, 2, 2, 2, 1, 2, 2, 1, 3, 2, 3, 3, 1, 1, 1, 2, 3, 3, 1, 1, 4, 1, 2, 1, 1, 3, 3, 2, 1, 1, 3, 4, 1, 4, 1, 1, 1, 1, 1, 1, 1, 2, 1, 3, 2, 1, 4, 3, 1, 1, 4, 3, 1, 4, 1, 5, 3, 1, 2, 1, 1, 3, 1, 1, 4, 2, 1, 1, 1, 1, 3, 1, 1, 2, 2, 3, 2, 5, 2, 1, 1, 3, 2, 1, 1, 4, 1, 2, 1, 2, 1, 4, 3, 1, 3, 2, 2, 1, 1, 3, 1, 3, 1, 1, 3, 2, 4, 1, 1, 4, 1, 5, 2, 3, 2, 2, 2, 1, 2, 3, 1, 2, 1, 3, 1, 3, 1, 1, 1, 2, 1, 1, 2, 2, 1, 2, 1, 2, 3, 1, 1, 3, 1, 4, 1, 4, 3, 3, 2, 1, 2, 2, 1, 1, 1, 1, 2, 2, 1, 1, 2, 1, 1, 1, 3, 1, 2, 1, 4, 4, 3, 2, 1, 1, 1, 1, 1, 3, 1, 4, 1, 1, 1, 2, 1, 1, 3, 1, 1, 1, 2, 2, 1, 1, 2, 2, 5, 4, 1, 3, 1, 3, 1, 4, 1, 3, 2, 1, 1, 4, 5, 3, 1, 1, 3, 1, 2, 1, 1, 1, 1, 4, 1, 2, 1, 2, 1, 4, 1, 2, 1, 4, 1, 1, 1, 1, 3, 2, 2, 5, 1, 2, 4, 2, 4, 1, 2, 1, 4, 2, 1, 1, 1, 1, 1, 1, 1, 1, 1, 3, 3, 1, 1, 2, 1, 3, 2, 2, 3, 4, 3, 2, 1, 1, 1, 1, 3, 5, 4, 4, 3, 1, 2, 2, 5, 1, 1, 2, 2, 2, 3, 2, 1, 2, 3, 2, 2, 3, 1, 2, 3, 3, 1, 1, 3, 2, 2, 4, 2, 2, 1, 1, 1, 1, 3, 2, 5, 2, 4, 2, 1, 2, 4, 2, 1, 4, 1, 1, 2, 5, 1, 1, 1, 4, 2, 2, 1, 1, 2, 3, 3, 1, 1, 1, 3, 1, 1, 3, 1, 5, 1, 1, 4, 2, 1, 4, 2, 5, 2, 1, 1, 1, 1, 3, 1, 2, 2, 2, 4, 1, 1, 2, 4, 1, 1, 2, 1, 3, 1, 2, 2, 3, 1, 2, 2, 2, 1, 3, 4, 1, 1, 1, 2, 2, 2, 3, 2, 3, 3, 3, 4, 3, 1, 3, 2, 2, 1, 3, 2, 2, 1, 1, 1, 1, 1, 1, 3, 2, 3, 1, 5, 3, 4, 1, 2, 1, 1, 4, 2, 4, 2, 3, 2, 2, 1, 2, 1, 1, 1, 2, 2, 3, 1, 1, 4, 4, 1, 1, 1, 3, 1, 3, 2, 1, 3, 1, 1, 1, 1, 4, 2, 1, 1, 3, 3, 2, 1, 1, 2, 2, 2, 1, 1, 1, 2, 4, 1, 2, 1, 3, 2, 1, 1, 3, 2, 2, 1, 4, 2, 1, 4, 4, 1, 4, 1, 2, 1, 4, 3, 1, 1, 4, 3, 3, 1, 3, 2, 1, 1, 1, 1, 3, 2, 2, 3, 2, 4, 1, 3, 1, 3, 1, 1, 3, 2, 1, 1, 4, 1, 3, 1, 3, 4, 1, 2, 1, 5, 1, 3, 1, 2, 1, 2, 4, 3, 2, 2, 3, 1, 1, 1, 2, 3, 1, 2, 2, 1, 3, 3, 2, 1, 3, 1, 1, 2, 5, 5, 3, 1, 4, 1, 1, 3, 5, 5, 3, 1, 3, 1, 4, 3, 2, 1, 1, 4]\n",
            "(1, 0, 0) 895\n",
            "(1, 0, 1) 68\n",
            "(1, 0, 2) 521\n",
            "(1, 0, 3) 266\n",
            "(1, 0, 4) 191\n",
            "(1, 1, 0) 1036\n",
            "(1, 1, 1) 92\n",
            "(1, 1, 2) 496\n",
            "(1, 1, 3) 341\n",
            "(1, 1, 4) 361\n",
            "(2, 0, 0) 411\n",
            "(2, 0, 1) 45\n",
            "(2, 0, 2) 110\n",
            "(2, 0, 3) 150\n",
            "(2, 0, 4) 185\n",
            "(2, 1, 0) 623\n",
            "(2, 1, 1) 55\n",
            "(2, 1, 2) 239\n",
            "(2, 1, 3) 448\n",
            "(2, 1, 4) 267\n",
            "(3, 0, 0) 673\n",
            "(3, 0, 1) 36\n",
            "(3, 0, 2) 58\n",
            "(3, 0, 3) 74\n",
            "(3, 0, 4) 73\n",
            "(3, 1, 0) 579\n",
            "(3, 1, 1) 39\n",
            "(3, 1, 2) 30\n",
            "(3, 1, 3) 88\n",
            "(3, 1, 4) 15\n",
            "(4, 0, 0) 388\n",
            "(4, 0, 1) 45\n",
            "(4, 0, 2) 28\n",
            "(4, 0, 3) 35\n",
            "(4, 0, 4) 6\n",
            "(4, 1, 0) 405\n",
            "(4, 1, 1) 10\n",
            "(4, 1, 2) 19\n",
            "(4, 1, 3) 28\n",
            "(4, 1, 4) 3\n",
            "(5, 0, 0) 84\n",
            "(5, 0, 1) 7\n",
            "(5, 0, 2) 16\n",
            "(5, 0, 3) 7\n",
            "(5, 0, 4) 0\n",
            "(5, 1, 0) 171\n",
            "(5, 1, 1) 8\n",
            "(5, 1, 2) 36\n",
            "(5, 1, 3) 15\n",
            "(5, 1, 4) 2\n",
            "Counter({1: 4267, 2: 2533, 3: 1665, 4: 967, 5: 346})\n",
            "9778\n",
            "Counter({1: 5406, 0: 4372})\n",
            "(0, 0) 2451\n",
            "(0, 1) 201\n",
            "(0, 2) 733\n",
            "(0, 3) 532\n",
            "(0, 4) 455\n",
            "(1, 0) 2814\n",
            "(1, 1) 204\n",
            "(1, 2) 820\n",
            "(1, 3) 920\n",
            "(1, 4) 648\n"
          ]
        }
      ]
    },
    {
      "cell_type": "code",
      "source": [
        "#combinations = list(product(set(ages), set(genders)))\n",
        "\n",
        "#for combination in combinations:\n",
        " #   count = sum(1 for x, y in zip(ages, genders) if x == combination[0] and y == combination[1])\n",
        "  #  print(combination, count)\n",
        "\n",
        "combinations = list(product(set(ages), set(races)))\n",
        "\n",
        "for combination in combinations:\n",
        "    count = sum(1 for x, y in zip(ages, races) if x == combination[0] and y == combination[1])\n",
        "    print(combination, count)\n",
        "\n",
        "from collections import Counter\n",
        "\n",
        "print(Counter(races))"
      ],
      "metadata": {
        "colab": {
          "base_uri": "https://localhost:8080/"
        },
        "id": "TdYghgErkd8R",
        "outputId": "eee243f7-ab4e-42e7-f220-e1e3d2293ded"
      },
      "execution_count": 25,
      "outputs": [
        {
          "output_type": "stream",
          "name": "stdout",
          "text": [
            "(1, 0) 1931\n",
            "(1, 1) 160\n",
            "(1, 2) 1017\n",
            "(1, 3) 607\n",
            "(1, 4) 552\n",
            "(2, 0) 1034\n",
            "(2, 1) 100\n",
            "(2, 2) 349\n",
            "(2, 3) 598\n",
            "(2, 4) 452\n",
            "(3, 0) 1252\n",
            "(3, 1) 75\n",
            "(3, 2) 88\n",
            "(3, 3) 162\n",
            "(3, 4) 88\n",
            "(4, 0) 793\n",
            "(4, 1) 55\n",
            "(4, 2) 47\n",
            "(4, 3) 63\n",
            "(4, 4) 9\n",
            "(5, 0) 255\n",
            "(5, 1) 15\n",
            "(5, 2) 52\n",
            "(5, 3) 22\n",
            "(5, 4) 2\n",
            "Counter({0: 5265, 2: 1553, 3: 1452, 4: 1103, 1: 405})\n"
          ]
        }
      ]
    },
    {
      "cell_type": "code",
      "source": [],
      "metadata": {
        "colab": {
          "base_uri": "https://localhost:8080/"
        },
        "outputId": "02a045b2-b0bf-42c0-ef5e-6c21a6c6c95b",
        "id": "2jIMtKg34caR"
      },
      "execution_count": null,
      "outputs": [
        {
          "output_type": "stream",
          "name": "stdout",
          "text": [
            "[]\n"
          ]
        }
      ]
    }
  ]
}